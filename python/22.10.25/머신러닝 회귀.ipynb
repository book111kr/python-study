{
 "cells": [
  {
   "cell_type": "markdown",
   "id": "7e5a083a",
   "metadata": {},
   "source": [
    "## Previous Story"
   ]
  },
  {
   "cell_type": "markdown",
   "id": "ad78f608",
   "metadata": {},
   "source": [
    "## 전에 설치하기\n",
    "- pip install statsmodels"
   ]
  },
  {
   "cell_type": "markdown",
   "id": "1db3cea7",
   "metadata": {},
   "source": [
    "## 데이터 만들기"
   ]
  },
  {
   "cell_type": "code",
   "execution_count": 1,
   "id": "c95f9960",
   "metadata": {},
   "outputs": [
    {
     "data": {
      "text/html": [
       "<div>\n",
       "<style scoped>\n",
       "    .dataframe tbody tr th:only-of-type {\n",
       "        vertical-align: middle;\n",
       "    }\n",
       "\n",
       "    .dataframe tbody tr th {\n",
       "        vertical-align: top;\n",
       "    }\n",
       "\n",
       "    .dataframe thead th {\n",
       "        text-align: right;\n",
       "    }\n",
       "</style>\n",
       "<table border=\"1\" class=\"dataframe\">\n",
       "  <thead>\n",
       "    <tr style=\"text-align: right;\">\n",
       "      <th></th>\n",
       "      <th>x</th>\n",
       "      <th>y</th>\n",
       "    </tr>\n",
       "  </thead>\n",
       "  <tbody>\n",
       "    <tr>\n",
       "      <th>0</th>\n",
       "      <td>1.0</td>\n",
       "      <td>1.0</td>\n",
       "    </tr>\n",
       "    <tr>\n",
       "      <th>1</th>\n",
       "      <td>2.0</td>\n",
       "      <td>3.0</td>\n",
       "    </tr>\n",
       "    <tr>\n",
       "      <th>2</th>\n",
       "      <td>3.0</td>\n",
       "      <td>4.0</td>\n",
       "    </tr>\n",
       "    <tr>\n",
       "      <th>3</th>\n",
       "      <td>4.0</td>\n",
       "      <td>6.0</td>\n",
       "    </tr>\n",
       "    <tr>\n",
       "      <th>4</th>\n",
       "      <td>5.0</td>\n",
       "      <td>5.0</td>\n",
       "    </tr>\n",
       "  </tbody>\n",
       "</table>\n",
       "</div>"
      ],
      "text/plain": [
       "     x    y\n",
       "0  1.0  1.0\n",
       "1  2.0  3.0\n",
       "2  3.0  4.0\n",
       "3  4.0  6.0\n",
       "4  5.0  5.0"
      ]
     },
     "execution_count": 1,
     "metadata": {},
     "output_type": "execute_result"
    }
   ],
   "source": [
    "import pandas as pd\n",
    "\n",
    "data = {'x' :[1., 2., 3., 4., 5.], 'y':[1., 3., 4., 6., 5.]}\n",
    "df = pd.DataFrame(data)\n",
    "df"
   ]
  },
  {
   "cell_type": "markdown",
   "id": "dc6aab08",
   "metadata": {},
   "source": [
    "## 가설"
   ]
  },
  {
   "cell_type": "code",
   "execution_count": 2,
   "id": "5915ae2c",
   "metadata": {},
   "outputs": [],
   "source": [
    "import statsmodels.formula.api as smf\n",
    "\n",
    "lm_model = smf.ols(formula=\"y ~ x\", data=df).fit()"
   ]
  },
  {
   "cell_type": "markdown",
   "id": "08d56275",
   "metadata": {},
   "source": [
    "## 결과"
   ]
  },
  {
   "cell_type": "code",
   "execution_count": 3,
   "id": "af652c7b",
   "metadata": {},
   "outputs": [
    {
     "data": {
      "text/plain": [
       "Intercept    0.5\n",
       "x            1.1\n",
       "dtype: float64"
      ]
     },
     "execution_count": 3,
     "metadata": {},
     "output_type": "execute_result"
    }
   ],
   "source": [
    "lm_model.params"
   ]
  },
  {
   "cell_type": "markdown",
   "id": "2699c72b",
   "metadata": {},
   "source": [
    "## seaborn을 import하고"
   ]
  },
  {
   "cell_type": "code",
   "execution_count": 12,
   "id": "28f1b0db",
   "metadata": {},
   "outputs": [],
   "source": [
    "import matplotlib.pyplot as plt\n",
    "import seaborn as sns\n",
    "%matplotlib inline"
   ]
  },
  {
   "cell_type": "markdown",
   "id": "121561a4",
   "metadata": {},
   "source": [
    "## seaborn을 이용해서 plot"
   ]
  },
  {
   "cell_type": "code",
   "execution_count": 13,
   "id": "b5181c88",
   "metadata": {},
   "outputs": [
    {
     "data": {
      "image/png": "[encoded data removed]",
      "text/plain": [
       "<Figure size 500x500 with 1 Axes>"
      ]
     },
     "metadata": {},
     "output_type": "display_data"
    }
   ],
   "source": [
    "sns.lmplot(x='x', y='y', data=df);\n"
   ]
  },
  {
   "cell_type": "markdown",
   "id": "153567a5",
   "metadata": {},
   "source": [
    "## 잔차 평가 residue\n",
    "- 잔차는 평균이 0인 정규분포를 따르는 것 이어야 함\n",
    "- 잔차 평가는 잔차의 평균이 0이고 정규분포를 따르는 지 확인"
   ]
  },
  {
   "cell_type": "markdown",
   "id": "1445a4f2",
   "metadata": {},
   "source": [
    "## 잔차 확인"
   ]
  },
  {
   "cell_type": "code",
   "execution_count": 14,
   "id": "a293277a",
   "metadata": {},
   "outputs": [
    {
     "data": {
      "text/plain": [
       "0   -0.6\n",
       "1    0.3\n",
       "2    0.2\n",
       "3    1.1\n",
       "4   -1.0\n",
       "dtype: float64"
      ]
     },
     "execution_count": 14,
     "metadata": {},
     "output_type": "execute_result"
    }
   ],
   "source": [
    "resid = lm_model.resid\n",
    "resid"
   ]
  },
  {
   "cell_type": "markdown",
   "id": "262ac642",
   "metadata": {},
   "source": [
    "## 결정계수 R-Squared\n",
    "- y_hat은 예측된 값\n",
    "- 예측 값과 실제 값(y)이 일치하면 결정계수는 1이 됨 (즉 결정계수가 높을 수록 좋은 모델)"
   ]
  },
  {
   "cell_type": "markdown",
   "id": "43199598",
   "metadata": {},
   "source": [
    "## numpy로 직접 결정계수 계산"
   ]
  },
  {
   "cell_type": "code",
   "execution_count": 15,
   "id": "e69a6afb",
   "metadata": {},
   "outputs": [
    {
     "data": {
      "text/plain": [
       "0.8175675675675673"
      ]
     },
     "execution_count": 15,
     "metadata": {},
     "output_type": "execute_result"
    }
   ],
   "source": [
    "import numpy as np\n",
    "\n",
    "mu = np.mean(df.y)\n",
    "y = df.y\n",
    "yhat = lm_model.predict()\n",
    "np.sum((yhat - mu)**2 / np.sum((y - mu)**2))"
   ]
  },
  {
   "cell_type": "markdown",
   "id": "28b4db41",
   "metadata": {},
   "source": [
    "## 간단하게 구하기"
   ]
  },
  {
   "cell_type": "code",
   "execution_count": 16,
   "id": "1257b6f1",
   "metadata": {},
   "outputs": [
    {
     "data": {
      "text/plain": [
       "0.8175675675675677"
      ]
     },
     "execution_count": 16,
     "metadata": {},
     "output_type": "execute_result"
    }
   ],
   "source": [
    "lm_model.rsquared"
   ]
  },
  {
   "cell_type": "markdown",
   "id": "118e8a89",
   "metadata": {},
   "source": [
    "## 잔차의 분포도 확인"
   ]
  },
  {
   "cell_type": "code",
   "execution_count": 18,
   "id": "c7c4fecf",
   "metadata": {},
   "outputs": [
    {
     "name": "stderr",
     "output_type": "stream",
     "text": [
      "/tmp/ipykernel_15602/1258040113.py:1: UserWarning: \n",
      "\n",
      "`distplot` is a deprecated function and will be removed in seaborn v0.14.0.\n",
      "\n",
      "Please adapt your code to use either `displot` (a figure-level function with\n",
      "similar flexibility) or `histplot` (an axes-level function for histograms).\n",
      "\n",
      "For a guide to updating your code to use the new functions, please see\n",
      "https://gist.github.com/mwaskom/de44147ed2974457ad6372750bbe5751\n",
      "\n",
      "  sns.distplot(resid, color='black');\n"
     ]
    },
    {
     "data": {
      "image/png": "[encoded data removed]",
      "text/plain": [
       "<Figure size 640x480 with 1 Axes>"
      ]
     },
     "metadata": {},
     "output_type": "display_data"
    }
   ],
   "source": [
    "sns.distplot(resid, color='black');"
   ]
  },
  {
   "cell_type": "code",
   "execution_count": null,
   "id": "47e2e1a4",
   "metadata": {},
   "outputs": [],
   "source": []
  }
 ],
 "metadata": {
  "kernelspec": {
   "display_name": "Python 3 (ipykernel)",
   "language": "python",
   "name": "python3"
  },
  "language_info": {
   "codemirror_mode": {
    "name": "ipython",
    "version": 3
   },
   "file_extension": ".py",
   "mimetype": "text/x-python",
   "name": "python",
   "nbconvert_exporter": "python",
   "pygments_lexer": "ipython3",
   "version": "3.8.10"
  }
 },
 "nbformat": 4,
 "nbformat_minor": 5
}
