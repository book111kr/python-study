{
  "cells": [
    {
      "cell_type": "markdown",
      "id": "urban-binding",
      "metadata": {
        "id": "urban-binding"
      },
      "source": [
        "### Gmarket\n",
        "- 베스트상품 200개 데이터 수집"
      ]
    },
    {
      "cell_type": "code",
      "execution_count": 82,
      "id": "similar-riding",
      "metadata": {
        "id": "similar-riding"
      },
      "outputs": [],
      "source": [
        "import requests\n",
        "import pandas as pd\n",
        "from bs4 import BeautifulSoup"
      ]
    },
    {
      "cell_type": "code",
      "execution_count": 83,
      "id": "lasting-morris",
      "metadata": {
        "id": "lasting-morris"
      },
      "outputs": [],
      "source": [
        "# url \n",
        "url = \"http://corners.gmarket.co.kr/Bestsellers\""
      ]
    },
    {
      "cell_type": "code",
      "execution_count": 84,
      "id": "descending-doctor",
      "metadata": {
        "id": "descending-doctor",
        "outputId": "0a088640-adc4-4ffa-f3a2-7e1a9d5e82c5"
      },
      "outputs": [
        {
          "data": {
            "text/plain": [
              "<Response [200]>"
            ]
          },
          "execution_count": 84,
          "metadata": {},
          "output_type": "execute_result"
        }
      ],
      "source": [
        "# request&response\n",
        "response = requests.get(url)\n",
        "response"
      ]
    },
    {
      "cell_type": "code",
      "execution_count": 85,
      "id": "coupled-kingdom",
      "metadata": {
        "id": "coupled-kingdom"
      },
      "outputs": [],
      "source": [
        "# 3. beautifulsoup\n",
        "from bs4 import BeautifulSoup\n",
        "soup = BeautifulSoup(response.content, \"html.parser\")"
      ]
    },
    {
      "cell_type": "code",
      "execution_count": 86,
      "id": "elegant-terminal",
      "metadata": {
        "id": "elegant-terminal",
        "outputId": "d016ac4e-0661-42c6-e9a0-ae38579dffce"
      },
      "outputs": [
        {
          "data": {
            "text/plain": [
              "200"
            ]
          },
          "execution_count": 86,
          "metadata": {},
          "output_type": "execute_result"
        }
      ],
      "source": [
        "best_200 = soup.select('#gBestWrap > div > div:nth-child(5) > div > ul > li')\n",
        "len(best_200)"
      ]
    },
    {
      "cell_type": "code",
      "execution_count": 87,
      "id": "prostate-corpus",
      "metadata": {
        "id": "prostate-corpus",
        "outputId": "f25ec029-8d7c-4833-8cfd-5dd077974d4c"
      },
      "outputs": [
        {
          "data": {
            "text/plain": [
              "('[스파클]스파클생수 500ml 100병',\n",
              " 'http://item.gmarket.co.kr/Item?goodscode=2584905546&ver=638000117120419360',\n",
              " '35800',\n",
              " '17900')"
            ]
          },
          "execution_count": 87,
          "metadata": {},
          "output_type": "execute_result"
        }
      ],
      "source": [
        "# css selector\n",
        "one = best_200[1]\n",
        "title = one.select_one(\".itemname\").text\n",
        "link = one.select_one(\".itemname\").get(\"href\")\n",
        "o_price = one.select_one(\".o-price\").text.replace(\",\", \"\")\n",
        "o_price = o_price[2:-1]\n",
        "s_price = one.select_one(\".s-price\").text.strip().split(\"\\n\")[0].replace(\",\",\"\")\n",
        "s_price = s_price[3:-1]\n",
        "title, link, o_price, s_price"
      ]
    },
    {
      "cell_type": "code",
      "execution_count": 88,
      "id": "referenced-picture",
      "metadata": {
        "id": "referenced-picture",
        "outputId": "9e0b5dd0-1171-4503-dadd-44dc1351030f"
      },
      "outputs": [
        {
          "data": {
            "text/html": [
              "<div>\n",
              "<style scoped>\n",
              "    .dataframe tbody tr th:only-of-type {\n",
              "        vertical-align: middle;\n",
              "    }\n",
              "\n",
              "    .dataframe tbody tr th {\n",
              "        vertical-align: top;\n",
              "    }\n",
              "\n",
              "    .dataframe thead th {\n",
              "        text-align: right;\n",
              "    }\n",
              "</style>\n",
              "<table border=\"1\" class=\"dataframe\">\n",
              "  <thead>\n",
              "    <tr style=\"text-align: right;\">\n",
              "      <th></th>\n",
              "      <th>title</th>\n",
              "      <th>link</th>\n",
              "      <th>o_price</th>\n",
              "      <th>s_price</th>\n",
              "    </tr>\n",
              "  </thead>\n",
              "  <tbody>\n",
              "    <tr>\n",
              "      <th>195</th>\n",
              "      <td>[나이키]드라이핏 파크20 팬츠(BV6877-010)</td>\n",
              "      <td>http://item.gmarket.co.kr/Item?goodscode=20246...</td>\n",
              "      <td>31000</td>\n",
              "      <td>25950</td>\n",
              "    </tr>\n",
              "    <tr>\n",
              "      <th>196</th>\n",
              "      <td>[삐아]삐아 BEST 라스트 벨벳 립 틴트 1+1 특가</td>\n",
              "      <td>http://item.gmarket.co.kr/Item?goodscode=24953...</td>\n",
              "      <td>27000</td>\n",
              "      <td>13500</td>\n",
              "    </tr>\n",
              "    <tr>\n",
              "      <th>197</th>\n",
              "      <td>(할인특가)도서출판무지개-NEW최신판 추피의생활이야기 증간본포함 총174종: 세이펜호환</td>\n",
              "      <td>http://item.gmarket.co.kr/Item?goodscode=25103...</td>\n",
              "      <td>262120</td>\n",
              "      <td>212120</td>\n",
              "    </tr>\n",
              "    <tr>\n",
              "      <th>198</th>\n",
              "      <td>[해피바스]해피바스 스마일 바디워시900g 3종세트 유자/체리/자몽</td>\n",
              "      <td>http://item.gmarket.co.kr/Item?goodscode=20999...</td>\n",
              "      <td>17200</td>\n",
              "      <td>15000</td>\n",
              "    </tr>\n",
              "    <tr>\n",
              "      <th>199</th>\n",
              "      <td>[프롬산타]무료반품 3+1 균일가 양말 발목 중목 장목 정장 패션 학생 남성 여성 ...</td>\n",
              "      <td>http://item.gmarket.co.kr/Item?goodscode=11071...</td>\n",
              "      <td>46300</td>\n",
              "      <td>13900</td>\n",
              "    </tr>\n",
              "  </tbody>\n",
              "</table>\n",
              "</div>"
            ],
            "text/plain": [
              "                                                 title  \\\n",
              "195                      [나이키]드라이핏 파크20 팬츠(BV6877-010)   \n",
              "196                     [삐아]삐아 BEST 라스트 벨벳 립 틴트 1+1 특가   \n",
              "197   (할인특가)도서출판무지개-NEW최신판 추피의생활이야기 증간본포함 총174종: 세이펜호환   \n",
              "198              [해피바스]해피바스 스마일 바디워시900g 3종세트 유자/체리/자몽   \n",
              "199  [프롬산타]무료반품 3+1 균일가 양말 발목 중목 장목 정장 패션 학생 남성 여성 ...   \n",
              "\n",
              "                                                  link o_price s_price  \n",
              "195  http://item.gmarket.co.kr/Item?goodscode=20246...   31000   25950  \n",
              "196  http://item.gmarket.co.kr/Item?goodscode=24953...   27000   13500  \n",
              "197  http://item.gmarket.co.kr/Item?goodscode=25103...  262120  212120  \n",
              "198  http://item.gmarket.co.kr/Item?goodscode=20999...   17200   15000  \n",
              "199  http://item.gmarket.co.kr/Item?goodscode=11071...   46300   13900  "
            ]
          },
          "execution_count": 88,
          "metadata": {},
          "output_type": "execute_result"
        }
      ],
      "source": [
        "# 전체 상품 수집\n",
        "\n",
        "datas = []\n",
        "\n",
        "for item in best_200:\n",
        "    datas.append({\n",
        "        \"title\": item.select_one(\".itemname\").text,\n",
        "        \"link\": item.select_one(\".itemname\").get(\"href\"),\n",
        "        \"o_price\": item.select_one(\".o-price\").text.replace(\",\",\"\")[2:-1],\n",
        "        \"s_price\": item.select_one(\".s-price\").text.strip().split(\"\\n\")[0].replace(\",\",\"\")[3:-1],\n",
        "    })\n",
        "\n",
        "df = pd.DataFrame(datas)\n",
        "df.tail()"
      ]
    },
    {
      "cell_type": "code",
      "execution_count": 89,
      "id": "3b1c6083",
      "metadata": {},
      "outputs": [
        {
          "name": "stdout",
          "output_type": "stream",
          "text": [
            "<class 'pandas.core.frame.DataFrame'>\n",
            "RangeIndex: 200 entries, 0 to 199\n",
            "Data columns (total 4 columns):\n",
            " #   Column   Non-Null Count  Dtype \n",
            "---  ------   --------------  ----- \n",
            " 0   title    200 non-null    object\n",
            " 1   link     200 non-null    object\n",
            " 2   o_price  200 non-null    object\n",
            " 3   s_price  200 non-null    object\n",
            "dtypes: object(4)\n",
            "memory usage: 6.4+ KB\n"
          ]
        }
      ],
      "source": [
        "df.info()"
      ]
    },
    {
      "cell_type": "code",
      "execution_count": 90,
      "id": "f65dea99",
      "metadata": {},
      "outputs": [],
      "source": [
        "# data preprocessing "
      ]
    },
    {
      "cell_type": "code",
      "execution_count": 91,
      "id": "90d497ec",
      "metadata": {},
      "outputs": [
        {
          "data": {
            "text/html": [
              "<div>\n",
              "<style scoped>\n",
              "    .dataframe tbody tr th:only-of-type {\n",
              "        vertical-align: middle;\n",
              "    }\n",
              "\n",
              "    .dataframe tbody tr th {\n",
              "        vertical-align: top;\n",
              "    }\n",
              "\n",
              "    .dataframe thead th {\n",
              "        text-align: right;\n",
              "    }\n",
              "</style>\n",
              "<table border=\"1\" class=\"dataframe\">\n",
              "  <thead>\n",
              "    <tr style=\"text-align: right;\">\n",
              "      <th></th>\n",
              "      <th>title</th>\n",
              "      <th>link</th>\n",
              "      <th>o_price</th>\n",
              "      <th>s_price</th>\n",
              "    </tr>\n",
              "  </thead>\n",
              "  <tbody>\n",
              "    <tr>\n",
              "      <th>0</th>\n",
              "      <td>[일리]illy 일리 네스프레소 호환 커피 캡슐 인텐소 디카페인 룽고 포르테 클라시...</td>\n",
              "      <td>http://item.gmarket.co.kr/Item?goodscode=25950...</td>\n",
              "      <td>51900</td>\n",
              "      <td>51900</td>\n",
              "    </tr>\n",
              "    <tr>\n",
              "      <th>1</th>\n",
              "      <td>[스파클]스파클생수 500ml 100병</td>\n",
              "      <td>http://item.gmarket.co.kr/Item?goodscode=25849...</td>\n",
              "      <td>35800</td>\n",
              "      <td>17900</td>\n",
              "    </tr>\n",
              "    <tr>\n",
              "      <th>2</th>\n",
              "      <td>CJ 비비고 만두 10봉 모음 (왕교자/김치왕교자/매운왕교자/한섬만두/수제진한고기 ...</td>\n",
              "      <td>http://item.gmarket.co.kr/Item?goodscode=22072...</td>\n",
              "      <td>28410</td>\n",
              "      <td>28410</td>\n",
              "    </tr>\n",
              "    <tr>\n",
              "      <th>3</th>\n",
              "      <td>[비비고][CJ직배송] 비비고사골곰탕 500G X 18개(1BOX)</td>\n",
              "      <td>http://item.gmarket.co.kr/Item?goodscode=18240...</td>\n",
              "      <td>24000</td>\n",
              "      <td>18000</td>\n",
              "    </tr>\n",
              "    <tr>\n",
              "      <th>4</th>\n",
              "      <td>[토닉워터]토닉워터 홍차 제로 300mlx24펫 키이즈백</td>\n",
              "      <td>http://item.gmarket.co.kr/Item?goodscode=25781...</td>\n",
              "      <td>39800</td>\n",
              "      <td>19900</td>\n",
              "    </tr>\n",
              "  </tbody>\n",
              "</table>\n",
              "</div>"
            ],
            "text/plain": [
              "                                               title  \\\n",
              "0  [일리]illy 일리 네스프레소 호환 커피 캡슐 인텐소 디카페인 룽고 포르테 클라시...   \n",
              "1                              [스파클]스파클생수 500ml 100병   \n",
              "2  CJ 비비고 만두 10봉 모음 (왕교자/김치왕교자/매운왕교자/한섬만두/수제진한고기 ...   \n",
              "3              [비비고][CJ직배송] 비비고사골곰탕 500G X 18개(1BOX)   \n",
              "4                    [토닉워터]토닉워터 홍차 제로 300mlx24펫 키이즈백   \n",
              "\n",
              "                                                link o_price s_price  \n",
              "0  http://item.gmarket.co.kr/Item?goodscode=25950...   51900   51900  \n",
              "1  http://item.gmarket.co.kr/Item?goodscode=25849...   35800   17900  \n",
              "2  http://item.gmarket.co.kr/Item?goodscode=22072...   28410   28410  \n",
              "3  http://item.gmarket.co.kr/Item?goodscode=18240...   24000   18000  \n",
              "4  http://item.gmarket.co.kr/Item?goodscode=25781...   39800   19900  "
            ]
          },
          "execution_count": 91,
          "metadata": {},
          "output_type": "execute_result"
        }
      ],
      "source": [
        "# null data \n",
        "df.loc[df['o_price'] == '', 'o_price'] = df['s_price']\n",
        "df.head()"
      ]
    },
    {
      "cell_type": "code",
      "execution_count": 92,
      "id": "49769385",
      "metadata": {},
      "outputs": [
        {
          "data": {
            "text/html": [
              "<div>\n",
              "<style scoped>\n",
              "    .dataframe tbody tr th:only-of-type {\n",
              "        vertical-align: middle;\n",
              "    }\n",
              "\n",
              "    .dataframe tbody tr th {\n",
              "        vertical-align: top;\n",
              "    }\n",
              "\n",
              "    .dataframe thead th {\n",
              "        text-align: right;\n",
              "    }\n",
              "</style>\n",
              "<table border=\"1\" class=\"dataframe\">\n",
              "  <thead>\n",
              "    <tr style=\"text-align: right;\">\n",
              "      <th></th>\n",
              "      <th>title</th>\n",
              "      <th>link</th>\n",
              "      <th>o_price</th>\n",
              "      <th>s_price</th>\n",
              "    </tr>\n",
              "  </thead>\n",
              "  <tbody>\n",
              "    <tr>\n",
              "      <th>0</th>\n",
              "      <td>[일리]illy 일리 네스프레소 호환 커피 캡슐 인텐소 디카페인 룽고 포르테 클라시...</td>\n",
              "      <td>http://item.gmarket.co.kr/Item?goodscode=25950...</td>\n",
              "      <td>51900.0</td>\n",
              "      <td>51900</td>\n",
              "    </tr>\n",
              "    <tr>\n",
              "      <th>1</th>\n",
              "      <td>[스파클]스파클생수 500ml 100병</td>\n",
              "      <td>http://item.gmarket.co.kr/Item?goodscode=25849...</td>\n",
              "      <td>35800.0</td>\n",
              "      <td>17900</td>\n",
              "    </tr>\n",
              "    <tr>\n",
              "      <th>2</th>\n",
              "      <td>CJ 비비고 만두 10봉 모음 (왕교자/김치왕교자/매운왕교자/한섬만두/수제진한고기 ...</td>\n",
              "      <td>http://item.gmarket.co.kr/Item?goodscode=22072...</td>\n",
              "      <td>28410.0</td>\n",
              "      <td>28410</td>\n",
              "    </tr>\n",
              "    <tr>\n",
              "      <th>3</th>\n",
              "      <td>[비비고][CJ직배송] 비비고사골곰탕 500G X 18개(1BOX)</td>\n",
              "      <td>http://item.gmarket.co.kr/Item?goodscode=18240...</td>\n",
              "      <td>24000.0</td>\n",
              "      <td>18000</td>\n",
              "    </tr>\n",
              "    <tr>\n",
              "      <th>4</th>\n",
              "      <td>[토닉워터]토닉워터 홍차 제로 300mlx24펫 키이즈백</td>\n",
              "      <td>http://item.gmarket.co.kr/Item?goodscode=25781...</td>\n",
              "      <td>39800.0</td>\n",
              "      <td>19900</td>\n",
              "    </tr>\n",
              "  </tbody>\n",
              "</table>\n",
              "</div>"
            ],
            "text/plain": [
              "                                               title  \\\n",
              "0  [일리]illy 일리 네스프레소 호환 커피 캡슐 인텐소 디카페인 룽고 포르테 클라시...   \n",
              "1                              [스파클]스파클생수 500ml 100병   \n",
              "2  CJ 비비고 만두 10봉 모음 (왕교자/김치왕교자/매운왕교자/한섬만두/수제진한고기 ...   \n",
              "3              [비비고][CJ직배송] 비비고사골곰탕 500G X 18개(1BOX)   \n",
              "4                    [토닉워터]토닉워터 홍차 제로 300mlx24펫 키이즈백   \n",
              "\n",
              "                                                link  o_price s_price  \n",
              "0  http://item.gmarket.co.kr/Item?goodscode=25950...  51900.0   51900  \n",
              "1  http://item.gmarket.co.kr/Item?goodscode=25849...  35800.0   17900  \n",
              "2  http://item.gmarket.co.kr/Item?goodscode=22072...  28410.0   28410  \n",
              "3  http://item.gmarket.co.kr/Item?goodscode=18240...  24000.0   18000  \n",
              "4  http://item.gmarket.co.kr/Item?goodscode=25781...  39800.0   19900  "
            ]
          },
          "execution_count": 92,
          "metadata": {},
          "output_type": "execute_result"
        }
      ],
      "source": [
        "# data type str -> float \n",
        "df['o_price'] = df['o_price'].astype('float')\n",
        "df.head()"
      ]
    },
    {
      "cell_type": "code",
      "execution_count": 93,
      "id": "6ec7efa6",
      "metadata": {},
      "outputs": [
        {
          "name": "stdout",
          "output_type": "stream",
          "text": [
            "<class 'pandas.core.frame.DataFrame'>\n",
            "RangeIndex: 200 entries, 0 to 199\n",
            "Data columns (total 4 columns):\n",
            " #   Column   Non-Null Count  Dtype  \n",
            "---  ------   --------------  -----  \n",
            " 0   title    200 non-null    object \n",
            " 1   link     200 non-null    object \n",
            " 2   o_price  200 non-null    float64\n",
            " 3   s_price  200 non-null    object \n",
            "dtypes: float64(1), object(3)\n",
            "memory usage: 6.4+ KB\n"
          ]
        }
      ],
      "source": [
        "df.info()"
      ]
    }
  ],
  "metadata": {
    "colab": {
      "provenance": []
    },
    "kernelspec": {
      "display_name": "Python 3.8.13 ('ds_study')",
      "language": "python",
      "name": "python3"
    },
    "language_info": {
      "codemirror_mode": {
        "name": "ipython",
        "version": 3
      },
      "file_extension": ".py",
      "mimetype": "text/x-python",
      "name": "python",
      "nbconvert_exporter": "python",
      "pygments_lexer": "ipython3",
      "version": "3.8.13"
    },
    "vscode": {
      "interpreter": {
        "hash": "d3031036e8c8ce647da48a50561300ae6220e5b965b839663961357b6d8c32df"
      }
    }
  },
  "nbformat": 4,
  "nbformat_minor": 5
}
