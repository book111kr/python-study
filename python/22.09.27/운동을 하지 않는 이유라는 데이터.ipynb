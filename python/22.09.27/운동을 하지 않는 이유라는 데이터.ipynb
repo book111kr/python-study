{
 "cells": [
  {
   "cell_type": "code",
   "execution_count": 11,
   "id": "2b12c89f",
   "metadata": {},
   "outputs": [],
   "source": [
    "url = \"https://github.com/PinkWink/playing_data/blob/master/data/reason_not_exercise.xls?raw=true\""
   ]
  },
  {
   "cell_type": "code",
   "execution_count": 18,
   "id": "2ef19f37",
   "metadata": {},
   "outputs": [
    {
     "data": {
      "text/html": [
       "<div>\n",
       "<style scoped>\n",
       "    .dataframe tbody tr th:only-of-type {\n",
       "        vertical-align: middle;\n",
       "    }\n",
       "\n",
       "    .dataframe tbody tr th {\n",
       "        vertical-align: top;\n",
       "    }\n",
       "\n",
       "    .dataframe thead th {\n",
       "        text-align: right;\n",
       "    }\n",
       "</style>\n",
       "<table border=\"1\" class=\"dataframe\">\n",
       "  <thead>\n",
       "    <tr style=\"text-align: right;\">\n",
       "      <th></th>\n",
       "      <th>기간</th>\n",
       "      <th>대분류</th>\n",
       "      <th>분류</th>\n",
       "      <th>운동을 할 충분한 시간이 없어서</th>\n",
       "      <th>함께 운동을 할 사람이 없어서</th>\n",
       "      <th>운동을 할 만한 장소가 없어서</th>\n",
       "      <th>운동을 싫어해서</th>\n",
       "      <th>기타</th>\n",
       "    </tr>\n",
       "  </thead>\n",
       "  <tbody>\n",
       "    <tr>\n",
       "      <th>0</th>\n",
       "      <td>2017</td>\n",
       "      <td>서울시</td>\n",
       "      <td>서울시</td>\n",
       "      <td>49.7</td>\n",
       "      <td>8.1</td>\n",
       "      <td>5.8</td>\n",
       "      <td>34.7</td>\n",
       "      <td>1.7</td>\n",
       "    </tr>\n",
       "    <tr>\n",
       "      <th>1</th>\n",
       "      <td>2017</td>\n",
       "      <td>성별</td>\n",
       "      <td>남자</td>\n",
       "      <td>55.2</td>\n",
       "      <td>7.9</td>\n",
       "      <td>5.5</td>\n",
       "      <td>29.8</td>\n",
       "      <td>1.6</td>\n",
       "    </tr>\n",
       "    <tr>\n",
       "      <th>2</th>\n",
       "      <td>2017</td>\n",
       "      <td>성별</td>\n",
       "      <td>여자</td>\n",
       "      <td>45.0</td>\n",
       "      <td>8.3</td>\n",
       "      <td>6.0</td>\n",
       "      <td>38.8</td>\n",
       "      <td>1.8</td>\n",
       "    </tr>\n",
       "    <tr>\n",
       "      <th>3</th>\n",
       "      <td>2017</td>\n",
       "      <td>연령별</td>\n",
       "      <td>10대</td>\n",
       "      <td>55.7</td>\n",
       "      <td>6.1</td>\n",
       "      <td>5.6</td>\n",
       "      <td>32.2</td>\n",
       "      <td>0.3</td>\n",
       "    </tr>\n",
       "    <tr>\n",
       "      <th>4</th>\n",
       "      <td>2017</td>\n",
       "      <td>연령별</td>\n",
       "      <td>20대</td>\n",
       "      <td>54.8</td>\n",
       "      <td>6.9</td>\n",
       "      <td>5.2</td>\n",
       "      <td>32.9</td>\n",
       "      <td>0.1</td>\n",
       "    </tr>\n",
       "  </tbody>\n",
       "</table>\n",
       "</div>"
      ],
      "text/plain": [
       "     기간  대분류   분류  운동을 할 충분한 시간이 없어서 함께 운동을 할 사람이 없어서  운동을 할 만한 장소가 없어서  \\\n",
       "0  2017  서울시  서울시               49.7              8.1               5.8   \n",
       "1  2017   성별   남자               55.2              7.9               5.5   \n",
       "2  2017   성별   여자               45.0              8.3               6.0   \n",
       "3  2017  연령별  10대               55.7              6.1               5.6   \n",
       "4  2017  연령별  20대               54.8              6.9               5.2   \n",
       "\n",
       "   운동을 싫어해서   기타  \n",
       "0      34.7  1.7  \n",
       "1      29.8  1.6  \n",
       "2      38.8  1.8  \n",
       "3      32.2  0.3  \n",
       "4      32.9  0.1  "
      ]
     },
     "execution_count": 18,
     "metadata": {},
     "output_type": "execute_result"
    }
   ],
   "source": [
    "import pandas as pd\n",
    "raw_data = pd.read_excel(url)\n",
    "raw_data.head()"
   ]
  },
  {
   "cell_type": "code",
   "execution_count": 19,
   "id": "316f8f45",
   "metadata": {},
   "outputs": [
    {
     "name": "stdout",
     "output_type": "stream",
     "text": [
      "<class 'pandas.core.frame.DataFrame'>\n",
      "RangeIndex: 53 entries, 0 to 52\n",
      "Data columns (total 8 columns):\n",
      " #   Column             Non-Null Count  Dtype  \n",
      "---  ------             --------------  -----  \n",
      " 0   기간                 53 non-null     int64  \n",
      " 1   대분류                53 non-null     object \n",
      " 2   분류                 53 non-null     object \n",
      " 3   운동을 할 충분한 시간이 없어서  53 non-null     float64\n",
      " 4   함께 운동을 할 사람이 없어서   53 non-null     object \n",
      " 5   운동을 할 만한 장소가 없어서   53 non-null     float64\n",
      " 6   운동을 싫어해서           53 non-null     float64\n",
      " 7   기타                 53 non-null     object \n",
      "dtypes: float64(3), int64(1), object(4)\n",
      "memory usage: 3.4+ KB\n"
     ]
    }
   ],
   "source": [
    "raw_data.info()"
   ]
  },
  {
   "cell_type": "code",
   "execution_count": 20,
   "id": "d7222073",
   "metadata": {},
   "outputs": [
    {
     "data": {
      "text/html": [
       "<div>\n",
       "<style scoped>\n",
       "    .dataframe tbody tr th:only-of-type {\n",
       "        vertical-align: middle;\n",
       "    }\n",
       "\n",
       "    .dataframe tbody tr th {\n",
       "        vertical-align: top;\n",
       "    }\n",
       "\n",
       "    .dataframe thead th {\n",
       "        text-align: right;\n",
       "    }\n",
       "</style>\n",
       "<table border=\"1\" class=\"dataframe\">\n",
       "  <thead>\n",
       "    <tr style=\"text-align: right;\">\n",
       "      <th></th>\n",
       "      <th>기간</th>\n",
       "      <th>대분류</th>\n",
       "      <th>분류</th>\n",
       "      <th>운동을 할 충분한 시간이 없어서</th>\n",
       "      <th>함께 운동을 할 사람이 없어서</th>\n",
       "      <th>운동을 할 만한 장소가 없어서</th>\n",
       "      <th>운동을 싫어해서</th>\n",
       "      <th>기타</th>\n",
       "    </tr>\n",
       "  </thead>\n",
       "  <tbody>\n",
       "    <tr>\n",
       "      <th>1</th>\n",
       "      <td>2017</td>\n",
       "      <td>성별</td>\n",
       "      <td>남자</td>\n",
       "      <td>55.2</td>\n",
       "      <td>7.9</td>\n",
       "      <td>5.5</td>\n",
       "      <td>29.8</td>\n",
       "      <td>1.6</td>\n",
       "    </tr>\n",
       "    <tr>\n",
       "      <th>2</th>\n",
       "      <td>2017</td>\n",
       "      <td>성별</td>\n",
       "      <td>여자</td>\n",
       "      <td>45.0</td>\n",
       "      <td>8.3</td>\n",
       "      <td>6.0</td>\n",
       "      <td>38.8</td>\n",
       "      <td>1.8</td>\n",
       "    </tr>\n",
       "  </tbody>\n",
       "</table>\n",
       "</div>"
      ],
      "text/plain": [
       "     기간 대분류  분류  운동을 할 충분한 시간이 없어서 함께 운동을 할 사람이 없어서  운동을 할 만한 장소가 없어서  \\\n",
       "1  2017  성별  남자               55.2              7.9               5.5   \n",
       "2  2017  성별  여자               45.0              8.3               6.0   \n",
       "\n",
       "   운동을 싫어해서   기타  \n",
       "1      29.8  1.6  \n",
       "2      38.8  1.8  "
      ]
     },
     "execution_count": 20,
     "metadata": {},
     "output_type": "execute_result"
    }
   ],
   "source": [
    "raw_data[raw_data['대분류'] == '성별']"
   ]
  },
  {
   "cell_type": "code",
   "execution_count": 21,
   "id": "e8629497",
   "metadata": {},
   "outputs": [
    {
     "data": {
      "text/html": [
       "<div>\n",
       "<style scoped>\n",
       "    .dataframe tbody tr th:only-of-type {\n",
       "        vertical-align: middle;\n",
       "    }\n",
       "\n",
       "    .dataframe tbody tr th {\n",
       "        vertical-align: top;\n",
       "    }\n",
       "\n",
       "    .dataframe thead th {\n",
       "        text-align: right;\n",
       "    }\n",
       "</style>\n",
       "<table border=\"1\" class=\"dataframe\">\n",
       "  <thead>\n",
       "    <tr style=\"text-align: right;\">\n",
       "      <th></th>\n",
       "      <th>대분류</th>\n",
       "      <th>분류</th>\n",
       "      <th>운동을 할 충분한 시간이 없어서</th>\n",
       "      <th>함께 운동을 할 사람이 없어서</th>\n",
       "      <th>운동을 할 만한 장소가 없어서</th>\n",
       "      <th>운동을 싫어해서</th>\n",
       "      <th>기타</th>\n",
       "    </tr>\n",
       "  </thead>\n",
       "  <tbody>\n",
       "    <tr>\n",
       "      <th>0</th>\n",
       "      <td>서울시</td>\n",
       "      <td>서울시</td>\n",
       "      <td>49.7</td>\n",
       "      <td>8.1</td>\n",
       "      <td>5.8</td>\n",
       "      <td>34.7</td>\n",
       "      <td>1.7</td>\n",
       "    </tr>\n",
       "    <tr>\n",
       "      <th>1</th>\n",
       "      <td>성별</td>\n",
       "      <td>남자</td>\n",
       "      <td>55.2</td>\n",
       "      <td>7.9</td>\n",
       "      <td>5.5</td>\n",
       "      <td>29.8</td>\n",
       "      <td>1.6</td>\n",
       "    </tr>\n",
       "    <tr>\n",
       "      <th>2</th>\n",
       "      <td>성별</td>\n",
       "      <td>여자</td>\n",
       "      <td>45.0</td>\n",
       "      <td>8.3</td>\n",
       "      <td>6.0</td>\n",
       "      <td>38.8</td>\n",
       "      <td>1.8</td>\n",
       "    </tr>\n",
       "    <tr>\n",
       "      <th>3</th>\n",
       "      <td>연령별</td>\n",
       "      <td>10대</td>\n",
       "      <td>55.7</td>\n",
       "      <td>6.1</td>\n",
       "      <td>5.6</td>\n",
       "      <td>32.2</td>\n",
       "      <td>0.3</td>\n",
       "    </tr>\n",
       "    <tr>\n",
       "      <th>4</th>\n",
       "      <td>연령별</td>\n",
       "      <td>20대</td>\n",
       "      <td>54.8</td>\n",
       "      <td>6.9</td>\n",
       "      <td>5.2</td>\n",
       "      <td>32.9</td>\n",
       "      <td>0.1</td>\n",
       "    </tr>\n",
       "  </tbody>\n",
       "</table>\n",
       "</div>"
      ],
      "text/plain": [
       "   대분류   분류  운동을 할 충분한 시간이 없어서 함께 운동을 할 사람이 없어서  운동을 할 만한 장소가 없어서  운동을 싫어해서  \\\n",
       "0  서울시  서울시               49.7              8.1               5.8      34.7   \n",
       "1   성별   남자               55.2              7.9               5.5      29.8   \n",
       "2   성별   여자               45.0              8.3               6.0      38.8   \n",
       "3  연령별  10대               55.7              6.1               5.6      32.2   \n",
       "4  연령별  20대               54.8              6.9               5.2      32.9   \n",
       "\n",
       "    기타  \n",
       "0  1.7  \n",
       "1  1.6  \n",
       "2  1.8  \n",
       "3  0.3  \n",
       "4  0.1  "
      ]
     },
     "execution_count": 21,
     "metadata": {},
     "output_type": "execute_result"
    }
   ],
   "source": [
    "raw_data.drop(['기간'], axis='columns').head()"
   ]
  },
  {
   "cell_type": "code",
   "execution_count": 22,
   "id": "071a6de5",
   "metadata": {},
   "outputs": [
    {
     "data": {
      "text/html": [
       "<div>\n",
       "<style scoped>\n",
       "    .dataframe tbody tr th:only-of-type {\n",
       "        vertical-align: middle;\n",
       "    }\n",
       "\n",
       "    .dataframe tbody tr th {\n",
       "        vertical-align: top;\n",
       "    }\n",
       "\n",
       "    .dataframe thead th {\n",
       "        text-align: right;\n",
       "    }\n",
       "</style>\n",
       "<table border=\"1\" class=\"dataframe\">\n",
       "  <thead>\n",
       "    <tr style=\"text-align: right;\">\n",
       "      <th></th>\n",
       "      <th>대분류</th>\n",
       "      <th>분류</th>\n",
       "      <th>운동을 할 충분한 시간이 없어서</th>\n",
       "      <th>함께 운동을 할 사람이 없어서</th>\n",
       "      <th>운동을 할 만한 장소가 없어서</th>\n",
       "      <th>운동을 싫어해서</th>\n",
       "      <th>기타</th>\n",
       "    </tr>\n",
       "  </thead>\n",
       "  <tbody>\n",
       "    <tr>\n",
       "      <th>0</th>\n",
       "      <td>서울시</td>\n",
       "      <td>서울시</td>\n",
       "      <td>49.7</td>\n",
       "      <td>8.1</td>\n",
       "      <td>5.8</td>\n",
       "      <td>34.7</td>\n",
       "      <td>1.7</td>\n",
       "    </tr>\n",
       "    <tr>\n",
       "      <th>1</th>\n",
       "      <td>성별</td>\n",
       "      <td>남자</td>\n",
       "      <td>55.2</td>\n",
       "      <td>7.9</td>\n",
       "      <td>5.5</td>\n",
       "      <td>29.8</td>\n",
       "      <td>1.6</td>\n",
       "    </tr>\n",
       "    <tr>\n",
       "      <th>2</th>\n",
       "      <td>성별</td>\n",
       "      <td>여자</td>\n",
       "      <td>45.0</td>\n",
       "      <td>8.3</td>\n",
       "      <td>6.0</td>\n",
       "      <td>38.8</td>\n",
       "      <td>1.8</td>\n",
       "    </tr>\n",
       "    <tr>\n",
       "      <th>3</th>\n",
       "      <td>연령별</td>\n",
       "      <td>10대</td>\n",
       "      <td>55.7</td>\n",
       "      <td>6.1</td>\n",
       "      <td>5.6</td>\n",
       "      <td>32.2</td>\n",
       "      <td>0.3</td>\n",
       "    </tr>\n",
       "    <tr>\n",
       "      <th>4</th>\n",
       "      <td>연령별</td>\n",
       "      <td>20대</td>\n",
       "      <td>54.8</td>\n",
       "      <td>6.9</td>\n",
       "      <td>5.2</td>\n",
       "      <td>32.9</td>\n",
       "      <td>0.1</td>\n",
       "    </tr>\n",
       "  </tbody>\n",
       "</table>\n",
       "</div>"
      ],
      "text/plain": [
       "   대분류   분류  운동을 할 충분한 시간이 없어서 함께 운동을 할 사람이 없어서  운동을 할 만한 장소가 없어서  운동을 싫어해서  \\\n",
       "0  서울시  서울시               49.7              8.1               5.8      34.7   \n",
       "1   성별   남자               55.2              7.9               5.5      29.8   \n",
       "2   성별   여자               45.0              8.3               6.0      38.8   \n",
       "3  연령별  10대               55.7              6.1               5.6      32.2   \n",
       "4  연령별  20대               54.8              6.9               5.2      32.9   \n",
       "\n",
       "    기타  \n",
       "0  1.7  \n",
       "1  1.6  \n",
       "2  1.8  \n",
       "3  0.3  \n",
       "4  0.1  "
      ]
     },
     "execution_count": 22,
     "metadata": {},
     "output_type": "execute_result"
    }
   ],
   "source": [
    "raw_data.drop(['기간'], axis='columns', inplace=True)\n",
    "raw_data.head()"
   ]
  },
  {
   "cell_type": "code",
   "execution_count": 23,
   "id": "a3f49ae3",
   "metadata": {},
   "outputs": [
    {
     "data": {
      "text/html": [
       "<div>\n",
       "<style scoped>\n",
       "    .dataframe tbody tr th:only-of-type {\n",
       "        vertical-align: middle;\n",
       "    }\n",
       "\n",
       "    .dataframe tbody tr th {\n",
       "        vertical-align: top;\n",
       "    }\n",
       "\n",
       "    .dataframe thead th {\n",
       "        text-align: right;\n",
       "    }\n",
       "</style>\n",
       "<table border=\"1\" class=\"dataframe\">\n",
       "  <thead>\n",
       "    <tr style=\"text-align: right;\">\n",
       "      <th></th>\n",
       "      <th>대분류</th>\n",
       "      <th>분류</th>\n",
       "      <th>운동을 할 충분한 시간이 없어서</th>\n",
       "      <th>함께 운동을 할 사람이 없어서</th>\n",
       "      <th>운동을 할 만한 장소가 없어서</th>\n",
       "      <th>운동을 싫어해서</th>\n",
       "      <th>기타</th>\n",
       "    </tr>\n",
       "  </thead>\n",
       "  <tbody>\n",
       "    <tr>\n",
       "      <th>1</th>\n",
       "      <td>성별</td>\n",
       "      <td>남자</td>\n",
       "      <td>55.2</td>\n",
       "      <td>7.9</td>\n",
       "      <td>5.5</td>\n",
       "      <td>29.8</td>\n",
       "      <td>1.6</td>\n",
       "    </tr>\n",
       "    <tr>\n",
       "      <th>2</th>\n",
       "      <td>성별</td>\n",
       "      <td>여자</td>\n",
       "      <td>45.0</td>\n",
       "      <td>8.3</td>\n",
       "      <td>6.0</td>\n",
       "      <td>38.8</td>\n",
       "      <td>1.8</td>\n",
       "    </tr>\n",
       "  </tbody>\n",
       "</table>\n",
       "</div>"
      ],
      "text/plain": [
       "  대분류  분류  운동을 할 충분한 시간이 없어서 함께 운동을 할 사람이 없어서  운동을 할 만한 장소가 없어서  운동을 싫어해서   기타\n",
       "1  성별  남자               55.2              7.9               5.5      29.8  1.6\n",
       "2  성별  여자               45.0              8.3               6.0      38.8  1.8"
      ]
     },
     "execution_count": 23,
     "metadata": {},
     "output_type": "execute_result"
    }
   ],
   "source": [
    "raw_data = raw_data[raw_data['대분류'] == '성별']\n",
    "raw_data"
   ]
  },
  {
   "cell_type": "code",
   "execution_count": 37,
   "id": "ee79df89",
   "metadata": {},
   "outputs": [],
   "source": [
    "import matplotlib.pyplot as plt\n",
    "%matplotlib inline\n",
    "\n",
    "from matplotlib import font_manager, rc\n",
    "plt.rcParams['axes.unicode_minus'] = False\n",
    "\n",
    "#f_path = \"/Libary/Fonts/App/eGothic.ttf\"\n",
    "f_path = \"C://Windows//Fonts/malgun.ttf\"\n",
    "font_name = font_manager.FontProperties(fname=f_path).get_name()\n",
    "rc('font', family=font_name)"
   ]
  },
  {
   "cell_type": "code",
   "execution_count": 38,
   "id": "b0861283",
   "metadata": {},
   "outputs": [
    {
     "data": {
      "image/png": "[encoded data removed]",
      "text/plain": [
       "<Figure size 720x576 with 1 Axes>"
      ]
     },
     "metadata": {},
     "output_type": "display_data"
    }
   ],
   "source": [
    "plt.figure(figsize=(10,8))\n",
    "raw_data['운동을 할 충분한 시간이 없어서'].plot.pie(explode=[0,0.02])\n",
    "plt.show()"
   ]
  },
  {
   "cell_type": "code",
   "execution_count": 39,
   "id": "53150bf6",
   "metadata": {},
   "outputs": [
    {
     "data": {
      "text/html": [
       "<div>\n",
       "<style scoped>\n",
       "    .dataframe tbody tr th:only-of-type {\n",
       "        vertical-align: middle;\n",
       "    }\n",
       "\n",
       "    .dataframe tbody tr th {\n",
       "        vertical-align: top;\n",
       "    }\n",
       "\n",
       "    .dataframe thead th {\n",
       "        text-align: right;\n",
       "    }\n",
       "</style>\n",
       "<table border=\"1\" class=\"dataframe\">\n",
       "  <thead>\n",
       "    <tr style=\"text-align: right;\">\n",
       "      <th></th>\n",
       "      <th>대분류</th>\n",
       "      <th>운동을 할 충분한 시간이 없어서</th>\n",
       "      <th>함께 운동을 할 사람이 없어서</th>\n",
       "      <th>운동을 할 만한 장소가 없어서</th>\n",
       "      <th>운동을 싫어해서</th>\n",
       "      <th>기타</th>\n",
       "    </tr>\n",
       "    <tr>\n",
       "      <th>분류</th>\n",
       "      <th></th>\n",
       "      <th></th>\n",
       "      <th></th>\n",
       "      <th></th>\n",
       "      <th></th>\n",
       "      <th></th>\n",
       "    </tr>\n",
       "  </thead>\n",
       "  <tbody>\n",
       "    <tr>\n",
       "      <th>남자</th>\n",
       "      <td>성별</td>\n",
       "      <td>55.2</td>\n",
       "      <td>7.9</td>\n",
       "      <td>5.5</td>\n",
       "      <td>29.8</td>\n",
       "      <td>1.6</td>\n",
       "    </tr>\n",
       "    <tr>\n",
       "      <th>여자</th>\n",
       "      <td>성별</td>\n",
       "      <td>45.0</td>\n",
       "      <td>8.3</td>\n",
       "      <td>6.0</td>\n",
       "      <td>38.8</td>\n",
       "      <td>1.8</td>\n",
       "    </tr>\n",
       "  </tbody>\n",
       "</table>\n",
       "</div>"
      ],
      "text/plain": [
       "   대분류  운동을 할 충분한 시간이 없어서 함께 운동을 할 사람이 없어서  운동을 할 만한 장소가 없어서  운동을 싫어해서   기타\n",
       "분류                                                                         \n",
       "남자  성별               55.2              7.9               5.5      29.8  1.6\n",
       "여자  성별               45.0              8.3               6.0      38.8  1.8"
      ]
     },
     "execution_count": 39,
     "metadata": {},
     "output_type": "execute_result"
    }
   ],
   "source": [
    "raw_data.set_index('분류', inplace=True)\n",
    "raw_data.head()"
   ]
  },
  {
   "cell_type": "code",
   "execution_count": 40,
   "id": "4308841f",
   "metadata": {},
   "outputs": [
    {
     "data": {
      "image/png": "[encoded data removed]",
      "text/plain": [
       "<Figure size 720x576 with 1 Axes>"
      ]
     },
     "metadata": {},
     "output_type": "display_data"
    }
   ],
   "source": [
    "plt.figure(figsize=(10,8))\n",
    "raw_data['운동을 할 충분한 시간이 없어서'].plot.pie(explode=[0,0.02])\n",
    "plt.show()"
   ]
  },
  {
   "cell_type": "code",
   "execution_count": 41,
   "id": "e35df78a",
   "metadata": {},
   "outputs": [
    {
     "data": {
      "image/png": "[encoded data removed]",
      "text/plain": [
       "<Figure size 720x576 with 1 Axes>"
      ]
     },
     "metadata": {},
     "output_type": "display_data"
    }
   ],
   "source": [
    "plt.figure(figsize=(10,8))\n",
    "raw_data['함께 운동을 할 사람이 없어서'].plot.pie(explode=[0,0.02])\n",
    "plt.show()"
   ]
  },
  {
   "cell_type": "code",
   "execution_count": 42,
   "id": "1c2b5435",
   "metadata": {},
   "outputs": [
    {
     "data": {
      "text/html": [
       "<div>\n",
       "<style scoped>\n",
       "    .dataframe tbody tr th:only-of-type {\n",
       "        vertical-align: middle;\n",
       "    }\n",
       "\n",
       "    .dataframe tbody tr th {\n",
       "        vertical-align: top;\n",
       "    }\n",
       "\n",
       "    .dataframe thead th {\n",
       "        text-align: right;\n",
       "    }\n",
       "</style>\n",
       "<table border=\"1\" class=\"dataframe\">\n",
       "  <thead>\n",
       "    <tr style=\"text-align: right;\">\n",
       "      <th></th>\n",
       "      <th>대분류</th>\n",
       "      <th>운동을 할 충분한 시간이 없어서</th>\n",
       "      <th>함께 운동을 할 사람이 없어서</th>\n",
       "      <th>운동을 할 만한 장소가 없어서</th>\n",
       "      <th>운동을 싫어해서</th>\n",
       "      <th>기타</th>\n",
       "    </tr>\n",
       "    <tr>\n",
       "      <th>분류</th>\n",
       "      <th></th>\n",
       "      <th></th>\n",
       "      <th></th>\n",
       "      <th></th>\n",
       "      <th></th>\n",
       "      <th></th>\n",
       "    </tr>\n",
       "  </thead>\n",
       "  <tbody>\n",
       "    <tr>\n",
       "      <th>남자</th>\n",
       "      <td>성별</td>\n",
       "      <td>55.2</td>\n",
       "      <td>7.9</td>\n",
       "      <td>5.5</td>\n",
       "      <td>29.8</td>\n",
       "      <td>1.6</td>\n",
       "    </tr>\n",
       "    <tr>\n",
       "      <th>여자</th>\n",
       "      <td>성별</td>\n",
       "      <td>45.0</td>\n",
       "      <td>8.3</td>\n",
       "      <td>6.0</td>\n",
       "      <td>38.8</td>\n",
       "      <td>1.8</td>\n",
       "    </tr>\n",
       "  </tbody>\n",
       "</table>\n",
       "</div>"
      ],
      "text/plain": [
       "   대분류  운동을 할 충분한 시간이 없어서 함께 운동을 할 사람이 없어서  운동을 할 만한 장소가 없어서  운동을 싫어해서   기타\n",
       "분류                                                                         \n",
       "남자  성별               55.2              7.9               5.5      29.8  1.6\n",
       "여자  성별               45.0              8.3               6.0      38.8  1.8"
      ]
     },
     "execution_count": 42,
     "metadata": {},
     "output_type": "execute_result"
    }
   ],
   "source": [
    "raw_data"
   ]
  },
  {
   "cell_type": "code",
   "execution_count": 43,
   "id": "5f61768e",
   "metadata": {},
   "outputs": [
    {
     "name": "stdout",
     "output_type": "stream",
     "text": [
      "<class 'pandas.core.frame.DataFrame'>\n",
      "Index: 2 entries, 남자 to 여자\n",
      "Data columns (total 6 columns):\n",
      " #   Column             Non-Null Count  Dtype  \n",
      "---  ------             --------------  -----  \n",
      " 0   대분류                2 non-null      object \n",
      " 1   운동을 할 충분한 시간이 없어서  2 non-null      float64\n",
      " 2   함께 운동을 할 사람이 없어서   2 non-null      object \n",
      " 3   운동을 할 만한 장소가 없어서   2 non-null      float64\n",
      " 4   운동을 싫어해서           2 non-null      float64\n",
      " 5   기타                 2 non-null      object \n",
      "dtypes: float64(3), object(3)\n",
      "memory usage: 112.0+ bytes\n"
     ]
    }
   ],
   "source": [
    "raw_data.info()"
   ]
  },
  {
   "cell_type": "code",
   "execution_count": 44,
   "id": "66cb8dd2",
   "metadata": {},
   "outputs": [
    {
     "name": "stdout",
     "output_type": "stream",
     "text": [
      "<class 'pandas.core.frame.DataFrame'>\n",
      "Index: 2 entries, 남자 to 여자\n",
      "Data columns (total 6 columns):\n",
      " #   Column             Non-Null Count  Dtype  \n",
      "---  ------             --------------  -----  \n",
      " 0   대분류                2 non-null      object \n",
      " 1   운동을 할 충분한 시간이 없어서  2 non-null      float64\n",
      " 2   함께 운동을 할 사람이 없어서   2 non-null      float64\n",
      " 3   운동을 할 만한 장소가 없어서   2 non-null      float64\n",
      " 4   운동을 싫어해서           2 non-null      float64\n",
      " 5   기타                 2 non-null      object \n",
      "dtypes: float64(4), object(2)\n",
      "memory usage: 112.0+ bytes\n"
     ]
    }
   ],
   "source": [
    "raw_data['함께 운동을 할 사람이 없어서'] = raw_data['함께 운동을 할 사람이 없어서']. astype('float')\n",
    "raw_data.info()"
   ]
  },
  {
   "cell_type": "code",
   "execution_count": 45,
   "id": "69c935dd",
   "metadata": {},
   "outputs": [
    {
     "data": {
      "image/png": "[encoded data removed]",
      "text/plain": [
       "<Figure size 720x576 with 1 Axes>"
      ]
     },
     "metadata": {},
     "output_type": "display_data"
    }
   ],
   "source": [
    "plt.figure(figsize=(10,8))\n",
    "raw_data['함께 운동을 할 사람이 없어서'].plot.pie(explode=[0,0.02])\n",
    "plt.show()"
   ]
  },
  {
   "cell_type": "code",
   "execution_count": 47,
   "id": "0278ace0",
   "metadata": {},
   "outputs": [
    {
     "data": {
      "text/plain": [
       "2"
      ]
     },
     "execution_count": 47,
     "metadata": {},
     "output_type": "execute_result"
    },
    {
     "data": {
      "image/png": "[encoded data removed]",
      "text/plain": [
       "<Figure size 1152x576 with 2 Axes>"
      ]
     },
     "metadata": {
      "needs_background": "light"
     },
     "output_type": "display_data"
    }
   ],
   "source": [
    "fig, ax = plt.subplots(1,2, figsize=(16,8))\n",
    "len(ax)"
   ]
  },
  {
   "cell_type": "code",
   "execution_count": 48,
   "id": "6db48b1b",
   "metadata": {},
   "outputs": [
    {
     "data": {
      "image/png": "[encoded data removed]",
      "text/plain": [
       "<Figure size 1152x576 with 2 Axes>"
      ]
     },
     "metadata": {},
     "output_type": "display_data"
    }
   ],
   "source": [
    "fig, ax = plt.subplots(1,2, figsize=(16,8))\n",
    "\n",
    "raw_data['운동을 할 충분한 시간이 없어서'].plot.pie(explode=[0,0.02], ax=ax[0])\n",
    "raw_data['함께 운동을 할 사람이 없어서'].plot.pie(explode=[0,0.02], ax=ax[1])\n",
    "\n",
    "plt.show()"
   ]
  },
  {
   "cell_type": "code",
   "execution_count": 49,
   "id": "d27bf48d",
   "metadata": {},
   "outputs": [
    {
     "data": {
      "image/png": "[encoded data removed]",
      "text/plain": [
       "<Figure size 1152x576 with 2 Axes>"
      ]
     },
     "metadata": {},
     "output_type": "display_data"
    }
   ],
   "source": [
    "f, ax = plt.subplots(1,2, figsize=(16,8))\n",
    "\n",
    "raw_data['운동을 할 충분한 시간이 없어서'].plot.pie(explode=[0,0.02], ax=ax[0],\n",
    "                                       autopct='%.1f')\n",
    "ax[0].set_title('운동을 할 충분한 시간이 없어서')\n",
    "ax[0].set_ylabel('')\n",
    "\n",
    "raw_data['함께 운동을 할 사람이 없어서'].plot.pie(explode=[0,0.02], ax=ax[1],\n",
    "                                      autopct='%1.1f%%')\n",
    "ax[1].set_title('함께 운동을 할 사람이 없어서')\n",
    "ax[1].set_ylabel('')\n",
    "\n",
    "plt.show()"
   ]
  },
  {
   "cell_type": "code",
   "execution_count": null,
   "id": "c3d6d262",
   "metadata": {},
   "outputs": [],
   "source": []
  }
 ],
 "metadata": {
  "kernelspec": {
   "display_name": "Python 3 (ipykernel)",
   "language": "python",
   "name": "python3"
  },
  "language_info": {
   "codemirror_mode": {
    "name": "ipython",
    "version": 3
   },
   "file_extension": ".py",
   "mimetype": "text/x-python",
   "name": "python",
   "nbconvert_exporter": "python",
   "pygments_lexer": "ipython3",
   "version": "3.9.12"
  }
 },
 "nbformat": 4,
 "nbformat_minor": 5
}
