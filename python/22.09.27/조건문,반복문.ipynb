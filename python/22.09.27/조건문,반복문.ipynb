{
 "cells": [
  {
   "cell_type": "code",
   "execution_count": 3,
   "id": "24287547",
   "metadata": {},
   "outputs": [
    {
     "name": "stdout",
     "output_type": "stream",
     "text": [
      "조건문입니다.\n"
     ]
    }
   ],
   "source": [
    "if True:\n",
    "    print(\"조건문입니다.\")"
   ]
  },
  {
   "cell_type": "code",
   "execution_count": 4,
   "id": "e1689e75",
   "metadata": {},
   "outputs": [
    {
     "name": "stdout",
     "output_type": "stream",
     "text": [
      "같습니다.\n"
     ]
    }
   ],
   "source": [
    "x = 1\n",
    "y = 1\n",
    "\n",
    "if x == y:\n",
    "    print(\"같습니다.\")"
   ]
  },
  {
   "cell_type": "code",
   "execution_count": 6,
   "id": "eb35afe7",
   "metadata": {},
   "outputs": [
    {
     "name": "stdout",
     "output_type": "stream",
     "text": [
      "같지 않습니다.\n"
     ]
    }
   ],
   "source": [
    "x = 1\n",
    "y = 2\n",
    "\n",
    "if x == y:\n",
    "    print(\"같습니다.\")\n",
    "else:\n",
    "    print(\"같지 않습니다.\")"
   ]
  },
  {
   "cell_type": "code",
   "execution_count": 7,
   "id": "a0afc52a",
   "metadata": {},
   "outputs": [
    {
     "name": "stdout",
     "output_type": "stream",
     "text": [
      "x가 큽니다.\n"
     ]
    }
   ],
   "source": [
    "x = 3\n",
    "y = 2\n",
    "\n",
    "if x == y:\n",
    "    print(\"같습니다.\")\n",
    "elif x > y:\n",
    "    print(\"x가 큽니다.\")\n",
    "else:\n",
    "    print(\"y가 큽니다.\")"
   ]
  },
  {
   "cell_type": "code",
   "execution_count": 8,
   "id": "fa05ed3c",
   "metadata": {},
   "outputs": [
    {
     "name": "stdout",
     "output_type": "stream",
     "text": [
      "1\n",
      "2\n",
      "3\n"
     ]
    }
   ],
   "source": [
    "for n in [1, 2, 3]:\n",
    "    print(n)"
   ]
  },
  {
   "cell_type": "code",
   "execution_count": 9,
   "id": "fd50db82",
   "metadata": {},
   "outputs": [
    {
     "name": "stdout",
     "output_type": "stream",
     "text": [
      "0 번쨰 값은 1\n",
      "1 번쨰 값은 2\n",
      "2 번쨰 값은 3\n"
     ]
    }
   ],
   "source": [
    "a = [1, 2, 3]\n",
    "for n in a:\n",
    "    print(a.index(n), '번쨰 값은', n)"
   ]
  },
  {
   "cell_type": "code",
   "execution_count": 10,
   "id": "b1dadeff",
   "metadata": {},
   "outputs": [
    {
     "name": "stdout",
     "output_type": "stream",
     "text": [
      "0\n",
      "1\n",
      "2\n",
      "3\n",
      "4\n"
     ]
    }
   ],
   "source": [
    "for n in range(5):\n",
    "    print(n)"
   ]
  },
  {
   "cell_type": "code",
   "execution_count": 11,
   "id": "1222800a",
   "metadata": {},
   "outputs": [
    {
     "name": "stdout",
     "output_type": "stream",
     "text": [
      "0\n",
      "1\n",
      "2\n"
     ]
    }
   ],
   "source": [
    "for n in range(5):\n",
    "    if n == 3:\n",
    "        break\n",
    "        \n",
    "    print(n)"
   ]
  },
  {
   "cell_type": "code",
   "execution_count": 12,
   "id": "ff97ca33",
   "metadata": {},
   "outputs": [
    {
     "name": "stdout",
     "output_type": "stream",
     "text": [
      "0 => 0\n",
      "2 => 4\n",
      "4 => 16\n",
      "6 => 36\n",
      "8 => 64\n"
     ]
    }
   ],
   "source": [
    "for n in range(10):\n",
    "    if n % 2 == 1:\n",
    "        continue\n",
    "        \n",
    "    print(n, '=>', n**2)"
   ]
  },
  {
   "cell_type": "code",
   "execution_count": 13,
   "id": "db206653",
   "metadata": {},
   "outputs": [
    {
     "data": {
      "text/plain": [
       "True"
      ]
     },
     "execution_count": 13,
     "metadata": {},
     "output_type": "execute_result"
    }
   ],
   "source": [
    "a = ['aa', 'bb', 'cc']\n",
    "\n",
    "'aa' in a"
   ]
  },
  {
   "cell_type": "code",
   "execution_count": 14,
   "id": "a2049df9",
   "metadata": {},
   "outputs": [
    {
     "name": "stdout",
     "output_type": "stream",
     "text": [
      "엘사 : 사람입니다.\n",
      "안나 : 사람입니다.\n",
      "스벤 : 사람의 친구입니다.\n",
      "크리스토프 : 사람입니다.\n",
      "울라프 : 사람의 친구입니다.\n"
     ]
    }
   ],
   "source": [
    "names = ['엘사', '안나', '스벤', '크리스토프', '울라프']\n",
    "peoples = ['엘사', '안나', '크리스토프']\n",
    "\n",
    "for each in names:\n",
    "    if each in peoples:\n",
    "        print(each, ': 사람입니다.')\n",
    "    else:\n",
    "        print(each, ': 사람의 친구입니다.')"
   ]
  },
  {
   "cell_type": "code",
   "execution_count": 15,
   "id": "6b46f72b",
   "metadata": {},
   "outputs": [
    {
     "data": {
      "text/plain": [
       "[1, 4, 9, 16, 25]"
      ]
     },
     "execution_count": 15,
     "metadata": {},
     "output_type": "execute_result"
    }
   ],
   "source": [
    "t = [1, 2, 3, 4, 5]\n",
    "y = []\n",
    "for n in t:\n",
    "    y.append(n**2)\n",
    "    \n",
    "y"
   ]
  },
  {
   "cell_type": "code",
   "execution_count": 16,
   "id": "99f0fea8",
   "metadata": {},
   "outputs": [
    {
     "data": {
      "text/plain": [
       "[1, 4, 9, 16, 25]"
      ]
     },
     "execution_count": 16,
     "metadata": {},
     "output_type": "execute_result"
    }
   ],
   "source": [
    "t = [1, 2, 3, 4, 5]\n",
    "y = []\n",
    "\n",
    "for n in t:\n",
    "    y.append(n**2)\n",
    "    \n",
    "y"
   ]
  },
  {
   "cell_type": "code",
   "execution_count": 17,
   "id": "3c36abe5",
   "metadata": {},
   "outputs": [
    {
     "data": {
      "text/plain": [
       "[1, 4, 9, 16, 25]"
      ]
     },
     "execution_count": 17,
     "metadata": {},
     "output_type": "execute_result"
    }
   ],
   "source": [
    "t = [1, 2, 3, 4, 5]\n",
    "y = [n**2 for n in t]\n",
    "y"
   ]
  },
  {
   "cell_type": "code",
   "execution_count": null,
   "id": "f6b68026",
   "metadata": {},
   "outputs": [],
   "source": []
  }
 ],
 "metadata": {
  "kernelspec": {
   "display_name": "Python 3 (ipykernel)",
   "language": "python",
   "name": "python3"
  },
  "language_info": {
   "codemirror_mode": {
    "name": "ipython",
    "version": 3
   },
   "file_extension": ".py",
   "mimetype": "text/x-python",
   "name": "python",
   "nbconvert_exporter": "python",
   "pygments_lexer": "ipython3",
   "version": "3.9.12"
  }
 },
 "nbformat": 4,
 "nbformat_minor": 5
}
