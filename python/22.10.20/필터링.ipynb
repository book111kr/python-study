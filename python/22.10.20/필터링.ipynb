{
 "cells": [
  {
   "cell_type": "markdown",
   "id": "8630b783",
   "metadata": {},
   "source": [
    "# 필터링"
   ]
  },
  {
   "cell_type": "markdown",
   "id": "75e41137",
   "metadata": {},
   "source": [
    "## filter 함수"
   ]
  },
  {
   "cell_type": "markdown",
   "id": "ecc50855",
   "metadata": {},
   "source": [
    "- cv2.filter2D(src, ddepth, kernel, dst=None, anchor=None, delta=None,\n",
    "               borderType=None) -> dst"
   ]
  },
  {
   "cell_type": "code",
   "execution_count": 1,
   "id": "1867aa3f",
   "metadata": {},
   "outputs": [],
   "source": [
    "import sys\n",
    "import numpy as np\n",
    "import cv2\n",
    "\n",
    "src = cv2.imread('rose.bmp', cv2.IMREAD_GRAYSCALE)\n",
    "if src is None:\n",
    "    print('Image load failed!')\n",
    "    sys.exit()\n",
    "#dst = cv2.filter2D(src, -1, kernel)\n",
    "dst = cv2.blur(src, (3, 3))\n",
    "\n",
    "cv2.imshow('src', src)\n",
    "cv2.imshow('dst', dst)\n",
    "cv2.waitKey()\n",
    "\n",
    "cv2.destroyAllWindows()"
   ]
  },
  {
   "cell_type": "markdown",
   "id": "a66c94a8",
   "metadata": {},
   "source": [
    "## Blir"
   ]
  },
  {
   "cell_type": "markdown",
   "id": "d1341242",
   "metadata": {},
   "source": [
    "- cv2.blur(src, ksize, dst=None, anchor=None, borderType=None) -> dst\n",
    "\n",
    "- src : 압력 영상\n",
    "- ksize : 평균값 필터 크기.(width,height) 형태의 튜플\n",
    "- dst : 결과 영상. 입력 영상과 같은 크기 & 같은 타입"
   ]
  },
  {
   "cell_type": "code",
   "execution_count": 2,
   "id": "50fea1d4",
   "metadata": {},
   "outputs": [],
   "source": [
    "import sys\n",
    "import numpy as np\n",
    "import cv2\n",
    "\n",
    "src = cv2.imread('rose.bmp', cv2.IMREAD_GRAYSCALE)\n",
    "\n",
    "if src is None:\n",
    "    print('Image load failed!')\n",
    "    sys.exit()\n",
    "\n",
    "cv2.imshow('src', src)\n",
    "\n",
    "for ksize in (3, 5, 7):\n",
    "    dst = cv2.blur(src, (ksize, ksize))\n",
    "    \n",
    "    desc = 'Mean: {}x{}'.format(ksize, ksize)\n",
    "    cv2.putText(dst, desc, (10, 30), cv2.FONT_HERSHEY_SIMPLEX,\n",
    "                1.0, 255, 1, cv2.LINE_AA)\n",
    "\n",
    "    cv2.imshow('dst', dst)\n",
    "    cv2.waitKey()\n",
    "    \n",
    "cv2.destroyAllWindows()"
   ]
  },
  {
   "cell_type": "markdown",
   "id": "6e942b79",
   "metadata": {},
   "source": [
    "# 가우시안 필터"
   ]
  },
  {
   "cell_type": "markdown",
   "id": "74b717da",
   "metadata": {},
   "source": [
    "## 평균갑과 가우시안 필터의 차이\n",
    "- 가까운 픽셀과 멀리 있는 픽셀이 같은 가중치를 사용하여 평균 계산\n",
    "- 가까운 픽셀은 큰 가중치를, 멀리 있는 픽셀은 작은 가중치를 사용하여 평균 계산"
   ]
  },
  {
   "cell_type": "markdown",
   "id": "a1fbc8e9",
   "metadata": {},
   "source": [
    "## 가우시안 블러 함수\n",
    "- cv2.GaussianBlur(src, ksize, sigmaX, dst=None, sigmaY=None,\n",
    "                 borderType=None) ->"
   ]
  },
  {
   "cell_type": "code",
   "execution_count": 3,
   "id": "94d94dfc",
   "metadata": {},
   "outputs": [],
   "source": [
    "import sys\n",
    "import numpy as np\n",
    "import cv2\n",
    "\n",
    "src = cv2.imread('rose.bmp', cv2.IMREAD_GRAYSCALE)\n",
    "\n",
    "if src is None:\n",
    "    print('Image load failed!')\n",
    "    sys.exit()\n",
    "    \n",
    "cv2.imshow('src', src)\n",
    "\n",
    "for sigma in range(1, 6):\n",
    "    # sigma 값을 이용하여 가우시안 필터링\n",
    "    dst = cv2.GaussianBlur(src, (0, 0), sigma)\n",
    "\n",
    "    desc = 'sigma = {}'.format(sigma)\n",
    "    cv2.putText(dst, desc, (10, 30), cv2.FONT_HERSHEY_SIMPLEX,\n",
    "                1.0, 255, 1, cv2.LINE_AA)\n",
    "    \n",
    "    cv2.imshow('dst', dst)\n",
    "    cv2.waitKey()\n",
    "    \n",
    "cv2.destroyAllWindows()"
   ]
  },
  {
   "cell_type": "markdown",
   "id": "294c0849",
   "metadata": {},
   "source": [
    "# 샤프닝 필터"
   ]
  },
  {
   "cell_type": "markdown",
   "id": "1dd12506",
   "metadata": {},
   "source": [
    "## 흑백\n",
    "- src = cv2.imread('rose.bmp', cv2.IMREAD_GRAYSCALE)\n",
    "\n",
    "- src_f = src.astype(np.float32)\n",
    "- blr = cv2.GaussianBlur(src_f, (0, 0), 2.0)\n",
    "- dst = np.clip(2. *src_f - blr, 0, 255).astype(np.uint8)"
   ]
  },
  {
   "cell_type": "code",
   "execution_count": null,
   "id": "6af0d387",
   "metadata": {},
   "outputs": [],
   "source": [
    "import sys\n",
    "import numpy as np\n",
    "import cv2\n",
    "\n",
    "src = cv2.imread('rose.bmp', cv2.IMREAD_GRAYSCALE)\n",
    "\n",
    "if src is None:\n",
    "    print('Image load failed!')\n",
    "    sys.exit()\n",
    "\n",
    "blr = cv2.GaussianBlur(src, (0, 0), 2)\n",
    "dst = np.clip(2.0*src - blr, 0, 255).astype(np.uint8)\n",
    "\n",
    "cv2.imshow('src', src)\n",
    "cv2.imshow('blr', blr)\n",
    "cv2.imshow('dst', dst)\n",
    "cv2.waitKey()\n",
    "\n",
    "cv2.destroyAllWindows()"
   ]
  },
  {
   "cell_type": "markdown",
   "id": "9b6f4a4c",
   "metadata": {},
   "source": [
    "## 칼라"
   ]
  },
  {
   "cell_type": "code",
   "execution_count": null,
   "id": "5472c82a",
   "metadata": {},
   "outputs": [],
   "source": [
    "import sys\n",
    "import numpy as np\n",
    "import cv2\n",
    "\n",
    "src = cv2.imread('rose.bmp')\n",
    "\n",
    "if src is None:\n",
    "    print('Image load failed!')\n",
    "    sys.exit()\n",
    "\n",
    "src_ycrcb = cv2.cvtColor(src, cv2.COLOR_BGR2YCrCb)\n",
    "\n",
    "src_f = src_ycrcb[:, :, 0].astype(np.float32)\n",
    "blr = cv2.GaussianBlur(src_f, (0, 0), 2.0)\n",
    "src_ycrcb[:, :, 0] = np.clip(2. * src_f - blr, 0, 255).astype(np.uint8)\n",
    "\n",
    "dst = cv2.cvtColor(src_ycrcb, cv2.COLOR_YCrCb2BGR)\n",
    "\n",
    "cv2.imshow('src', src)\n",
    "cv2.imshow('dst', dst)\n",
    "cv2.waitKey()\n",
    "\n",
    "cv2.destroyAllWindows()"
   ]
  },
  {
   "cell_type": "markdown",
   "id": "bb2accb4",
   "metadata": {},
   "source": [
    "# 잡음 제거"
   ]
  },
  {
   "cell_type": "markdown",
   "id": "0343a5d2",
   "metadata": {},
   "source": [
    "## 메디안 필터"
   ]
  },
  {
   "cell_type": "markdown",
   "id": "c1085059",
   "metadata": {},
   "source": [
    "## 메디안 블러"
   ]
  },
  {
   "cell_type": "markdown",
   "id": "96887b07",
   "metadata": {},
   "source": [
    "- cv2.medianBlur(src, ksize, dst=None) -> dst\n",
    "\n",
    "- src : 입력 영상. 각 채널 별로 처리됨\n",
    "- ksize : 커널 크기.1보다 큰 홀수를 지정\n",
    "- dst : 출력 영상.src와 같은 크기, 같은 타입"
   ]
  },
  {
   "cell_type": "code",
   "execution_count": 8,
   "id": "5bec556b",
   "metadata": {},
   "outputs": [],
   "source": [
    "import sys\n",
    "import numpy as np\n",
    "import cv2\n",
    "\n",
    "src = cv2.imread('./noise.bmp', cv2.IMREAD_GRAYSCALE)\n",
    "\n",
    "if src is None:\n",
    "    print('Image load failed!')\n",
    "    sys.exit()\n",
    "\n",
    "dst = cv2.medianBlur(src, 3)\n",
    "\n",
    "cv2.imshow('src', src)\n",
    "cv2.imshow('dst', dst)\n",
    "cv2.waitKey()\n",
    "\n",
    "    cv2.destroyAllWindows()"
   ]
  },
  {
   "cell_type": "markdown",
   "id": "36b9c843",
   "metadata": {},
   "source": [
    "## 가우시안 필터는 영상 전체에서"
   ]
  },
  {
   "cell_type": "markdown",
   "id": "0b23cfb3",
   "metadata": {},
   "source": [
    "- (일반적인) 가우시안 필터링: 영상 전체에서 blurring"
   ]
  },
  {
   "cell_type": "markdown",
   "id": "1e1d3498",
   "metadata": {},
   "source": [
    "## 양방향 필터는 엣지 뺴고"
   ]
  },
  {
   "cell_type": "markdown",
   "id": "ca1893b8",
   "metadata": {},
   "source": [
    "- 양방향 필터: 에지가 아닌 부분에서만 blurring"
   ]
  },
  {
   "cell_type": "markdown",
   "id": "3b7a97bc",
   "metadata": {},
   "source": [
    "## 양방향 필터 함수"
   ]
  },
  {
   "cell_type": "markdown",
   "id": "576e7424",
   "metadata": {},
   "source": [
    "- cv2.bilateralFilter(src, d, sigmaColor, sigmaSpace, dst=None,\n",
    "                      borderType=None) -> dst"
   ]
  },
  {
   "cell_type": "markdown",
   "id": "4eb09469",
   "metadata": {},
   "source": [
    "- src : 입력 영상 8비트 또는 실수형, 1채널 또는 3채널 \n",
    "- d : 필터링에 사용될 이웃 픽셀의 거리(지름)\n",
    "      음수(-1)를 입력하면 sigmaSpace 값에 의해 자동 결정됨\n",
    "- sigmaColor : 색 공간에서 필터의 표준 편차\n",
    "- sigmaSpace : 좌표 공간에서 필터의 표준 편차\n",
    "- dst : 출력 영상 src와 같은 크기, 같은 타입\n",
    "- borderType : 가장자리 픽셀 처리 방식"
   ]
  },
  {
   "cell_type": "code",
   "execution_count": 11,
   "id": "1f092993",
   "metadata": {},
   "outputs": [],
   "source": [
    "import sys\n",
    "import numpy as np\n",
    "import cv2\n",
    "\n",
    "src = cv2.imread('lenna.bmp')\n",
    "\n",
    "if src is None:\n",
    "    print('Image load failed!')\n",
    "    sys.exit()\n",
    "    \n",
    "dst = cv2.bilateralFilter(src, -1, 10, 5)\n",
    "\n",
    "cv2.imshow('src', src)\n",
    "cv2.imshow('dst', dst)\n",
    "cv2.waitKey()\n",
    "\n",
    "cv2.destroyAllWindows()"
   ]
  },
  {
   "cell_type": "code",
   "execution_count": 12,
   "id": "5fd578cd",
   "metadata": {},
   "outputs": [],
   "source": [
    "## 카툰필터"
   ]
  },
  {
   "cell_type": "code",
   "execution_count": 15,
   "id": "efe963cc",
   "metadata": {},
   "outputs": [],
   "source": [
    "# 카툰 필터 카메라\n",
    "\n",
    "import sys\n",
    "import numpy as np\n",
    "import cv2\n",
    "\n",
    "def cartoon_filter(img):\n",
    "    h, w = img.shape[:2]\n",
    "    img2 = cv2.resize(img, (w//2, h//2))\n",
    "\n",
    "    blr = cv2.bilateralFilter(img2, -1, 20, 7)\n",
    "    edge = 255 - cv2.Canny(img2, 80, 120)\n",
    "    edge = cv2.cvtColor(edge, cv2.COLOR_GRAY2BGR)\n",
    "\n",
    "    dst = cv2.bitwise_and(blr, edge)\n",
    "    dst = cv2.resize(dst, (w, h), interpolation=cv2.INTER_NEAREST)\n",
    "\n",
    "    return dst\n",
    "\n",
    "def pencil_sketch(img):\n",
    "    gray = cv2.cvtColor(img, cv2.COLOR_BGR2GRAY)\n",
    "    blr = cv2.GaussianBlur(gray, (0, 0), 3)\n",
    "    dst = cv2.divide(gray, blr, scale=255)\n",
    "    return dst\n",
    "\n",
    "cap = cv2.VideoCapture(0)\n",
    "\n",
    "if not cap.isOpened():\n",
    "    print('video open failed!')\n",
    "    sys.exit()\n",
    "\n",
    "cam_mode = 0\n",
    "\n",
    "while True:\n",
    "    ret, frame = cap.read()\n",
    "\n",
    "    if not ret:\n",
    "        break\n",
    "\n",
    "    if cam_mode == 1:\n",
    "        frame = cartoon_filter(frame)\n",
    "\n",
    "    elif cam_mode == 2:\n",
    "        frame = pencil_sketch(frame)\n",
    "        frame = cv2.cvtColor(frame, cv2.COLOR_GRAY2BGR)\n",
    "\n",
    "    cv2.imshow('frame', frame)\n",
    "    key = cv2.waitKey(1)\n",
    "\n",
    "    if key == 27:\n",
    "        break\n",
    "    \n",
    "    elif key == ord(' '):\n",
    "        cam_mode += 1\n",
    "        if cam_mode == 3:\n",
    "            cam_mode = 0\n",
    "            \n",
    "cap.release()\n",
    "cv2.destroyAllWindows()"
   ]
  },
  {
   "cell_type": "code",
   "execution_count": null,
   "id": "b40becf6",
   "metadata": {},
   "outputs": [],
   "source": []
  }
 ],
 "metadata": {
  "kernelspec": {
   "display_name": "Python 3 (ipykernel)",
   "language": "python",
   "name": "python3"
  },
  "language_info": {
   "codemirror_mode": {
    "name": "ipython",
    "version": 3
   },
   "file_extension": ".py",
   "mimetype": "text/x-python",
   "name": "python",
   "nbconvert_exporter": "python",
   "pygments_lexer": "ipython3",
   "version": "3.8.10"
  }
 },
 "nbformat": 4,
 "nbformat_minor": 5
}
