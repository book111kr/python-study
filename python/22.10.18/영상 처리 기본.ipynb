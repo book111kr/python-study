{
 "cells": [
  {
   "cell_type": "markdown",
   "id": "af088e36",
   "metadata": {},
   "source": [
    "## 화소처리\n",
    "- dst(x,y)=f(src(x,y))"
   ]
  },
  {
   "cell_type": "markdown",
   "id": "85d9cad6",
   "metadata": {},
   "source": [
    "## 밝기 조절의 개념\n",
    "- dst(x,y)=saturate(src(x,y)+n)"
   ]
  },
  {
   "cell_type": "markdown",
   "id": "64a5a465",
   "metadata": {},
   "source": [
    "## 덧셈 연산\n",
    "- cv2.add(src1, src2, dst=None, mask=None, dtype=None) -> dst"
   ]
  },
  {
   "cell_type": "markdown",
   "id": "9d4beb43",
   "metadata": {},
   "source": [
    "## 그레이스케일 영상 밝기 조절\n",
    "- src = cv2.imread('lenna.bmp', cv2.I)\n",
    "- dst1 = cv2.add(src, 100)\n",
    "- dst2 = src + 100\n",
    "- #dst2 = np.clip(scr + 100., 0, 255).astype(np.uint8)"
   ]
  },
  {
   "cell_type": "markdown",
   "id": "e17d8be1",
   "metadata": {},
   "source": [
    "## 칼라영상 밝기 조절\n",
    "- src = cv2.imread('lenna.bmp')\n",
    "- dst1 = cv2.add(src, (100, 100, 100, 0))\n",
    "- dst2 = np.clip(src + 100., 0, 255).astype(np.uint8)"
   ]
  },
  {
   "cell_type": "markdown",
   "id": "aaa41e57",
   "metadata": {},
   "source": [
    "## 전체 코드"
   ]
  },
  {
   "cell_type": "code",
   "execution_count": 5,
   "id": "9ab486e1",
   "metadata": {},
   "outputs": [],
   "source": [
    "import sys\n",
    "import numpy as np\n",
    "import cv2\n",
    "\n",
    "src = cv2.imread('./lenna.bmp', cv2.IMREAD_GRAYSCALE)\n",
    "\n",
    "if src is None:\n",
    "    print('Image load failed!')\n",
    "    sys.exit()\n",
    "dst1 = cv2.add(src, 100)\n",
    "dst2 = np.clip(src + 100., 0, 255).astype(np.uint8)\n",
    "\n",
    "cv2.imshow('src', src)\n",
    "cv2.imshow('dst1', dst1)\n",
    "cv2.imshow('dst2', dst2)\n",
    "cv2.waitKey()\n",
    "\n",
    "src = cv2.imread('lenna.bmp')\n",
    "\n",
    "if src is None:\n",
    "    print('Image load failed!')\n",
    "    sys.exit()\n",
    "\n",
    "dst1 = cv2.add(src, (100, 100, 100, 0))\n",
    "dst2 = np.clip(src + 100., 0, 255).astype(np.uint8)\n",
    "\n",
    "cv2.imshow('src', src)\n",
    "cv2.imshow('dst1', dst1)\n",
    "cv2.imshow('dst2 ', dst2)\n",
    "\n",
    "cv2.waitKey()\n",
    "cv2.destroyAllWindows()"
   ]
  },
  {
   "cell_type": "markdown",
   "id": "77f511cc",
   "metadata": {},
   "source": [
    "# 기본 연산"
   ]
  },
  {
   "cell_type": "markdown",
   "id": "c9dabf02",
   "metadata": {},
   "source": [
    "## 덧셈 연산\n",
    "### cv2.add(src1, src2, dst=None, mask=None, dtype=None) -> dst\n",
    "- src1: (입력)첫 번째 영상 또는 스칼라\n",
    "- src2: (입력)두 번쨰 영상 또는 스칼라\n",
    "- dst: (출력)덧셈 연산의 결과 영상\n",
    "- mask: 마스크 영상\n",
    "- dtype: 출력 영상(dst)의 타입. (e.g.)cv2.CV_8U, cv2.CV_32F등\n",
    "### 참고사항\n",
    "- 스칼라는 실수 값 하나 또는 실수 값 네 개로 구성된 튜플\n",
    "- dst를 함수 인자로 전달하려면 dst의 크기가 src1, src2와 같아야 하며, 타입이 적절해야함"
   ]
  },
  {
   "cell_type": "code",
   "execution_count": 6,
   "id": "66ed2d03",
   "metadata": {},
   "outputs": [
    {
     "ename": "SyntaxError",
     "evalue": "invalid syntax (4170697267.py, line 2)",
     "output_type": "error",
     "traceback": [
      "\u001b[0;36m  Cell \u001b[0;32mIn [6], line 2\u001b[0;36m\u001b[0m\n\u001b[0;31m    - dst(x,y)=saturate(a&middot;)\u001b[0m\n\u001b[0m                                ^\u001b[0m\n\u001b[0;31mSyntaxError\u001b[0m\u001b[0;31m:\u001b[0m invalid syntax\n"
     ]
    }
   ],
   "source": [
    "## 가중치 합\n",
    "- dst(x,y)=saturate(a)"
   ]
  },
  {
   "cell_type": "markdown",
   "id": "79e7f7e1",
   "metadata": {},
   "source": [
    "## 코드"
   ]
  },
  {
   "cell_type": "code",
   "execution_count": 7,
   "id": "243f0754",
   "metadata": {},
   "outputs": [],
   "source": [
    "import sys\n",
    "import numpy as np\n",
    "import cv2\n",
    "src = cv2.imread('lenna.bmp', cv2.IMREAD_GRAYSCALE)\n",
    "\n",
    "if src is None:\n",
    "    print('Image load failed!')\n",
    "    sys.exit()\n",
    "alpha = 1.0\n",
    "dst = np.clip((1+alpha)*src - 128*alpha, 0, 255).astype(np.uint8)\n",
    "\n",
    "cv2.imshow('src', src)\n",
    "cv2.imshow('dst', dst)\n",
    "cv2.waitKey()\n",
    "\n",
    "cv2.destroyAllWindows()"
   ]
  },
  {
   "cell_type": "markdown",
   "id": "07d02354",
   "metadata": {},
   "source": [
    "## 코드"
   ]
  },
  {
   "cell_type": "code",
   "execution_count": 9,
   "id": "83ebf042",
   "metadata": {},
   "outputs": [],
   "source": [
    "import sys\n",
    "import numpy as np\n",
    "import cv2\n",
    "src = cv2.imread('Hawkes.jpg', cv2.IMREAD_GRAYSCALE)\n",
    "\n",
    "if src is None:\n",
    "    print('Image load failed!')\n",
    "    sys.exit()\n",
    "dst = cv2.normalize(src, None, 0, 255, cv2.NORM_MINMAX)\n",
    "\n",
    "cv2.imshow('src', src)\n",
    "cv2.imshow('dst', dst)\n",
    "cv2.waitKey()\n",
    "\n",
    "cv2.destroyAllWindows()"
   ]
  },
  {
   "cell_type": "code",
   "execution_count": 16,
   "id": "bfd8b136",
   "metadata": {},
   "outputs": [
    {
     "name": "stdout",
     "output_type": "stream",
     "text": [
      "Image load failed!\n"
     ]
    },
    {
     "ename": "SystemExit",
     "evalue": "",
     "output_type": "error",
     "traceback": [
      "An exception has occurred, use %tb to see the full traceback.\n",
      "\u001b[0;31mSystemExit\u001b[0m\n"
     ]
    }
   ],
   "source": [
    "import sys\n",
    "import numpy as np\n",
    "import cv2\n",
    "\n",
    "src = cv2.imread('Hawkes.jpg', cv2.IMREAD_GRAYSCALE)\n",
    "\n",
    "if src is None:\n",
    "    print('Image load failed!')\n",
    "    sys.exit()\n",
    "\n",
    "dst = cv2.equalizeHist(src)\n",
    "\n",
    "cv2.imshow('src', src)\n",
    "cv2.imshow('dst', dst)\n",
    "cv2.waitKey()\n",
    "\n",
    "cv2.destroyAllWindows()\n",
    "\n",
    "# 컬러 영상의 히스토그램 평활화\n",
    "src = cv2.imread('field.bmp')\n",
    "\n",
    "if src is None:\n",
    "    print('Image load failed!')\n",
    "    sys.exit()\n",
    "\n",
    "src_ycrcb = cv2.cvtColor(src, cv2.COLOR_BGR2YCrCb)\n",
    "ycrcb_planes = cv2.split(src_ycrcb)\n",
    "\n",
    "# 밝기 성분에 대해서만 히스토그램 평활화 수행\n",
    "ycrcb_planes[0] = cv2.equalizeHist(ycrcb_planes[0])\n",
    "\n",
    "dst_ycrcb = cv2.merge(ycrcb_planes)\n",
    "dst = cv2.cvtColor(dst_ycrcb, cv2.COLOR_YCrCb2BGR)\n",
    "\n",
    "cv2.imshow('src', src)\n",
    "cv2.imshow('dst', dst)\n",
    "cv2.waitKey()\n",
    "cv2.destroyAllWindows()"
   ]
  },
  {
   "cell_type": "code",
   "execution_count": 17,
   "id": "bf80679f",
   "metadata": {},
   "outputs": [],
   "source": [
    "import sys\n",
    "import numpy as np\n",
    "import cv2\n",
    "\n",
    "src = cv2.imread('candies.png')\n",
    "#src = cv2.imread('candies2.png')\n",
    "\n",
    "if src is None:\n",
    "    print('Image load failed!')\n",
    "    sys.exit()\n",
    "\n",
    "src_hsv = cv2.cvtColor(src, cv2.COLOR_BGR2HSV)\n",
    "\n",
    "dst1 = cv2.inRange(src, (0, 128, 0), (100, 255, 100))\n",
    "dst2 = cv2.inRange(src_hsv, (50, 150, 0), (80, 255, 255))\n",
    "\n",
    "cv2.imshow('src', src)\n",
    "cv2.imshow('dst1', dst1)\n",
    "cv2.imshow('dst2', dst2)\n",
    "cv2.waitKey()\n",
    "\n",
    "cv2.destroyAllWindows()"
   ]
  },
  {
   "cell_type": "code",
   "execution_count": null,
   "id": "ac8dca93",
   "metadata": {},
   "outputs": [],
   "source": []
  }
 ],
 "metadata": {
  "kernelspec": {
   "display_name": "Python 3 (ipykernel)",
   "language": "python",
   "name": "python3"
  },
  "language_info": {
   "codemirror_mode": {
    "name": "ipython",
    "version": 3
   },
   "file_extension": ".py",
   "mimetype": "text/x-python",
   "name": "python",
   "nbconvert_exporter": "python",
   "pygments_lexer": "ipython3",
   "version": "3.8.10"
  }
 },
 "nbformat": 4,
 "nbformat_minor": 5
}
