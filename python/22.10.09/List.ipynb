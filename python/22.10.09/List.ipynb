{
 "cells": [
  {
   "cell_type": "markdown",
   "metadata": {},
   "source": [
    "# List 자료형"
   ]
  },
  {
   "cell_type": "markdown",
   "metadata": {},
   "source": [
    "## List생성\n",
    "- List자료형은 대괄호로 생성합니다"
   ]
  },
  {
   "cell_type": "code",
   "execution_count": 50,
   "metadata": {},
   "outputs": [
    {
     "name": "stdout",
     "output_type": "stream",
     "text": [
      "red\n",
      "green\n",
      "3\n"
     ]
    }
   ],
   "source": [
    "colors = ['red', 'blue', 'green']\n",
    "\n",
    "print(colors[0])\n",
    "print(colors[2])\n",
    "print(len(colors))"
   ]
  },
  {
   "cell_type": "markdown",
   "metadata": {},
   "source": [
    "## List대입\n",
    "- b 변수에 colors를 대입하여 동일하게 사용이 가능합니다."
   ]
  },
  {
   "cell_type": "code",
   "execution_count": 51,
   "metadata": {},
   "outputs": [
    {
     "data": {
      "text/plain": [
       "['red', 'blue', 'green']"
      ]
     },
     "execution_count": 51,
     "metadata": {},
     "output_type": "execute_result"
    }
   ],
   "source": [
    "b = colors\n",
    "b"
   ]
  },
  {
   "cell_type": "code",
   "execution_count": 1,
   "metadata": {},
   "outputs": [
    {
     "ename": "NameError",
     "evalue": "name 'b' is not defined",
     "output_type": "error",
     "traceback": [
      "\u001b[0;31m---------------------------------------------------------------------------\u001b[0m",
      "\u001b[0;31mNameError\u001b[0m                                 Traceback (most recent call last)",
      "\u001b[0;32m<ipython-input-1-c0840c796bef>\u001b[0m in \u001b[0;36m<module>\u001b[0;34m\u001b[0m\n\u001b[0;32m----> 1\u001b[0;31m \u001b[0mb\u001b[0m\u001b[0;34m[\u001b[0m\u001b[0;36m1\u001b[0m\u001b[0;34m]\u001b[0m \u001b[0;34m=\u001b[0m \u001b[0;34m\"title\"\u001b[0m\u001b[0;34m\u001b[0m\u001b[0;34m\u001b[0m\u001b[0m\n\u001b[0m\u001b[1;32m      2\u001b[0m \u001b[0mb\u001b[0m\u001b[0;34m\u001b[0m\u001b[0;34m\u001b[0m\u001b[0m\n",
      "\u001b[0;31mNameError\u001b[0m: name 'b' is not defined"
     ]
    }
   ],
   "source": [
    "b[1] = 'black'\n",
    "b"
   ]
  },
  {
   "cell_type": "code",
   "execution_count": 53,
   "metadata": {},
   "outputs": [
    {
     "data": {
      "text/plain": [
       "['red', 'black', 'green']"
      ]
     },
     "execution_count": 53,
     "metadata": {},
     "output_type": "execute_result"
    }
   ],
   "source": [
    "colors"
   ]
  },
  {
   "cell_type": "markdown",
   "metadata": {},
   "source": [
    "## 반복문에서 List\n",
    "- List형을 반복문(for)에서 사용하는 방법이 다른 언어에 비해 편리합니다"
   ]
  },
  {
   "cell_type": "code",
   "execution_count": 54,
   "metadata": {},
   "outputs": [
    {
     "name": "stdout",
     "output_type": "stream",
     "text": [
      "['red', 'black', 'green']\n",
      "['red', 'black', 'green']\n",
      "['red', 'black', 'green']\n"
     ]
    }
   ],
   "source": [
    "for color in colors:\n",
    "    print(colors)"
   ]
  },
  {
   "cell_type": "markdown",
   "metadata": {},
   "source": [
    "## 조건문에서 List\n",
    "- List는 in명령으로 조건문(if)에 적용하는 것 역시 편리합니다."
   ]
  },
  {
   "cell_type": "code",
   "execution_count": 55,
   "metadata": {},
   "outputs": [
    {
     "name": "stdout",
     "output_type": "stream",
     "text": [
      "True\n"
     ]
    }
   ],
   "source": [
    "if 'black' in colors:\n",
    "    print('True')"
   ]
  },
  {
   "cell_type": "markdown",
   "metadata": {},
   "source": [
    "## append()\n",
    "- List 제일 뒤에 하나의 데이터를 추가합니다."
   ]
  },
  {
   "cell_type": "code",
   "execution_count": 56,
   "metadata": {},
   "outputs": [
    {
     "name": "stdout",
     "output_type": "stream",
     "text": [
      "['그린 북', '가버나움', '디지몬 어드벤처 라스트 에볼루션:인연', '먼 훗날 우리']\n"
     ]
    }
   ],
   "source": [
    "movies = ['그린 북', '가버나움', '디지몬 어드벤처 라스트 에볼루션:인연', '먼 훗날 우리']\n",
    "print(movies)"
   ]
  },
  {
   "cell_type": "code",
   "execution_count": 57,
   "metadata": {},
   "outputs": [
    {
     "name": "stdout",
     "output_type": "stream",
     "text": [
      "['그린 북', '가버나움', '디지몬 어드벤처 라스트 에볼루션:인연', '먼 훗날 우리', '원더']\n"
     ]
    }
   ],
   "source": [
    "movies.append('원더')\n",
    "print(movies)"
   ]
  },
  {
   "cell_type": "markdown",
   "metadata": {},
   "source": [
    "## pop()"
   ]
  },
  {
   "cell_type": "code",
   "execution_count": 58,
   "metadata": {},
   "outputs": [
    {
     "name": "stdout",
     "output_type": "stream",
     "text": [
      "['그린 북', '가버나움', '디지몬 어드벤처 라스트 에볼루션:인연', '먼 훗날 우리']\n"
     ]
    }
   ],
   "source": [
    "movies.pop()\n",
    "print(movies)"
   ]
  },
  {
   "cell_type": "markdown",
   "metadata": {},
   "source": [
    "## extend()\n",
    "- List 제일 뒤에 다수의 데이터를 추가합니다."
   ]
  },
  {
   "cell_type": "code",
   "execution_count": 59,
   "metadata": {},
   "outputs": [
    {
     "name": "stdout",
     "output_type": "stream",
     "text": [
      "['그린 북', '가버나움', '디지몬 어드벤처 라스트 에볼루션:인연', '먼 훗날 우리', '베일리 어겐', '아일라', '당갈']\n"
     ]
    }
   ],
   "source": [
    "movies.extend(['베일리 어겐', '아일라', '당갈'])\n",
    "print(movies)"
   ]
  },
  {
   "cell_type": "markdown",
   "metadata": {},
   "source": [
    "## remove()\n",
    "- 주어진 데이터와 같은 데이터를 List에서 삭제합니다."
   ]
  },
  {
   "cell_type": "code",
   "execution_count": 60,
   "metadata": {},
   "outputs": [
    {
     "name": "stdout",
     "output_type": "stream",
     "text": [
      "['그린 북', '디지몬 어드벤처 라스트 에볼루션:인연', '먼 훗날 우리', '베일리 어겐', '아일라', '당갈']\n"
     ]
    }
   ],
   "source": [
    "movies.remove('가버나움')\n",
    "print(movies)"
   ]
  },
  {
   "cell_type": "markdown",
   "metadata": {},
   "source": [
    "## 슬라이싱\n",
    "- [n;m]n번째 부터 m-1번째까지 슬라이싱 합니다."
   ]
  },
  {
   "cell_type": "code",
   "execution_count": 61,
   "metadata": {},
   "outputs": [
    {
     "name": "stdout",
     "output_type": "stream",
     "text": [
      "['베일리 어겐', '아일라']\n"
     ]
    }
   ],
   "source": [
    "print(movies[3:5])"
   ]
  },
  {
   "cell_type": "code",
   "execution_count": 62,
   "metadata": {},
   "outputs": [
    {
     "name": "stdout",
     "output_type": "stream",
     "text": [
      "['그린 북', '디지몬 어드벤처 라스트 에볼루션:인연', '먼 훗날 우리']\n"
     ]
    }
   ],
   "source": [
    "favorite_movies = movies[0:3]\n",
    "print(favorite_movies)"
   ]
  },
  {
   "cell_type": "markdown",
   "metadata": {},
   "source": [
    "## insert()\n",
    "- 원하는 위치에 데이터를 삽입합니다."
   ]
  },
  {
   "cell_type": "code",
   "execution_count": 63,
   "metadata": {},
   "outputs": [
    {
     "name": "stdout",
     "output_type": "stream",
     "text": [
      "['그린 북', 9.6, '디지몬 어드벤처 라스트 에볼루션:인연', '먼 훗날 우리']\n"
     ]
    }
   ],
   "source": [
    "favorite_movies.insert(1, 9.60)\n",
    "print(favorite_movies)"
   ]
  },
  {
   "cell_type": "code",
   "execution_count": 64,
   "metadata": {},
   "outputs": [
    {
     "name": "stdout",
     "output_type": "stream",
     "text": [
      "['그린 북', 9.6, '디지몬 어드벤처 라스트 에볼루션:인연', 9.54, '먼 훗날 우리']\n"
     ]
    }
   ],
   "source": [
    "favorite_movies.insert(3, 9.54)\n",
    "print(favorite_movies)"
   ]
  },
  {
   "cell_type": "code",
   "execution_count": 65,
   "metadata": {},
   "outputs": [
    {
     "name": "stdout",
     "output_type": "stream",
     "text": [
      "['그린 북', 9.6, '디지몬 어드벤처 라스트 에볼루션:인연', 9.54, '먼 훗날 우리', 9.53]\n"
     ]
    }
   ],
   "source": [
    "favorite_movies.append(9.53)\n",
    "print(favorite_movies)"
   ]
  },
  {
   "cell_type": "markdown",
   "metadata": {},
   "source": [
    "## List 내의 Data Type\n",
    "- List안에 List를 가질 수 있습니다."
   ]
  },
  {
   "cell_type": "code",
   "execution_count": 66,
   "metadata": {},
   "outputs": [
    {
     "name": "stdout",
     "output_type": "stream",
     "text": [
      "['그린 북', 9.6, ['비고 모텐슨', '마허살라 알리', '린다 카델리니'], '디지몬 어드벤처 라스트 에볼루션:인연', 9.54, '먼 훗날 우리', 9.53]\n"
     ]
    }
   ],
   "source": [
    "favorite_movies.insert(2, ['비고 모텐슨', '마허살라 알리', '린다 카델리니'])\n",
    "print(favorite_movies)"
   ]
  },
  {
   "cell_type": "markdown",
   "metadata": {},
   "source": [
    "## isinstance()\n",
    "- 자료형이 List인지 확인할 수 있습니다."
   ]
  },
  {
   "cell_type": "code",
   "execution_count": 67,
   "metadata": {},
   "outputs": [
    {
     "data": {
      "text/plain": [
       "True"
      ]
     },
     "execution_count": 67,
     "metadata": {},
     "output_type": "execute_result"
    }
   ],
   "source": [
    "isinstance(favorite_movies, list)"
   ]
  },
  {
   "cell_type": "code",
   "execution_count": null,
   "metadata": {},
   "outputs": [],
   "source": [
    "movie_list = "
   ]
  }
 ],
 "metadata": {
  "kernelspec": {
   "display_name": "Python 3",
   "language": "python",
   "name": "python3"
  },
  "language_info": {
   "codemirror_mode": {
    "name": "ipython",
    "version": 3
   },
   "file_extension": ".py",
   "mimetype": "text/x-python",
   "name": "python",
   "nbconvert_exporter": "python",
   "pygments_lexer": "ipython3",
   "version": "3.8.10"
  }
 },
 "nbformat": 4,
 "nbformat_minor": 4
}
