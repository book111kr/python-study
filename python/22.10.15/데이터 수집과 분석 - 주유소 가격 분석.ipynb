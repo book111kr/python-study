{
 "cells": [
  {
   "cell_type": "code",
   "execution_count": 3,
   "metadata": {},
   "outputs": [],
   "source": [
    "from selenium import webdriver\n",
    "from selenium.webdriver.chrome.service import Service\n",
    "from selenium.webdriver.common.keys import Keys\n",
    "from selenium.webdriver.common.by import By\n",
    "from selenium.webdriver import ActionChains\n",
    "from bs4 import BeautifulSoup\n",
    "\n",
    "chrome_options = webdriver.ChromeOptions()\n",
    "\n",
    "url = 'https://www.opinet.co.kr/searRgSelect.do'\n",
    "driver = webdriver.Chrome(service=Service('./chromedriver'), options=chrome_options)\n",
    "driver.get(url)"
   ]
  },
  {
   "cell_type": "code",
   "execution_count": 6,
   "metadata": {},
   "outputs": [],
   "source": [
    "driver.get(url)"
   ]
  },
  {
   "cell_type": "code",
   "execution_count": 7,
   "metadata": {},
   "outputs": [
    {
     "data": {
      "text/plain": [
       "<selenium.webdriver.remote.webelement.WebElement (session=\"6d13a8b789d65cba897793c24f69622c\", element=\"4793bf6c-53c5-4b22-9d11-019b992a82d0\")>"
      ]
     },
     "execution_count": 7,
     "metadata": {},
     "output_type": "execute_result"
    }
   ],
   "source": [
    "sido = driver.find_element(By.ID, \"SIDO_NM0\")\n",
    "sido"
   ]
  },
  {
   "cell_type": "code",
   "execution_count": 8,
   "metadata": {
    "scrolled": true
   },
   "outputs": [
    {
     "data": {
      "text/plain": [
       "[<selenium.webdriver.remote.webelement.WebElement (session=\"6d13a8b789d65cba897793c24f69622c\", element=\"e2b1e943-800f-4441-b46d-6abf5c06ad8c\")>,\n",
       " <selenium.webdriver.remote.webelement.WebElement (session=\"6d13a8b789d65cba897793c24f69622c\", element=\"67fd34ce-4df1-480b-9335-ce798021cd83\")>,\n",
       " <selenium.webdriver.remote.webelement.WebElement (session=\"6d13a8b789d65cba897793c24f69622c\", element=\"0a90b53b-5690-47b1-ae2b-bcf9ac7fad9e\")>,\n",
       " <selenium.webdriver.remote.webelement.WebElement (session=\"6d13a8b789d65cba897793c24f69622c\", element=\"b63e83ef-6ca5-4be1-b8aa-b1b5ec6b697c\")>,\n",
       " <selenium.webdriver.remote.webelement.WebElement (session=\"6d13a8b789d65cba897793c24f69622c\", element=\"acdf340a-f9fb-4838-9284-57dbdd74f4df\")>,\n",
       " <selenium.webdriver.remote.webelement.WebElement (session=\"6d13a8b789d65cba897793c24f69622c\", element=\"bde60402-5ce9-4bef-a5d4-d1d5fdaae8c2\")>,\n",
       " <selenium.webdriver.remote.webelement.WebElement (session=\"6d13a8b789d65cba897793c24f69622c\", element=\"d77f13ee-0334-49e9-8df1-949a63098709\")>,\n",
       " <selenium.webdriver.remote.webelement.WebElement (session=\"6d13a8b789d65cba897793c24f69622c\", element=\"78e6b84b-740e-4005-8e42-af54427ed954\")>,\n",
       " <selenium.webdriver.remote.webelement.WebElement (session=\"6d13a8b789d65cba897793c24f69622c\", element=\"746b4d7d-6498-466e-a2d2-249517dcf0da\")>,\n",
       " <selenium.webdriver.remote.webelement.WebElement (session=\"6d13a8b789d65cba897793c24f69622c\", element=\"ba5aaa20-82e7-43fd-9951-60c909e8fce4\")>,\n",
       " <selenium.webdriver.remote.webelement.WebElement (session=\"6d13a8b789d65cba897793c24f69622c\", element=\"da1ed627-207f-421d-9b88-05cf4771e34f\")>,\n",
       " <selenium.webdriver.remote.webelement.WebElement (session=\"6d13a8b789d65cba897793c24f69622c\", element=\"1753b3bf-d41a-4fdb-a087-b381ef5fdce2\")>,\n",
       " <selenium.webdriver.remote.webelement.WebElement (session=\"6d13a8b789d65cba897793c24f69622c\", element=\"0f79f7cf-d983-4ebf-bf81-6d4902b88d7c\")>,\n",
       " <selenium.webdriver.remote.webelement.WebElement (session=\"6d13a8b789d65cba897793c24f69622c\", element=\"5c721a52-8815-41ad-9b37-6f472c9d65a9\")>,\n",
       " <selenium.webdriver.remote.webelement.WebElement (session=\"6d13a8b789d65cba897793c24f69622c\", element=\"b4b73752-9c9e-4094-b48b-df01c96f3f96\")>,\n",
       " <selenium.webdriver.remote.webelement.WebElement (session=\"6d13a8b789d65cba897793c24f69622c\", element=\"477598ad-4e37-41fa-aa7a-f0ec78b2f575\")>,\n",
       " <selenium.webdriver.remote.webelement.WebElement (session=\"6d13a8b789d65cba897793c24f69622c\", element=\"fa678ad0-7fb3-4e0c-abdc-7fffa7adbfe2\")>,\n",
       " <selenium.webdriver.remote.webelement.WebElement (session=\"6d13a8b789d65cba897793c24f69622c\", element=\"d239c389-1bec-40f6-b5f5-b1a165c649dd\")>]"
      ]
     },
     "execution_count": 8,
     "metadata": {},
     "output_type": "execute_result"
    }
   ],
   "source": [
    "sido_list = sido.find_elements(By.TAG_NAME, \"option\")\n",
    "sido_list"
   ]
  },
  {
   "cell_type": "code",
   "execution_count": 9,
   "metadata": {},
   "outputs": [
    {
     "data": {
      "text/plain": [
       "'서울특별시'"
      ]
     },
     "execution_count": 9,
     "metadata": {},
     "output_type": "execute_result"
    }
   ],
   "source": [
    "sido_list[1].get_attribute(\"value\")"
   ]
  },
  {
   "cell_type": "code",
   "execution_count": 10,
   "metadata": {},
   "outputs": [
    {
     "data": {
      "text/plain": [
       "['',\n",
       " '서울특별시',\n",
       " '부산광역시',\n",
       " '대구광역시',\n",
       " '인천광역시',\n",
       " '광주광역시',\n",
       " '대전광역시',\n",
       " '울산광역시',\n",
       " '세종특별자치시',\n",
       " '경기도',\n",
       " '강원도',\n",
       " '충청북도',\n",
       " '충청남도',\n",
       " '전라북도',\n",
       " '전라남도',\n",
       " '경상북도',\n",
       " '경상남도',\n",
       " '제주특별자치도']"
      ]
     },
     "execution_count": 10,
     "metadata": {},
     "output_type": "execute_result"
    }
   ],
   "source": [
    "sido_names = [option.get_attribute(\"value\") for option in sido_list]\n",
    "sido_names"
   ]
  },
  {
   "cell_type": "code",
   "execution_count": 11,
   "metadata": {},
   "outputs": [
    {
     "data": {
      "text/plain": [
       "['서울특별시',\n",
       " '부산광역시',\n",
       " '대구광역시',\n",
       " '인천광역시',\n",
       " '광주광역시',\n",
       " '대전광역시',\n",
       " '울산광역시',\n",
       " '세종특별자치시',\n",
       " '경기도',\n",
       " '강원도',\n",
       " '충청북도',\n",
       " '충청남도',\n",
       " '전라북도',\n",
       " '전라남도',\n",
       " '경상북도',\n",
       " '경상남도',\n",
       " '제주특별자치도']"
      ]
     },
     "execution_count": 11,
     "metadata": {},
     "output_type": "execute_result"
    }
   ],
   "source": [
    "sido_names = sido_names[1:]\n",
    "sido_names"
   ]
  },
  {
   "cell_type": "code",
   "execution_count": 12,
   "metadata": {},
   "outputs": [
    {
     "name": "stdout",
     "output_type": "stream",
     "text": [
      "부산광역시\n"
     ]
    }
   ],
   "source": [
    "print(sido_names[1])\n",
    "sido.send_keys(sido_names[1])"
   ]
  },
  {
   "cell_type": "code",
   "execution_count": 13,
   "metadata": {
    "scrolled": true
   },
   "outputs": [
    {
     "name": "stdout",
     "output_type": "stream",
     "text": [
      "서울특별시\n"
     ]
    }
   ],
   "source": [
    "print(sido_names[0])\n",
    "sido.send_keys(sido_names[0])"
   ]
  },
  {
   "cell_type": "code",
   "execution_count": 14,
   "metadata": {},
   "outputs": [
    {
     "name": "stdout",
     "output_type": "stream",
     "text": [
      "25\n",
      "['강남구', '강동구', '강북구', '강서구', '관악구', '광진구', '구로구', '금천구', '노원구', '도봉구', '동대문구', '동작구', '마포구', '서대문구', '서초구', '성동구', '성북구', '송파구', '양천구', '영등포구', '용산구', '은평구', '종로구', '중구', '중랑구']\n"
     ]
    }
   ],
   "source": [
    "gu = driver.find_element(By.ID, \"SIGUNGU_NM0\")\n",
    "gu_list = gu.find_elements(By.TAG_NAME, \"option\")\n",
    "\n",
    "gu_names = [option.get_attribute(\"value\") for option in gu_list]\n",
    "gu_names.remove(\"\")\n",
    "\n",
    "print(len(gu_names))\n",
    "print(gu_names)"
   ]
  },
  {
   "cell_type": "code",
   "execution_count": 15,
   "metadata": {},
   "outputs": [],
   "source": [
    "gu.send_keys(gu_names[15])"
   ]
  },
  {
   "cell_type": "code",
   "execution_count": 16,
   "metadata": {},
   "outputs": [
    {
     "data": {
      "application/vnd.jupyter.widget-view+json": {
       "model_id": "7be250581c79476d95fd0382d4bac7e6",
       "version_major": 2,
       "version_minor": 0
      },
      "text/plain": [
       "  0%|          | 0/3 [00:00<?, ?it/s]"
      ]
     },
     "metadata": {},
     "output_type": "display_data"
    }
   ],
   "source": [
    "import time\n",
    "from tqdm.notebook import tqdm\n",
    "#from tqdm import tqdm as tqdm\n",
    "\n",
    "\n",
    "for gu_name in tqdm(gu_names[:3]):\n",
    "    gu = driver.find_element(By.ID, \"SIGUNGU_NM0\")\n",
    "    gu.send_keys(gu_name)\n",
    "    time.sleep(3)"
   ]
  },
  {
   "cell_type": "code",
   "execution_count": 17,
   "metadata": {},
   "outputs": [
    {
     "data": {
      "application/vnd.jupyter.widget-view+json": {
       "model_id": "5f0da14ea0dd42eb8af6bf60c42b6333",
       "version_major": 2,
       "version_minor": 0
      },
      "text/plain": [
       "  0%|          | 0/3 [00:00<?, ?it/s]"
      ]
     },
     "metadata": {},
     "output_type": "display_data"
    }
   ],
   "source": [
    "for gu_name in tqdm(gu_names[:3]):\n",
    "    gu = driver.find_element(By.ID, \"SIGUNGU_NM0\")\n",
    "    gu.send_keys(gu_name)\n",
    "    driver.implicitly_wait(time_to_wait=3)"
   ]
  },
  {
   "cell_type": "code",
   "execution_count": 18,
   "metadata": {},
   "outputs": [],
   "source": [
    "driver.find_element(By.CSS_SELECTOR, \"#glopopd_excel\").click()"
   ]
  },
  {
   "cell_type": "code",
   "execution_count": 19,
   "metadata": {},
   "outputs": [
    {
     "data": {
      "application/vnd.jupyter.widget-view+json": {
       "model_id": "3821f398ffd342338859916cef6df3be",
       "version_major": 2,
       "version_minor": 0
      },
      "text/plain": [
       "  0%|          | 0/25 [00:00<?, ?it/s]"
      ]
     },
     "metadata": {},
     "output_type": "display_data"
    }
   ],
   "source": [
    "for gu_name in tqdm(gu_names):\n",
    "    gu = driver.find_element(By.ID, \"SIGUNGU_NM0\")\n",
    "    gu.send_keys(gu_name)\n",
    "    driver.implicitly_wait(time_to_wait=3)\n",
    "    \n",
    "    excel = driver.find_element(By.CSS_SELECTOR, \"#glopopd_excel\").click()"
   ]
  },
  {
   "cell_type": "code",
   "execution_count": 20,
   "metadata": {},
   "outputs": [],
   "source": [
    "driver.close()"
   ]
  },
  {
   "cell_type": "code",
   "execution_count": 120,
   "metadata": {},
   "outputs": [],
   "source": [
    "import pandas as pd\n",
    "from glob import glob"
   ]
  },
  {
   "cell_type": "code",
   "execution_count": 121,
   "metadata": {},
   "outputs": [
    {
     "data": {
      "text/plain": [
       "['./지역_위치별(주유소) (20).xls',\n",
       " './지역_위치별(주유소) (9).xls',\n",
       " './지역_위치별(주유소) (15).xls',\n",
       " './지역_위치별(주유소) (14).xls',\n",
       " './지역_위치별(주유소) (8).xls',\n",
       " './지역_위치별(주유소) (4).xls',\n",
       " './지역_위치별(주유소) (22).xls',\n",
       " './지역_위치별(주유소) (5).xls',\n",
       " './지역_위치별(주유소) (3).xls',\n",
       " './지역_위치별(주유소) (24).xls',\n",
       " './지역_위치별(주유소) (21).xls',\n",
       " './지역_위치별(주유소) (1).xls',\n",
       " './지역_위치별(주유소) (11).xls',\n",
       " './지역_위치별(주유소) (18).xls',\n",
       " './지역_위치별(주유소) (7).xls',\n",
       " './지역_위치별(주유소) (6).xls',\n",
       " './지역_위치별(주유소) (19).xls',\n",
       " './지역_위치별(주유소) (16).xls',\n",
       " './지역_위치별(주유소) (2).xls',\n",
       " './지역_위치별(주유소).xls',\n",
       " './지역_위치별(주유소) (12).xls',\n",
       " './지역_위치별(주유소) (17).xls',\n",
       " './지역_위치별(주유소) (23).xls',\n",
       " './지역_위치별(주유소) (25).xls',\n",
       " './지역_위치별(주유소) (13).xls',\n",
       " './지역_위치별(주유소) (10).xls']"
      ]
     },
     "execution_count": 121,
     "metadata": {},
     "output_type": "execute_result"
    }
   ],
   "source": [
    "glob(\"./지역_*.xls\")"
   ]
  },
  {
   "cell_type": "code",
   "execution_count": 122,
   "metadata": {},
   "outputs": [
    {
     "data": {
      "text/plain": [
       "['./지역_위치별(주유소) (20).xls',\n",
       " './지역_위치별(주유소) (9).xls',\n",
       " './지역_위치별(주유소) (15).xls',\n",
       " './지역_위치별(주유소) (14).xls',\n",
       " './지역_위치별(주유소) (8).xls']"
      ]
     },
     "execution_count": 122,
     "metadata": {},
     "output_type": "execute_result"
    }
   ],
   "source": [
    "file_list = glob(\"./지역_*.xls\")\n",
    "file_list[:5]"
   ]
  },
  {
   "cell_type": "code",
   "execution_count": 123,
   "metadata": {},
   "outputs": [
    {
     "data": {
      "text/html": [
       "<div>\n",
       "<style scoped>\n",
       "    .dataframe tbody tr th:only-of-type {\n",
       "        vertical-align: middle;\n",
       "    }\n",
       "\n",
       "    .dataframe tbody tr th {\n",
       "        vertical-align: top;\n",
       "    }\n",
       "\n",
       "    .dataframe thead th {\n",
       "        text-align: right;\n",
       "    }\n",
       "</style>\n",
       "<table border=\"1\" class=\"dataframe\">\n",
       "  <thead>\n",
       "    <tr style=\"text-align: right;\">\n",
       "      <th></th>\n",
       "      <th>지역</th>\n",
       "      <th>상호</th>\n",
       "      <th>주소</th>\n",
       "      <th>상표</th>\n",
       "      <th>전화번호</th>\n",
       "      <th>셀프여부</th>\n",
       "      <th>고급휘발유</th>\n",
       "      <th>휘발유</th>\n",
       "      <th>경유</th>\n",
       "      <th>실내등유</th>\n",
       "    </tr>\n",
       "  </thead>\n",
       "  <tbody>\n",
       "    <tr>\n",
       "      <th>26</th>\n",
       "      <td>서울특별시</td>\n",
       "      <td>SJ오일(주) 여의도주유소</td>\n",
       "      <td>서울 영등포구 은행로 64</td>\n",
       "      <td>GS칼텍스</td>\n",
       "      <td>02-785-8201</td>\n",
       "      <td>N</td>\n",
       "      <td>2360</td>\n",
       "      <td>2199</td>\n",
       "      <td>2360</td>\n",
       "      <td>1750</td>\n",
       "    </tr>\n",
       "    <tr>\n",
       "      <th>27</th>\n",
       "      <td>서울특별시</td>\n",
       "      <td>한일주유소</td>\n",
       "      <td>서울 영등포구 도림로 486 (문래동3가)</td>\n",
       "      <td>SK에너지</td>\n",
       "      <td>02-2679-1794</td>\n",
       "      <td>N</td>\n",
       "      <td>-</td>\n",
       "      <td>-</td>\n",
       "      <td>-</td>\n",
       "      <td>-</td>\n",
       "    </tr>\n",
       "  </tbody>\n",
       "</table>\n",
       "</div>"
      ],
      "text/plain": [
       "       지역              상호                       주소     상표          전화번호 셀프여부  \\\n",
       "26  서울특별시  SJ오일(주) 여의도주유소           서울 영등포구 은행로 64  GS칼텍스   02-785-8201    N   \n",
       "27  서울특별시           한일주유소  서울 영등포구 도림로 486 (문래동3가)  SK에너지  02-2679-1794    N   \n",
       "\n",
       "   고급휘발유   휘발유    경유  실내등유  \n",
       "26  2360  2199  2360  1750  \n",
       "27     -     -     -     -  "
      ]
     },
     "execution_count": 123,
     "metadata": {},
     "output_type": "execute_result"
    }
   ],
   "source": [
    "tmp = pd.read_excel(file_list[0], header=2)\n",
    "tmp.tail(2)"
   ]
  },
  {
   "cell_type": "code",
   "execution_count": 124,
   "metadata": {},
   "outputs": [
    {
     "data": {
      "text/html": [
       "<div>\n",
       "<style scoped>\n",
       "    .dataframe tbody tr th:only-of-type {\n",
       "        vertical-align: middle;\n",
       "    }\n",
       "\n",
       "    .dataframe tbody tr th {\n",
       "        vertical-align: top;\n",
       "    }\n",
       "\n",
       "    .dataframe thead th {\n",
       "        text-align: right;\n",
       "    }\n",
       "</style>\n",
       "<table border=\"1\" class=\"dataframe\">\n",
       "  <thead>\n",
       "    <tr style=\"text-align: right;\">\n",
       "      <th></th>\n",
       "      <th>지역</th>\n",
       "      <th>상호</th>\n",
       "      <th>주소</th>\n",
       "      <th>상표</th>\n",
       "      <th>전화번호</th>\n",
       "      <th>셀프여부</th>\n",
       "      <th>고급휘발유</th>\n",
       "      <th>휘발유</th>\n",
       "      <th>경유</th>\n",
       "      <th>실내등유</th>\n",
       "    </tr>\n",
       "  </thead>\n",
       "  <tbody>\n",
       "    <tr>\n",
       "      <th>0</th>\n",
       "      <td>서울특별시</td>\n",
       "      <td>(주)MS에너지</td>\n",
       "      <td>서울 영등포구 대림로 230</td>\n",
       "      <td>현대오일뱅크</td>\n",
       "      <td>02-844-5151</td>\n",
       "      <td>N</td>\n",
       "      <td>-</td>\n",
       "      <td>1595</td>\n",
       "      <td>1797</td>\n",
       "      <td>-</td>\n",
       "    </tr>\n",
       "    <tr>\n",
       "      <th>1</th>\n",
       "      <td>서울특별시</td>\n",
       "      <td>도림주유소</td>\n",
       "      <td>서울 영등포구 도림로 343 (도림동)</td>\n",
       "      <td>알뜰주유소</td>\n",
       "      <td>02-835-8881</td>\n",
       "      <td>Y</td>\n",
       "      <td>-</td>\n",
       "      <td>1595</td>\n",
       "      <td>1797</td>\n",
       "      <td>-</td>\n",
       "    </tr>\n",
       "    <tr>\n",
       "      <th>2</th>\n",
       "      <td>서울특별시</td>\n",
       "      <td>(주)대청에너지 대청주유소</td>\n",
       "      <td>서울 영등포구 가마산로 328 (대림동)</td>\n",
       "      <td>GS칼텍스</td>\n",
       "      <td>02-841-8780</td>\n",
       "      <td>Y</td>\n",
       "      <td>-</td>\n",
       "      <td>1595</td>\n",
       "      <td>1787</td>\n",
       "      <td>-</td>\n",
       "    </tr>\n",
       "    <tr>\n",
       "      <th>3</th>\n",
       "      <td>서울특별시</td>\n",
       "      <td>성락주유소</td>\n",
       "      <td>서울 영등포구 가마산로 414 (신길동)</td>\n",
       "      <td>S-OIL</td>\n",
       "      <td>02-842-6148</td>\n",
       "      <td>Y</td>\n",
       "      <td>-</td>\n",
       "      <td>1595</td>\n",
       "      <td>1787</td>\n",
       "      <td>-</td>\n",
       "    </tr>\n",
       "    <tr>\n",
       "      <th>4</th>\n",
       "      <td>서울특별시</td>\n",
       "      <td>영등포제일셀프주유소</td>\n",
       "      <td>서울 영등포구 가마산로 379</td>\n",
       "      <td>현대오일뱅크</td>\n",
       "      <td>02-847-5151</td>\n",
       "      <td>Y</td>\n",
       "      <td>-</td>\n",
       "      <td>1595</td>\n",
       "      <td>1777</td>\n",
       "      <td>-</td>\n",
       "    </tr>\n",
       "    <tr>\n",
       "      <th>...</th>\n",
       "      <td>...</td>\n",
       "      <td>...</td>\n",
       "      <td>...</td>\n",
       "      <td>...</td>\n",
       "      <td>...</td>\n",
       "      <td>...</td>\n",
       "      <td>...</td>\n",
       "      <td>...</td>\n",
       "      <td>...</td>\n",
       "      <td>...</td>\n",
       "    </tr>\n",
       "    <tr>\n",
       "      <th>11</th>\n",
       "      <td>서울특별시</td>\n",
       "      <td>대성산업(주)신창주유소</td>\n",
       "      <td>서울 도봉구 덕릉로 267 (창동)</td>\n",
       "      <td>GS칼텍스</td>\n",
       "      <td>02-905-4441</td>\n",
       "      <td>Y</td>\n",
       "      <td>-</td>\n",
       "      <td>1655</td>\n",
       "      <td>1825</td>\n",
       "      <td>-</td>\n",
       "    </tr>\n",
       "    <tr>\n",
       "      <th>12</th>\n",
       "      <td>서울특별시</td>\n",
       "      <td>현대오일뱅크㈜직영 영신주유소</td>\n",
       "      <td>서울 도봉구 방학로 151</td>\n",
       "      <td>현대오일뱅크</td>\n",
       "      <td>02-956-5152</td>\n",
       "      <td>N</td>\n",
       "      <td>2054</td>\n",
       "      <td>1657</td>\n",
       "      <td>1827</td>\n",
       "      <td>1769</td>\n",
       "    </tr>\n",
       "    <tr>\n",
       "      <th>13</th>\n",
       "      <td>서울특별시</td>\n",
       "      <td>노원교주유소</td>\n",
       "      <td>서울 도봉구 마들로 776 (도봉동)</td>\n",
       "      <td>현대오일뱅크</td>\n",
       "      <td>02-956-5189</td>\n",
       "      <td>Y</td>\n",
       "      <td>-</td>\n",
       "      <td>1676</td>\n",
       "      <td>1826</td>\n",
       "      <td>1560</td>\n",
       "    </tr>\n",
       "    <tr>\n",
       "      <th>14</th>\n",
       "      <td>서울특별시</td>\n",
       "      <td>(주)쌍문셀프주유소</td>\n",
       "      <td>서울 도봉구 노해로 161 (쌍문동)</td>\n",
       "      <td>현대오일뱅크</td>\n",
       "      <td>02-998-9704</td>\n",
       "      <td>Y</td>\n",
       "      <td>-</td>\n",
       "      <td>1698</td>\n",
       "      <td>1858</td>\n",
       "      <td>1650</td>\n",
       "    </tr>\n",
       "    <tr>\n",
       "      <th>15</th>\n",
       "      <td>서울특별시</td>\n",
       "      <td>오복주유소</td>\n",
       "      <td>서울 도봉구 방학로 43</td>\n",
       "      <td>S-OIL</td>\n",
       "      <td>02-3494-1500</td>\n",
       "      <td>Y</td>\n",
       "      <td>2300</td>\n",
       "      <td>1756</td>\n",
       "      <td>1876</td>\n",
       "      <td>1700</td>\n",
       "    </tr>\n",
       "  </tbody>\n",
       "</table>\n",
       "<p>466 rows × 10 columns</p>\n",
       "</div>"
      ],
      "text/plain": [
       "       지역               상호                      주소      상표          전화번호 셀프여부  \\\n",
       "0   서울특별시         (주)MS에너지         서울 영등포구 대림로 230  현대오일뱅크   02-844-5151    N   \n",
       "1   서울특별시            도림주유소   서울 영등포구 도림로 343 (도림동)   알뜰주유소   02-835-8881    Y   \n",
       "2   서울특별시   (주)대청에너지 대청주유소  서울 영등포구 가마산로 328 (대림동)   GS칼텍스   02-841-8780    Y   \n",
       "3   서울특별시            성락주유소  서울 영등포구 가마산로 414 (신길동)   S-OIL   02-842-6148    Y   \n",
       "4   서울특별시       영등포제일셀프주유소        서울 영등포구 가마산로 379  현대오일뱅크   02-847-5151    Y   \n",
       "..    ...              ...                     ...     ...           ...  ...   \n",
       "11  서울특별시     대성산업(주)신창주유소     서울 도봉구 덕릉로 267 (창동)   GS칼텍스   02-905-4441    Y   \n",
       "12  서울특별시  현대오일뱅크㈜직영 영신주유소          서울 도봉구 방학로 151  현대오일뱅크   02-956-5152    N   \n",
       "13  서울특별시           노원교주유소    서울 도봉구 마들로 776 (도봉동)  현대오일뱅크   02-956-5189    Y   \n",
       "14  서울특별시       (주)쌍문셀프주유소    서울 도봉구 노해로 161 (쌍문동)  현대오일뱅크   02-998-9704    Y   \n",
       "15  서울특별시            오복주유소           서울 도봉구 방학로 43   S-OIL  02-3494-1500    Y   \n",
       "\n",
       "   고급휘발유   휘발유    경유  실내등유  \n",
       "0      -  1595  1797     -  \n",
       "1      -  1595  1797     -  \n",
       "2      -  1595  1787     -  \n",
       "3      -  1595  1787     -  \n",
       "4      -  1595  1777     -  \n",
       "..   ...   ...   ...   ...  \n",
       "11     -  1655  1825     -  \n",
       "12  2054  1657  1827  1769  \n",
       "13     -  1676  1826  1560  \n",
       "14     -  1698  1858  1650  \n",
       "15  2300  1756  1876  1700  \n",
       "\n",
       "[466 rows x 10 columns]"
      ]
     },
     "execution_count": 124,
     "metadata": {},
     "output_type": "execute_result"
    }
   ],
   "source": [
    "tmp_list = []\n",
    "\n",
    "for file in file_list:\n",
    "    tmp = pd.read_excel(file, header=2)\n",
    "    tmp_list.append(tmp)\n",
    "\n",
    "gas_data = pd.concat(tmp_list)\n",
    "gas_data"
   ]
  },
  {
   "cell_type": "code",
   "execution_count": 125,
   "metadata": {},
   "outputs": [
    {
     "name": "stdout",
     "output_type": "stream",
     "text": [
      "<class 'pandas.core.frame.DataFrame'>\n",
      "Int64Index: 466 entries, 0 to 15\n",
      "Data columns (total 10 columns):\n",
      " #   Column  Non-Null Count  Dtype \n",
      "---  ------  --------------  ----- \n",
      " 0   지역      466 non-null    object\n",
      " 1   상호      466 non-null    object\n",
      " 2   주소      466 non-null    object\n",
      " 3   상표      466 non-null    object\n",
      " 4   전화번호    466 non-null    object\n",
      " 5   셀프여부    466 non-null    object\n",
      " 6   고급휘발유   466 non-null    object\n",
      " 7   휘발유     466 non-null    object\n",
      " 8   경유      466 non-null    object\n",
      " 9   실내등유    466 non-null    object\n",
      "dtypes: object(10)\n",
      "memory usage: 40.0+ KB\n"
     ]
    }
   ],
   "source": [
    "gas_data.info()"
   ]
  },
  {
   "cell_type": "code",
   "execution_count": 126,
   "metadata": {},
   "outputs": [
    {
     "data": {
      "text/html": [
       "<div>\n",
       "<style scoped>\n",
       "    .dataframe tbody tr th:only-of-type {\n",
       "        vertical-align: middle;\n",
       "    }\n",
       "\n",
       "    .dataframe tbody tr th {\n",
       "        vertical-align: top;\n",
       "    }\n",
       "\n",
       "    .dataframe thead th {\n",
       "        text-align: right;\n",
       "    }\n",
       "</style>\n",
       "<table border=\"1\" class=\"dataframe\">\n",
       "  <thead>\n",
       "    <tr style=\"text-align: right;\">\n",
       "      <th></th>\n",
       "      <th>상호</th>\n",
       "      <th>주소</th>\n",
       "      <th>가격</th>\n",
       "      <th>셀프</th>\n",
       "      <th>상표</th>\n",
       "    </tr>\n",
       "  </thead>\n",
       "  <tbody>\n",
       "    <tr>\n",
       "      <th>11</th>\n",
       "      <td>대성산업(주)신창주유소</td>\n",
       "      <td>서울 도봉구 덕릉로 267 (창동)</td>\n",
       "      <td>1655</td>\n",
       "      <td>Y</td>\n",
       "      <td>GS칼텍스</td>\n",
       "    </tr>\n",
       "    <tr>\n",
       "      <th>12</th>\n",
       "      <td>현대오일뱅크㈜직영 영신주유소</td>\n",
       "      <td>서울 도봉구 방학로 151</td>\n",
       "      <td>1657</td>\n",
       "      <td>N</td>\n",
       "      <td>현대오일뱅크</td>\n",
       "    </tr>\n",
       "    <tr>\n",
       "      <th>13</th>\n",
       "      <td>노원교주유소</td>\n",
       "      <td>서울 도봉구 마들로 776 (도봉동)</td>\n",
       "      <td>1676</td>\n",
       "      <td>Y</td>\n",
       "      <td>현대오일뱅크</td>\n",
       "    </tr>\n",
       "    <tr>\n",
       "      <th>14</th>\n",
       "      <td>(주)쌍문셀프주유소</td>\n",
       "      <td>서울 도봉구 노해로 161 (쌍문동)</td>\n",
       "      <td>1698</td>\n",
       "      <td>Y</td>\n",
       "      <td>현대오일뱅크</td>\n",
       "    </tr>\n",
       "    <tr>\n",
       "      <th>15</th>\n",
       "      <td>오복주유소</td>\n",
       "      <td>서울 도봉구 방학로 43</td>\n",
       "      <td>1756</td>\n",
       "      <td>Y</td>\n",
       "      <td>S-OIL</td>\n",
       "    </tr>\n",
       "  </tbody>\n",
       "</table>\n",
       "</div>"
      ],
      "text/plain": [
       "                 상호                    주소    가격 셀프      상표\n",
       "11     대성산업(주)신창주유소   서울 도봉구 덕릉로 267 (창동)  1655  Y   GS칼텍스\n",
       "12  현대오일뱅크㈜직영 영신주유소        서울 도봉구 방학로 151  1657  N  현대오일뱅크\n",
       "13           노원교주유소  서울 도봉구 마들로 776 (도봉동)  1676  Y  현대오일뱅크\n",
       "14       (주)쌍문셀프주유소  서울 도봉구 노해로 161 (쌍문동)  1698  Y  현대오일뱅크\n",
       "15            오복주유소         서울 도봉구 방학로 43  1756  Y   S-OIL"
      ]
     },
     "execution_count": 126,
     "metadata": {},
     "output_type": "execute_result"
    }
   ],
   "source": [
    "gas_data = pd.DataFrame({\n",
    "    \"상호\": gas_data[\"상호\"],\n",
    "    \"주소\": gas_data[\"주소\"],\n",
    "    \"가격\": gas_data[\"휘발유\"],\n",
    "    \"셀프\": gas_data[\"셀프여부\"],\n",
    "    \"상표\": gas_data[\"상표\"],\n",
    "})\n",
    "gas_data.tail()"
   ]
  },
  {
   "cell_type": "code",
   "execution_count": 127,
   "metadata": {},
   "outputs": [
    {
     "data": {
      "text/html": [
       "<div>\n",
       "<style scoped>\n",
       "    .dataframe tbody tr th:only-of-type {\n",
       "        vertical-align: middle;\n",
       "    }\n",
       "\n",
       "    .dataframe tbody tr th {\n",
       "        vertical-align: top;\n",
       "    }\n",
       "\n",
       "    .dataframe thead th {\n",
       "        text-align: right;\n",
       "    }\n",
       "</style>\n",
       "<table border=\"1\" class=\"dataframe\">\n",
       "  <thead>\n",
       "    <tr style=\"text-align: right;\">\n",
       "      <th></th>\n",
       "      <th>상호</th>\n",
       "      <th>주소</th>\n",
       "      <th>가격</th>\n",
       "      <th>셀프</th>\n",
       "      <th>상표</th>\n",
       "      <th>구</th>\n",
       "    </tr>\n",
       "  </thead>\n",
       "  <tbody>\n",
       "    <tr>\n",
       "      <th>0</th>\n",
       "      <td>(주)MS에너지</td>\n",
       "      <td>서울 영등포구 대림로 230</td>\n",
       "      <td>1595</td>\n",
       "      <td>N</td>\n",
       "      <td>현대오일뱅크</td>\n",
       "      <td>영등포구</td>\n",
       "    </tr>\n",
       "    <tr>\n",
       "      <th>1</th>\n",
       "      <td>도림주유소</td>\n",
       "      <td>서울 영등포구 도림로 343 (도림동)</td>\n",
       "      <td>1595</td>\n",
       "      <td>Y</td>\n",
       "      <td>알뜰주유소</td>\n",
       "      <td>영등포구</td>\n",
       "    </tr>\n",
       "    <tr>\n",
       "      <th>2</th>\n",
       "      <td>(주)대청에너지 대청주유소</td>\n",
       "      <td>서울 영등포구 가마산로 328 (대림동)</td>\n",
       "      <td>1595</td>\n",
       "      <td>Y</td>\n",
       "      <td>GS칼텍스</td>\n",
       "      <td>영등포구</td>\n",
       "    </tr>\n",
       "    <tr>\n",
       "      <th>3</th>\n",
       "      <td>성락주유소</td>\n",
       "      <td>서울 영등포구 가마산로 414 (신길동)</td>\n",
       "      <td>1595</td>\n",
       "      <td>Y</td>\n",
       "      <td>S-OIL</td>\n",
       "      <td>영등포구</td>\n",
       "    </tr>\n",
       "    <tr>\n",
       "      <th>4</th>\n",
       "      <td>영등포제일셀프주유소</td>\n",
       "      <td>서울 영등포구 가마산로 379</td>\n",
       "      <td>1595</td>\n",
       "      <td>Y</td>\n",
       "      <td>현대오일뱅크</td>\n",
       "      <td>영등포구</td>\n",
       "    </tr>\n",
       "    <tr>\n",
       "      <th>...</th>\n",
       "      <td>...</td>\n",
       "      <td>...</td>\n",
       "      <td>...</td>\n",
       "      <td>...</td>\n",
       "      <td>...</td>\n",
       "      <td>...</td>\n",
       "    </tr>\n",
       "    <tr>\n",
       "      <th>11</th>\n",
       "      <td>대성산업(주)신창주유소</td>\n",
       "      <td>서울 도봉구 덕릉로 267 (창동)</td>\n",
       "      <td>1655</td>\n",
       "      <td>Y</td>\n",
       "      <td>GS칼텍스</td>\n",
       "      <td>도봉구</td>\n",
       "    </tr>\n",
       "    <tr>\n",
       "      <th>12</th>\n",
       "      <td>현대오일뱅크㈜직영 영신주유소</td>\n",
       "      <td>서울 도봉구 방학로 151</td>\n",
       "      <td>1657</td>\n",
       "      <td>N</td>\n",
       "      <td>현대오일뱅크</td>\n",
       "      <td>도봉구</td>\n",
       "    </tr>\n",
       "    <tr>\n",
       "      <th>13</th>\n",
       "      <td>노원교주유소</td>\n",
       "      <td>서울 도봉구 마들로 776 (도봉동)</td>\n",
       "      <td>1676</td>\n",
       "      <td>Y</td>\n",
       "      <td>현대오일뱅크</td>\n",
       "      <td>도봉구</td>\n",
       "    </tr>\n",
       "    <tr>\n",
       "      <th>14</th>\n",
       "      <td>(주)쌍문셀프주유소</td>\n",
       "      <td>서울 도봉구 노해로 161 (쌍문동)</td>\n",
       "      <td>1698</td>\n",
       "      <td>Y</td>\n",
       "      <td>현대오일뱅크</td>\n",
       "      <td>도봉구</td>\n",
       "    </tr>\n",
       "    <tr>\n",
       "      <th>15</th>\n",
       "      <td>오복주유소</td>\n",
       "      <td>서울 도봉구 방학로 43</td>\n",
       "      <td>1756</td>\n",
       "      <td>Y</td>\n",
       "      <td>S-OIL</td>\n",
       "      <td>도봉구</td>\n",
       "    </tr>\n",
       "  </tbody>\n",
       "</table>\n",
       "<p>466 rows × 6 columns</p>\n",
       "</div>"
      ],
      "text/plain": [
       "                 상호                      주소    가격 셀프      상표     구\n",
       "0          (주)MS에너지         서울 영등포구 대림로 230  1595  N  현대오일뱅크  영등포구\n",
       "1             도림주유소   서울 영등포구 도림로 343 (도림동)  1595  Y   알뜰주유소  영등포구\n",
       "2    (주)대청에너지 대청주유소  서울 영등포구 가마산로 328 (대림동)  1595  Y   GS칼텍스  영등포구\n",
       "3             성락주유소  서울 영등포구 가마산로 414 (신길동)  1595  Y   S-OIL  영등포구\n",
       "4        영등포제일셀프주유소        서울 영등포구 가마산로 379  1595  Y  현대오일뱅크  영등포구\n",
       "..              ...                     ...   ... ..     ...   ...\n",
       "11     대성산업(주)신창주유소     서울 도봉구 덕릉로 267 (창동)  1655  Y   GS칼텍스   도봉구\n",
       "12  현대오일뱅크㈜직영 영신주유소          서울 도봉구 방학로 151  1657  N  현대오일뱅크   도봉구\n",
       "13           노원교주유소    서울 도봉구 마들로 776 (도봉동)  1676  Y  현대오일뱅크   도봉구\n",
       "14       (주)쌍문셀프주유소    서울 도봉구 노해로 161 (쌍문동)  1698  Y  현대오일뱅크   도봉구\n",
       "15            오복주유소           서울 도봉구 방학로 43  1756  Y   S-OIL   도봉구\n",
       "\n",
       "[466 rows x 6 columns]"
      ]
     },
     "execution_count": 127,
     "metadata": {},
     "output_type": "execute_result"
    }
   ],
   "source": [
    "gas_data[\"구\"] = [address.split()[1] for address in gas_data[\"주소\"]]\n",
    "gas_data"
   ]
  },
  {
   "cell_type": "code",
   "execution_count": 128,
   "metadata": {},
   "outputs": [
    {
     "data": {
      "text/plain": [
       "(array(['영등포구', '노원구', '서초구', '서대문구', '금천구', '강서구', '은평구', '관악구', '강북구',\n",
       "        '중구', '용산구', '강남구', '동대문구', '송파구', '구로구', '광진구', '양천구', '성동구',\n",
       "        '강동구', '동작구', '성북구', '종로구', '중랑구', '마포구', '도봉구'], dtype=object),\n",
       " 25)"
      ]
     },
     "execution_count": 128,
     "metadata": {},
     "output_type": "execute_result"
    }
   ],
   "source": [
    "gas_data[\"구\"].unique(), len(gas_data[\"구\"].unique())"
   ]
  },
  {
   "cell_type": "code",
   "execution_count": 129,
   "metadata": {},
   "outputs": [
    {
     "data": {
      "text/html": [
       "<div>\n",
       "<style scoped>\n",
       "    .dataframe tbody tr th:only-of-type {\n",
       "        vertical-align: middle;\n",
       "    }\n",
       "\n",
       "    .dataframe tbody tr th {\n",
       "        vertical-align: top;\n",
       "    }\n",
       "\n",
       "    .dataframe thead th {\n",
       "        text-align: right;\n",
       "    }\n",
       "</style>\n",
       "<table border=\"1\" class=\"dataframe\">\n",
       "  <thead>\n",
       "    <tr style=\"text-align: right;\">\n",
       "      <th></th>\n",
       "      <th>상호</th>\n",
       "      <th>주소</th>\n",
       "      <th>가격</th>\n",
       "      <th>셀프</th>\n",
       "      <th>상표</th>\n",
       "      <th>구</th>\n",
       "    </tr>\n",
       "  </thead>\n",
       "  <tbody>\n",
       "    <tr>\n",
       "      <th>27</th>\n",
       "      <td>한일주유소</td>\n",
       "      <td>서울 영등포구 도림로 486 (문래동3가)</td>\n",
       "      <td>-</td>\n",
       "      <td>N</td>\n",
       "      <td>SK에너지</td>\n",
       "      <td>영등포구</td>\n",
       "    </tr>\n",
       "    <tr>\n",
       "      <th>30</th>\n",
       "      <td>지에스칼텍스(주)내곡주유소</td>\n",
       "      <td>서울 서초구 헌릉로 210</td>\n",
       "      <td>-</td>\n",
       "      <td>N</td>\n",
       "      <td>GS칼텍스</td>\n",
       "      <td>서초구</td>\n",
       "    </tr>\n",
       "    <tr>\n",
       "      <th>16</th>\n",
       "      <td>삼융주유소</td>\n",
       "      <td>서울 은평구 수색로 299 (수색동)</td>\n",
       "      <td>-</td>\n",
       "      <td>N</td>\n",
       "      <td>SK에너지</td>\n",
       "      <td>은평구</td>\n",
       "    </tr>\n",
       "    <tr>\n",
       "      <th>10</th>\n",
       "      <td>지에스칼텍스(주)직영 역전점</td>\n",
       "      <td>서울 중구 퇴계로 15</td>\n",
       "      <td>-</td>\n",
       "      <td>N</td>\n",
       "      <td>GS칼텍스</td>\n",
       "      <td>중구</td>\n",
       "    </tr>\n",
       "    <tr>\n",
       "      <th>17</th>\n",
       "      <td>(주)자연에너지 국민주유소</td>\n",
       "      <td>서울 동대문구 답십리로 223 (답십리동)</td>\n",
       "      <td>-</td>\n",
       "      <td>N</td>\n",
       "      <td>현대오일뱅크</td>\n",
       "      <td>동대문구</td>\n",
       "    </tr>\n",
       "    <tr>\n",
       "      <th>13</th>\n",
       "      <td>현대오일뱅크㈜직영 장호셀프주유소</td>\n",
       "      <td>서울 광진구 자양로 37 (자양동)</td>\n",
       "      <td>-</td>\n",
       "      <td>Y</td>\n",
       "      <td>현대오일뱅크</td>\n",
       "      <td>광진구</td>\n",
       "    </tr>\n",
       "    <tr>\n",
       "      <th>14</th>\n",
       "      <td>대성산업(주)구의주유소</td>\n",
       "      <td>서울 광진구 광나루로 570 (구의동)</td>\n",
       "      <td>-</td>\n",
       "      <td>N</td>\n",
       "      <td>GS칼텍스</td>\n",
       "      <td>광진구</td>\n",
       "    </tr>\n",
       "    <tr>\n",
       "      <th>15</th>\n",
       "      <td>지에스칼텍스 (주)구의스타주유소</td>\n",
       "      <td>서울 광진구 자양로 103</td>\n",
       "      <td>-</td>\n",
       "      <td>N</td>\n",
       "      <td>GS칼텍스</td>\n",
       "      <td>광진구</td>\n",
       "    </tr>\n",
       "    <tr>\n",
       "      <th>24</th>\n",
       "      <td>평화주유소</td>\n",
       "      <td>서울 양천구 안양천로 657 (신정동)</td>\n",
       "      <td>-</td>\n",
       "      <td>N</td>\n",
       "      <td>SK에너지</td>\n",
       "      <td>양천구</td>\n",
       "    </tr>\n",
       "    <tr>\n",
       "      <th>8</th>\n",
       "      <td>현대오일뱅크㈜직영 재동주유소</td>\n",
       "      <td>서울 종로구 율곡로 58 (경운동)</td>\n",
       "      <td>-</td>\n",
       "      <td>N</td>\n",
       "      <td>현대오일뱅크</td>\n",
       "      <td>종로구</td>\n",
       "    </tr>\n",
       "  </tbody>\n",
       "</table>\n",
       "</div>"
      ],
      "text/plain": [
       "                   상호                       주소 가격 셀프      상표     구\n",
       "27              한일주유소  서울 영등포구 도림로 486 (문래동3가)  -  N   SK에너지  영등포구\n",
       "30     지에스칼텍스(주)내곡주유소           서울 서초구 헌릉로 210  -  N   GS칼텍스   서초구\n",
       "16              삼융주유소     서울 은평구 수색로 299 (수색동)  -  N   SK에너지   은평구\n",
       "10    지에스칼텍스(주)직영 역전점             서울 중구 퇴계로 15  -  N   GS칼텍스    중구\n",
       "17     (주)자연에너지 국민주유소  서울 동대문구 답십리로 223 (답십리동)  -  N  현대오일뱅크  동대문구\n",
       "13  현대오일뱅크㈜직영 장호셀프주유소      서울 광진구 자양로 37 (자양동)  -  Y  현대오일뱅크   광진구\n",
       "14       대성산업(주)구의주유소    서울 광진구 광나루로 570 (구의동)  -  N   GS칼텍스   광진구\n",
       "15  지에스칼텍스 (주)구의스타주유소           서울 광진구 자양로 103  -  N   GS칼텍스   광진구\n",
       "24              평화주유소    서울 양천구 안양천로 657 (신정동)  -  N   SK에너지   양천구\n",
       "8     현대오일뱅크㈜직영 재동주유소      서울 종로구 율곡로 58 (경운동)  -  N  현대오일뱅크   종로구"
      ]
     },
     "execution_count": 129,
     "metadata": {},
     "output_type": "execute_result"
    }
   ],
   "source": [
    "gas_data[gas_data[\"가격\"] == \"-\"]"
   ]
  },
  {
   "cell_type": "code",
   "execution_count": 130,
   "metadata": {},
   "outputs": [
    {
     "data": {
      "text/html": [
       "<div>\n",
       "<style scoped>\n",
       "    .dataframe tbody tr th:only-of-type {\n",
       "        vertical-align: middle;\n",
       "    }\n",
       "\n",
       "    .dataframe tbody tr th {\n",
       "        vertical-align: top;\n",
       "    }\n",
       "\n",
       "    .dataframe thead th {\n",
       "        text-align: right;\n",
       "    }\n",
       "</style>\n",
       "<table border=\"1\" class=\"dataframe\">\n",
       "  <thead>\n",
       "    <tr style=\"text-align: right;\">\n",
       "      <th></th>\n",
       "      <th>상호</th>\n",
       "      <th>주소</th>\n",
       "      <th>가격</th>\n",
       "      <th>셀프</th>\n",
       "      <th>상표</th>\n",
       "      <th>구</th>\n",
       "    </tr>\n",
       "  </thead>\n",
       "  <tbody>\n",
       "    <tr>\n",
       "      <th>0</th>\n",
       "      <td>(주)MS에너지</td>\n",
       "      <td>서울 영등포구 대림로 230</td>\n",
       "      <td>1595</td>\n",
       "      <td>N</td>\n",
       "      <td>현대오일뱅크</td>\n",
       "      <td>영등포구</td>\n",
       "    </tr>\n",
       "    <tr>\n",
       "      <th>1</th>\n",
       "      <td>도림주유소</td>\n",
       "      <td>서울 영등포구 도림로 343 (도림동)</td>\n",
       "      <td>1595</td>\n",
       "      <td>Y</td>\n",
       "      <td>알뜰주유소</td>\n",
       "      <td>영등포구</td>\n",
       "    </tr>\n",
       "    <tr>\n",
       "      <th>2</th>\n",
       "      <td>(주)대청에너지 대청주유소</td>\n",
       "      <td>서울 영등포구 가마산로 328 (대림동)</td>\n",
       "      <td>1595</td>\n",
       "      <td>Y</td>\n",
       "      <td>GS칼텍스</td>\n",
       "      <td>영등포구</td>\n",
       "    </tr>\n",
       "    <tr>\n",
       "      <th>3</th>\n",
       "      <td>성락주유소</td>\n",
       "      <td>서울 영등포구 가마산로 414 (신길동)</td>\n",
       "      <td>1595</td>\n",
       "      <td>Y</td>\n",
       "      <td>S-OIL</td>\n",
       "      <td>영등포구</td>\n",
       "    </tr>\n",
       "    <tr>\n",
       "      <th>4</th>\n",
       "      <td>영등포제일셀프주유소</td>\n",
       "      <td>서울 영등포구 가마산로 379</td>\n",
       "      <td>1595</td>\n",
       "      <td>Y</td>\n",
       "      <td>현대오일뱅크</td>\n",
       "      <td>영등포구</td>\n",
       "    </tr>\n",
       "  </tbody>\n",
       "</table>\n",
       "</div>"
      ],
      "text/plain": [
       "               상호                      주소    가격 셀프      상표     구\n",
       "0        (주)MS에너지         서울 영등포구 대림로 230  1595  N  현대오일뱅크  영등포구\n",
       "1           도림주유소   서울 영등포구 도림로 343 (도림동)  1595  Y   알뜰주유소  영등포구\n",
       "2  (주)대청에너지 대청주유소  서울 영등포구 가마산로 328 (대림동)  1595  Y   GS칼텍스  영등포구\n",
       "3           성락주유소  서울 영등포구 가마산로 414 (신길동)  1595  Y   S-OIL  영등포구\n",
       "4      영등포제일셀프주유소        서울 영등포구 가마산로 379  1595  Y  현대오일뱅크  영등포구"
      ]
     },
     "execution_count": 130,
     "metadata": {},
     "output_type": "execute_result"
    }
   ],
   "source": [
    "gas_data = gas_data[gas_data[\"가격\"] != \"-\"]\n",
    "gas_data.head()"
   ]
  },
  {
   "cell_type": "code",
   "execution_count": 131,
   "metadata": {
    "scrolled": true
   },
   "outputs": [
    {
     "name": "stderr",
     "output_type": "stream",
     "text": [
      "/tmp/ipykernel_91093/3157188394.py:1: SettingWithCopyWarning: \n",
      "A value is trying to be set on a copy of a slice from a DataFrame.\n",
      "Try using .loc[row_indexer,col_indexer] = value instead\n",
      "\n",
      "See the caveats in the documentation: https://pandas.pydata.org/pandas-docs/stable/user_guide/indexing.html#returning-a-view-versus-a-copy\n",
      "  gas_data[\"가격\"] = gas_data[\"가격\"].astype(\"float\")\n"
     ]
    }
   ],
   "source": [
    "gas_data[\"가격\"] = gas_data[\"가격\"].astype(\"float\")"
   ]
  },
  {
   "cell_type": "code",
   "execution_count": 132,
   "metadata": {},
   "outputs": [
    {
     "name": "stdout",
     "output_type": "stream",
     "text": [
      "<class 'pandas.core.frame.DataFrame'>\n",
      "Int64Index: 456 entries, 0 to 15\n",
      "Data columns (total 6 columns):\n",
      " #   Column  Non-Null Count  Dtype  \n",
      "---  ------  --------------  -----  \n",
      " 0   상호      456 non-null    object \n",
      " 1   주소      456 non-null    object \n",
      " 2   가격      456 non-null    float64\n",
      " 3   셀프      456 non-null    object \n",
      " 4   상표      456 non-null    object \n",
      " 5   구       456 non-null    object \n",
      "dtypes: float64(1), object(5)\n",
      "memory usage: 24.9+ KB\n"
     ]
    }
   ],
   "source": [
    "gas_data.info()"
   ]
  },
  {
   "cell_type": "code",
   "execution_count": 133,
   "metadata": {},
   "outputs": [
    {
     "data": {
      "text/html": [
       "<div>\n",
       "<style scoped>\n",
       "    .dataframe tbody tr th:only-of-type {\n",
       "        vertical-align: middle;\n",
       "    }\n",
       "\n",
       "    .dataframe tbody tr th {\n",
       "        vertical-align: top;\n",
       "    }\n",
       "\n",
       "    .dataframe thead th {\n",
       "        text-align: right;\n",
       "    }\n",
       "</style>\n",
       "<table border=\"1\" class=\"dataframe\">\n",
       "  <thead>\n",
       "    <tr style=\"text-align: right;\">\n",
       "      <th></th>\n",
       "      <th>상호</th>\n",
       "      <th>주소</th>\n",
       "      <th>가격</th>\n",
       "      <th>셀프</th>\n",
       "      <th>상표</th>\n",
       "      <th>구</th>\n",
       "    </tr>\n",
       "  </thead>\n",
       "  <tbody>\n",
       "    <tr>\n",
       "      <th>0</th>\n",
       "      <td>(주)MS에너지</td>\n",
       "      <td>서울 영등포구 대림로 230</td>\n",
       "      <td>1595.0</td>\n",
       "      <td>N</td>\n",
       "      <td>현대오일뱅크</td>\n",
       "      <td>영등포구</td>\n",
       "    </tr>\n",
       "    <tr>\n",
       "      <th>1</th>\n",
       "      <td>도림주유소</td>\n",
       "      <td>서울 영등포구 도림로 343 (도림동)</td>\n",
       "      <td>1595.0</td>\n",
       "      <td>Y</td>\n",
       "      <td>알뜰주유소</td>\n",
       "      <td>영등포구</td>\n",
       "    </tr>\n",
       "    <tr>\n",
       "      <th>2</th>\n",
       "      <td>(주)대청에너지 대청주유소</td>\n",
       "      <td>서울 영등포구 가마산로 328 (대림동)</td>\n",
       "      <td>1595.0</td>\n",
       "      <td>Y</td>\n",
       "      <td>GS칼텍스</td>\n",
       "      <td>영등포구</td>\n",
       "    </tr>\n",
       "    <tr>\n",
       "      <th>3</th>\n",
       "      <td>성락주유소</td>\n",
       "      <td>서울 영등포구 가마산로 414 (신길동)</td>\n",
       "      <td>1595.0</td>\n",
       "      <td>Y</td>\n",
       "      <td>S-OIL</td>\n",
       "      <td>영등포구</td>\n",
       "    </tr>\n",
       "    <tr>\n",
       "      <th>4</th>\n",
       "      <td>영등포제일셀프주유소</td>\n",
       "      <td>서울 영등포구 가마산로 379</td>\n",
       "      <td>1595.0</td>\n",
       "      <td>Y</td>\n",
       "      <td>현대오일뱅크</td>\n",
       "      <td>영등포구</td>\n",
       "    </tr>\n",
       "    <tr>\n",
       "      <th>...</th>\n",
       "      <td>...</td>\n",
       "      <td>...</td>\n",
       "      <td>...</td>\n",
       "      <td>...</td>\n",
       "      <td>...</td>\n",
       "      <td>...</td>\n",
       "    </tr>\n",
       "    <tr>\n",
       "      <th>11</th>\n",
       "      <td>대성산업(주)신창주유소</td>\n",
       "      <td>서울 도봉구 덕릉로 267 (창동)</td>\n",
       "      <td>1655.0</td>\n",
       "      <td>Y</td>\n",
       "      <td>GS칼텍스</td>\n",
       "      <td>도봉구</td>\n",
       "    </tr>\n",
       "    <tr>\n",
       "      <th>12</th>\n",
       "      <td>현대오일뱅크㈜직영 영신주유소</td>\n",
       "      <td>서울 도봉구 방학로 151</td>\n",
       "      <td>1657.0</td>\n",
       "      <td>N</td>\n",
       "      <td>현대오일뱅크</td>\n",
       "      <td>도봉구</td>\n",
       "    </tr>\n",
       "    <tr>\n",
       "      <th>13</th>\n",
       "      <td>노원교주유소</td>\n",
       "      <td>서울 도봉구 마들로 776 (도봉동)</td>\n",
       "      <td>1676.0</td>\n",
       "      <td>Y</td>\n",
       "      <td>현대오일뱅크</td>\n",
       "      <td>도봉구</td>\n",
       "    </tr>\n",
       "    <tr>\n",
       "      <th>14</th>\n",
       "      <td>(주)쌍문셀프주유소</td>\n",
       "      <td>서울 도봉구 노해로 161 (쌍문동)</td>\n",
       "      <td>1698.0</td>\n",
       "      <td>Y</td>\n",
       "      <td>현대오일뱅크</td>\n",
       "      <td>도봉구</td>\n",
       "    </tr>\n",
       "    <tr>\n",
       "      <th>15</th>\n",
       "      <td>오복주유소</td>\n",
       "      <td>서울 도봉구 방학로 43</td>\n",
       "      <td>1756.0</td>\n",
       "      <td>Y</td>\n",
       "      <td>S-OIL</td>\n",
       "      <td>도봉구</td>\n",
       "    </tr>\n",
       "  </tbody>\n",
       "</table>\n",
       "<p>456 rows × 6 columns</p>\n",
       "</div>"
      ],
      "text/plain": [
       "                 상호                      주소      가격 셀프      상표     구\n",
       "0          (주)MS에너지         서울 영등포구 대림로 230  1595.0  N  현대오일뱅크  영등포구\n",
       "1             도림주유소   서울 영등포구 도림로 343 (도림동)  1595.0  Y   알뜰주유소  영등포구\n",
       "2    (주)대청에너지 대청주유소  서울 영등포구 가마산로 328 (대림동)  1595.0  Y   GS칼텍스  영등포구\n",
       "3             성락주유소  서울 영등포구 가마산로 414 (신길동)  1595.0  Y   S-OIL  영등포구\n",
       "4        영등포제일셀프주유소        서울 영등포구 가마산로 379  1595.0  Y  현대오일뱅크  영등포구\n",
       "..              ...                     ...     ... ..     ...   ...\n",
       "11     대성산업(주)신창주유소     서울 도봉구 덕릉로 267 (창동)  1655.0  Y   GS칼텍스   도봉구\n",
       "12  현대오일뱅크㈜직영 영신주유소          서울 도봉구 방학로 151  1657.0  N  현대오일뱅크   도봉구\n",
       "13           노원교주유소    서울 도봉구 마들로 776 (도봉동)  1676.0  Y  현대오일뱅크   도봉구\n",
       "14       (주)쌍문셀프주유소    서울 도봉구 노해로 161 (쌍문동)  1698.0  Y  현대오일뱅크   도봉구\n",
       "15            오복주유소           서울 도봉구 방학로 43  1756.0  Y   S-OIL   도봉구\n",
       "\n",
       "[456 rows x 6 columns]"
      ]
     },
     "execution_count": 133,
     "metadata": {},
     "output_type": "execute_result"
    }
   ],
   "source": [
    "gas_data"
   ]
  },
  {
   "cell_type": "code",
   "execution_count": 134,
   "metadata": {},
   "outputs": [
    {
     "data": {
      "text/html": [
       "<div>\n",
       "<style scoped>\n",
       "    .dataframe tbody tr th:only-of-type {\n",
       "        vertical-align: middle;\n",
       "    }\n",
       "\n",
       "    .dataframe tbody tr th {\n",
       "        vertical-align: top;\n",
       "    }\n",
       "\n",
       "    .dataframe thead th {\n",
       "        text-align: right;\n",
       "    }\n",
       "</style>\n",
       "<table border=\"1\" class=\"dataframe\">\n",
       "  <thead>\n",
       "    <tr style=\"text-align: right;\">\n",
       "      <th></th>\n",
       "      <th>index</th>\n",
       "      <th>상호</th>\n",
       "      <th>주소</th>\n",
       "      <th>가격</th>\n",
       "      <th>셀프</th>\n",
       "      <th>상표</th>\n",
       "      <th>구</th>\n",
       "    </tr>\n",
       "  </thead>\n",
       "  <tbody>\n",
       "    <tr>\n",
       "      <th>0</th>\n",
       "      <td>0</td>\n",
       "      <td>(주)MS에너지</td>\n",
       "      <td>서울 영등포구 대림로 230</td>\n",
       "      <td>1595.0</td>\n",
       "      <td>N</td>\n",
       "      <td>현대오일뱅크</td>\n",
       "      <td>영등포구</td>\n",
       "    </tr>\n",
       "    <tr>\n",
       "      <th>1</th>\n",
       "      <td>1</td>\n",
       "      <td>도림주유소</td>\n",
       "      <td>서울 영등포구 도림로 343 (도림동)</td>\n",
       "      <td>1595.0</td>\n",
       "      <td>Y</td>\n",
       "      <td>알뜰주유소</td>\n",
       "      <td>영등포구</td>\n",
       "    </tr>\n",
       "    <tr>\n",
       "      <th>2</th>\n",
       "      <td>2</td>\n",
       "      <td>(주)대청에너지 대청주유소</td>\n",
       "      <td>서울 영등포구 가마산로 328 (대림동)</td>\n",
       "      <td>1595.0</td>\n",
       "      <td>Y</td>\n",
       "      <td>GS칼텍스</td>\n",
       "      <td>영등포구</td>\n",
       "    </tr>\n",
       "    <tr>\n",
       "      <th>3</th>\n",
       "      <td>3</td>\n",
       "      <td>성락주유소</td>\n",
       "      <td>서울 영등포구 가마산로 414 (신길동)</td>\n",
       "      <td>1595.0</td>\n",
       "      <td>Y</td>\n",
       "      <td>S-OIL</td>\n",
       "      <td>영등포구</td>\n",
       "    </tr>\n",
       "    <tr>\n",
       "      <th>4</th>\n",
       "      <td>4</td>\n",
       "      <td>영등포제일셀프주유소</td>\n",
       "      <td>서울 영등포구 가마산로 379</td>\n",
       "      <td>1595.0</td>\n",
       "      <td>Y</td>\n",
       "      <td>현대오일뱅크</td>\n",
       "      <td>영등포구</td>\n",
       "    </tr>\n",
       "  </tbody>\n",
       "</table>\n",
       "</div>"
      ],
      "text/plain": [
       "   index              상호                      주소      가격 셀프      상표     구\n",
       "0      0        (주)MS에너지         서울 영등포구 대림로 230  1595.0  N  현대오일뱅크  영등포구\n",
       "1      1           도림주유소   서울 영등포구 도림로 343 (도림동)  1595.0  Y   알뜰주유소  영등포구\n",
       "2      2  (주)대청에너지 대청주유소  서울 영등포구 가마산로 328 (대림동)  1595.0  Y   GS칼텍스  영등포구\n",
       "3      3           성락주유소  서울 영등포구 가마산로 414 (신길동)  1595.0  Y   S-OIL  영등포구\n",
       "4      4      영등포제일셀프주유소        서울 영등포구 가마산로 379  1595.0  Y  현대오일뱅크  영등포구"
      ]
     },
     "execution_count": 134,
     "metadata": {},
     "output_type": "execute_result"
    }
   ],
   "source": [
    "gas_data.reset_index(inplace=True)\n",
    "gas_data.head()"
   ]
  },
  {
   "cell_type": "code",
   "execution_count": 135,
   "metadata": {},
   "outputs": [
    {
     "data": {
      "text/html": [
       "<div>\n",
       "<style scoped>\n",
       "    .dataframe tbody tr th:only-of-type {\n",
       "        vertical-align: middle;\n",
       "    }\n",
       "\n",
       "    .dataframe tbody tr th {\n",
       "        vertical-align: top;\n",
       "    }\n",
       "\n",
       "    .dataframe thead th {\n",
       "        text-align: right;\n",
       "    }\n",
       "</style>\n",
       "<table border=\"1\" class=\"dataframe\">\n",
       "  <thead>\n",
       "    <tr style=\"text-align: right;\">\n",
       "      <th></th>\n",
       "      <th>상호</th>\n",
       "      <th>주소</th>\n",
       "      <th>가격</th>\n",
       "      <th>셀프</th>\n",
       "      <th>상표</th>\n",
       "      <th>구</th>\n",
       "    </tr>\n",
       "  </thead>\n",
       "  <tbody>\n",
       "    <tr>\n",
       "      <th>0</th>\n",
       "      <td>(주)MS에너지</td>\n",
       "      <td>서울 영등포구 대림로 230</td>\n",
       "      <td>1595.0</td>\n",
       "      <td>N</td>\n",
       "      <td>현대오일뱅크</td>\n",
       "      <td>영등포구</td>\n",
       "    </tr>\n",
       "    <tr>\n",
       "      <th>1</th>\n",
       "      <td>도림주유소</td>\n",
       "      <td>서울 영등포구 도림로 343 (도림동)</td>\n",
       "      <td>1595.0</td>\n",
       "      <td>Y</td>\n",
       "      <td>알뜰주유소</td>\n",
       "      <td>영등포구</td>\n",
       "    </tr>\n",
       "    <tr>\n",
       "      <th>2</th>\n",
       "      <td>(주)대청에너지 대청주유소</td>\n",
       "      <td>서울 영등포구 가마산로 328 (대림동)</td>\n",
       "      <td>1595.0</td>\n",
       "      <td>Y</td>\n",
       "      <td>GS칼텍스</td>\n",
       "      <td>영등포구</td>\n",
       "    </tr>\n",
       "    <tr>\n",
       "      <th>3</th>\n",
       "      <td>성락주유소</td>\n",
       "      <td>서울 영등포구 가마산로 414 (신길동)</td>\n",
       "      <td>1595.0</td>\n",
       "      <td>Y</td>\n",
       "      <td>S-OIL</td>\n",
       "      <td>영등포구</td>\n",
       "    </tr>\n",
       "    <tr>\n",
       "      <th>4</th>\n",
       "      <td>영등포제일셀프주유소</td>\n",
       "      <td>서울 영등포구 가마산로 379</td>\n",
       "      <td>1595.0</td>\n",
       "      <td>Y</td>\n",
       "      <td>현대오일뱅크</td>\n",
       "      <td>영등포구</td>\n",
       "    </tr>\n",
       "  </tbody>\n",
       "</table>\n",
       "</div>"
      ],
      "text/plain": [
       "               상호                      주소      가격 셀프      상표     구\n",
       "0        (주)MS에너지         서울 영등포구 대림로 230  1595.0  N  현대오일뱅크  영등포구\n",
       "1           도림주유소   서울 영등포구 도림로 343 (도림동)  1595.0  Y   알뜰주유소  영등포구\n",
       "2  (주)대청에너지 대청주유소  서울 영등포구 가마산로 328 (대림동)  1595.0  Y   GS칼텍스  영등포구\n",
       "3           성락주유소  서울 영등포구 가마산로 414 (신길동)  1595.0  Y   S-OIL  영등포구\n",
       "4      영등포제일셀프주유소        서울 영등포구 가마산로 379  1595.0  Y  현대오일뱅크  영등포구"
      ]
     },
     "execution_count": 135,
     "metadata": {},
     "output_type": "execute_result"
    }
   ],
   "source": [
    "del gas_data[\"index\"]\n",
    "gas_data.head()"
   ]
  },
  {
   "cell_type": "code",
   "execution_count": 136,
   "metadata": {},
   "outputs": [],
   "source": [
    "import matplotlib.pyplot as plt\n",
    "import seaborn as sns\n",
    "import platform\n",
    "\n",
    "plt.rc('font', family='NanumGothiccoding')"
   ]
  },
  {
   "cell_type": "code",
   "execution_count": 137,
   "metadata": {},
   "outputs": [
    {
     "data": {
      "image/png": "[encoded data removed]",
      "text/plain": [
       "<Figure size 1200x800 with 1 Axes>"
      ]
     },
     "metadata": {},
     "output_type": "display_data"
    }
   ],
   "source": [
    "gas_data.boxplot(column=\"가격\", by=\"셀프\", figsize=(12, 8));"
   ]
  },
  {
   "cell_type": "code",
   "execution_count": 138,
   "metadata": {},
   "outputs": [
    {
     "data": {
      "image/png": "[encoded data removed]",
      "text/plain": [
       "<Figure size 1200x800 with 1 Axes>"
      ]
     },
     "metadata": {},
     "output_type": "display_data"
    }
   ],
   "source": [
    "plt.figure(figsize=(12, 8))\n",
    "sns.boxplot(x=\"셀프\", y=\"가격\", data=gas_data, palette=\"Set1\")\n",
    "plt.grid(True)\n",
    "plt.show()"
   ]
  },
  {
   "cell_type": "code",
   "execution_count": 139,
   "metadata": {},
   "outputs": [
    {
     "data": {
      "image/png": "[encoded data removed]",
      "text/plain": [
       "<Figure size 1200x800 with 1 Axes>"
      ]
     },
     "metadata": {},
     "output_type": "display_data"
    }
   ],
   "source": [
    "plt.figure(figsize=(12, 8))\n",
    "sns.boxplot(x=\"상표\", y=\"가격\", hue=\"셀프\", data=gas_data, palette=\"Set3\")\n",
    "plt.grid(True)\n",
    "plt.show()"
   ]
  },
  {
   "cell_type": "code",
   "execution_count": 140,
   "metadata": {},
   "outputs": [],
   "source": [
    "import json\n",
    "import folium\n",
    "import warnings\n",
    "warnings.simplefilter(action=\"ignore\", category=FutureWarning)"
   ]
  },
  {
   "cell_type": "code",
   "execution_count": 141,
   "metadata": {},
   "outputs": [
    {
     "data": {
      "text/html": [
       "<div>\n",
       "<style scoped>\n",
       "    .dataframe tbody tr th:only-of-type {\n",
       "        vertical-align: middle;\n",
       "    }\n",
       "\n",
       "    .dataframe tbody tr th {\n",
       "        vertical-align: top;\n",
       "    }\n",
       "\n",
       "    .dataframe thead th {\n",
       "        text-align: right;\n",
       "    }\n",
       "</style>\n",
       "<table border=\"1\" class=\"dataframe\">\n",
       "  <thead>\n",
       "    <tr style=\"text-align: right;\">\n",
       "      <th></th>\n",
       "      <th>상호</th>\n",
       "      <th>주소</th>\n",
       "      <th>가격</th>\n",
       "      <th>셀프</th>\n",
       "      <th>상표</th>\n",
       "      <th>구</th>\n",
       "    </tr>\n",
       "  </thead>\n",
       "  <tbody>\n",
       "    <tr>\n",
       "      <th>182</th>\n",
       "      <td>서남주유소</td>\n",
       "      <td>서울 중구 통일로 30</td>\n",
       "      <td>2632.0</td>\n",
       "      <td>N</td>\n",
       "      <td>SK에너지</td>\n",
       "      <td>중구</td>\n",
       "    </tr>\n",
       "    <tr>\n",
       "      <th>194</th>\n",
       "      <td>서계주유소</td>\n",
       "      <td>서울 용산구  청파로 367 (청파동)</td>\n",
       "      <td>2629.0</td>\n",
       "      <td>N</td>\n",
       "      <td>GS칼텍스</td>\n",
       "      <td>용산구</td>\n",
       "    </tr>\n",
       "    <tr>\n",
       "      <th>228</th>\n",
       "      <td>(주)만정에너지 삼보주유소</td>\n",
       "      <td>서울 강남구 봉은사로 433 (삼성동)</td>\n",
       "      <td>2598.0</td>\n",
       "      <td>N</td>\n",
       "      <td>GS칼텍스</td>\n",
       "      <td>강남구</td>\n",
       "    </tr>\n",
       "    <tr>\n",
       "      <th>181</th>\n",
       "      <td>필동주유소</td>\n",
       "      <td>서울 중구 퇴계로 196 (필동2가)</td>\n",
       "      <td>2429.0</td>\n",
       "      <td>N</td>\n",
       "      <td>GS칼텍스</td>\n",
       "      <td>중구</td>\n",
       "    </tr>\n",
       "    <tr>\n",
       "      <th>71</th>\n",
       "      <td>양재최고주유소</td>\n",
       "      <td>서울 서초구 매헌로 72 (양재동)</td>\n",
       "      <td>2395.0</td>\n",
       "      <td>N</td>\n",
       "      <td>S-OIL</td>\n",
       "      <td>서초구</td>\n",
       "    </tr>\n",
       "    <tr>\n",
       "      <th>227</th>\n",
       "      <td>갤러리아주유소</td>\n",
       "      <td>서울 강남구 압구정로 426</td>\n",
       "      <td>2362.0</td>\n",
       "      <td>N</td>\n",
       "      <td>SK에너지</td>\n",
       "      <td>강남구</td>\n",
       "    </tr>\n",
       "    <tr>\n",
       "      <th>226</th>\n",
       "      <td>SK논현주유소</td>\n",
       "      <td>서울 강남구 논현로 747 (논현동)</td>\n",
       "      <td>2345.0</td>\n",
       "      <td>N</td>\n",
       "      <td>SK에너지</td>\n",
       "      <td>강남구</td>\n",
       "    </tr>\n",
       "    <tr>\n",
       "      <th>295</th>\n",
       "      <td>구로주유소</td>\n",
       "      <td>서울 구로구 구로동로 137 (구로동)</td>\n",
       "      <td>2298.0</td>\n",
       "      <td>N</td>\n",
       "      <td>GS칼텍스</td>\n",
       "      <td>구로구</td>\n",
       "    </tr>\n",
       "    <tr>\n",
       "      <th>192</th>\n",
       "      <td>한남지점</td>\n",
       "      <td>서울 용산구 한남대로21길 4 (한남동)</td>\n",
       "      <td>2297.0</td>\n",
       "      <td>N</td>\n",
       "      <td>SK에너지</td>\n",
       "      <td>용산구</td>\n",
       "    </tr>\n",
       "    <tr>\n",
       "      <th>414</th>\n",
       "      <td>(주)중앙에너비스 혜화주유소</td>\n",
       "      <td>서울 종로구 창경궁로35길 1</td>\n",
       "      <td>2297.0</td>\n",
       "      <td>N</td>\n",
       "      <td>SK에너지</td>\n",
       "      <td>종로구</td>\n",
       "    </tr>\n",
       "  </tbody>\n",
       "</table>\n",
       "</div>"
      ],
      "text/plain": [
       "                  상호                      주소      가격 셀프     상표    구\n",
       "182            서남주유소            서울 중구 통일로 30  2632.0  N  SK에너지   중구\n",
       "194            서계주유소   서울 용산구  청파로 367 (청파동)  2629.0  N  GS칼텍스  용산구\n",
       "228   (주)만정에너지 삼보주유소   서울 강남구 봉은사로 433 (삼성동)  2598.0  N  GS칼텍스  강남구\n",
       "181            필동주유소    서울 중구 퇴계로 196 (필동2가)  2429.0  N  GS칼텍스   중구\n",
       "71           양재최고주유소     서울 서초구 매헌로 72 (양재동)  2395.0  N  S-OIL  서초구\n",
       "227          갤러리아주유소         서울 강남구 압구정로 426  2362.0  N  SK에너지  강남구\n",
       "226          SK논현주유소    서울 강남구 논현로 747 (논현동)  2345.0  N  SK에너지  강남구\n",
       "295            구로주유소   서울 구로구 구로동로 137 (구로동)  2298.0  N  GS칼텍스  구로구\n",
       "192             한남지점  서울 용산구 한남대로21길 4 (한남동)  2297.0  N  SK에너지  용산구\n",
       "414  (주)중앙에너비스 혜화주유소        서울 종로구 창경궁로35길 1  2297.0  N  SK에너지  종로구"
      ]
     },
     "execution_count": 141,
     "metadata": {},
     "output_type": "execute_result"
    }
   ],
   "source": [
    "gas_data.sort_values(by=\"가격\", ascending=False).head(10)"
   ]
  },
  {
   "cell_type": "code",
   "execution_count": 142,
   "metadata": {},
   "outputs": [
    {
     "data": {
      "text/html": [
       "<div>\n",
       "<style scoped>\n",
       "    .dataframe tbody tr th:only-of-type {\n",
       "        vertical-align: middle;\n",
       "    }\n",
       "\n",
       "    .dataframe tbody tr th {\n",
       "        vertical-align: top;\n",
       "    }\n",
       "\n",
       "    .dataframe thead th {\n",
       "        text-align: right;\n",
       "    }\n",
       "</style>\n",
       "<table border=\"1\" class=\"dataframe\">\n",
       "  <thead>\n",
       "    <tr style=\"text-align: right;\">\n",
       "      <th></th>\n",
       "      <th>상호</th>\n",
       "      <th>주소</th>\n",
       "      <th>가격</th>\n",
       "      <th>셀프</th>\n",
       "      <th>상표</th>\n",
       "      <th>구</th>\n",
       "    </tr>\n",
       "  </thead>\n",
       "  <tbody>\n",
       "    <tr>\n",
       "      <th>101</th>\n",
       "      <td>뉴신정주유소</td>\n",
       "      <td>서울 강서구 곰달래로 207 (화곡동)</td>\n",
       "      <td>1574.0</td>\n",
       "      <td>N</td>\n",
       "      <td>알뜰주유소</td>\n",
       "      <td>강서구</td>\n",
       "    </tr>\n",
       "    <tr>\n",
       "      <th>100</th>\n",
       "      <td>화곡역주유소</td>\n",
       "      <td>서울 강서구 강서로 154 (화곡동)</td>\n",
       "      <td>1574.0</td>\n",
       "      <td>Y</td>\n",
       "      <td>알뜰주유소</td>\n",
       "      <td>강서구</td>\n",
       "    </tr>\n",
       "    <tr>\n",
       "      <th>99</th>\n",
       "      <td>목화주유소</td>\n",
       "      <td>서울 강서구 국회대로 251 (화곡동)</td>\n",
       "      <td>1574.0</td>\n",
       "      <td>Y</td>\n",
       "      <td>알뜰주유소</td>\n",
       "      <td>강서구</td>\n",
       "    </tr>\n",
       "    <tr>\n",
       "      <th>98</th>\n",
       "      <td>이케이에너지(주) 강서주유소</td>\n",
       "      <td>서울 강서구 화곡로 273 (화곡동)</td>\n",
       "      <td>1574.0</td>\n",
       "      <td>Y</td>\n",
       "      <td>현대오일뱅크</td>\n",
       "      <td>강서구</td>\n",
       "    </tr>\n",
       "    <tr>\n",
       "      <th>309</th>\n",
       "      <td>현대주유소</td>\n",
       "      <td>서울 양천구 남부순환로 372 (신월동)</td>\n",
       "      <td>1577.0</td>\n",
       "      <td>Y</td>\n",
       "      <td>S-OIL</td>\n",
       "      <td>양천구</td>\n",
       "    </tr>\n",
       "    <tr>\n",
       "      <th>102</th>\n",
       "      <td>KH에너지(주)직영 KH외발산주유소</td>\n",
       "      <td>서울 강서구 방화대로 30</td>\n",
       "      <td>1587.0</td>\n",
       "      <td>Y</td>\n",
       "      <td>SK에너지</td>\n",
       "      <td>강서구</td>\n",
       "    </tr>\n",
       "    <tr>\n",
       "      <th>310</th>\n",
       "      <td>형산석유(주)원주유소</td>\n",
       "      <td>서울 양천구 남부순환로 408</td>\n",
       "      <td>1589.0</td>\n",
       "      <td>N</td>\n",
       "      <td>현대오일뱅크</td>\n",
       "      <td>양천구</td>\n",
       "    </tr>\n",
       "    <tr>\n",
       "      <th>103</th>\n",
       "      <td>방화주유소</td>\n",
       "      <td>서울 강서구 방화동로 58-2 (방화동)</td>\n",
       "      <td>1593.0</td>\n",
       "      <td>Y</td>\n",
       "      <td>SK에너지</td>\n",
       "      <td>강서구</td>\n",
       "    </tr>\n",
       "    <tr>\n",
       "      <th>311</th>\n",
       "      <td>개나리Self주유소</td>\n",
       "      <td>서울 양천구 남부순환로 442 (신월동)</td>\n",
       "      <td>1594.0</td>\n",
       "      <td>Y</td>\n",
       "      <td>SK에너지</td>\n",
       "      <td>양천구</td>\n",
       "    </tr>\n",
       "    <tr>\n",
       "      <th>104</th>\n",
       "      <td>유턴주유소</td>\n",
       "      <td>서울 강서구 남부순환로 57</td>\n",
       "      <td>1595.0</td>\n",
       "      <td>Y</td>\n",
       "      <td>알뜰주유소</td>\n",
       "      <td>강서구</td>\n",
       "    </tr>\n",
       "  </tbody>\n",
       "</table>\n",
       "</div>"
      ],
      "text/plain": [
       "                      상호                      주소      가격 셀프      상표    구\n",
       "101               뉴신정주유소   서울 강서구 곰달래로 207 (화곡동)  1574.0  N   알뜰주유소  강서구\n",
       "100               화곡역주유소    서울 강서구 강서로 154 (화곡동)  1574.0  Y   알뜰주유소  강서구\n",
       "99                 목화주유소   서울 강서구 국회대로 251 (화곡동)  1574.0  Y   알뜰주유소  강서구\n",
       "98       이케이에너지(주) 강서주유소    서울 강서구 화곡로 273 (화곡동)  1574.0  Y  현대오일뱅크  강서구\n",
       "309                현대주유소  서울 양천구 남부순환로 372 (신월동)  1577.0  Y   S-OIL  양천구\n",
       "102  KH에너지(주)직영 KH외발산주유소          서울 강서구 방화대로 30  1587.0  Y   SK에너지  강서구\n",
       "310          형산석유(주)원주유소        서울 양천구 남부순환로 408  1589.0  N  현대오일뱅크  양천구\n",
       "103                방화주유소  서울 강서구 방화동로 58-2 (방화동)  1593.0  Y   SK에너지  강서구\n",
       "311           개나리Self주유소  서울 양천구 남부순환로 442 (신월동)  1594.0  Y   SK에너지  양천구\n",
       "104                유턴주유소         서울 강서구 남부순환로 57  1595.0  Y   알뜰주유소  강서구"
      ]
     },
     "execution_count": 142,
     "metadata": {},
     "output_type": "execute_result"
    }
   ],
   "source": [
    "gas_data.sort_values(by=\"가격\", ascending=True).head(10)"
   ]
  },
  {
   "cell_type": "code",
   "execution_count": 143,
   "metadata": {},
   "outputs": [
    {
     "data": {
      "text/html": [
       "<div>\n",
       "<style scoped>\n",
       "    .dataframe tbody tr th:only-of-type {\n",
       "        vertical-align: middle;\n",
       "    }\n",
       "\n",
       "    .dataframe tbody tr th {\n",
       "        vertical-align: top;\n",
       "    }\n",
       "\n",
       "    .dataframe thead th {\n",
       "        text-align: right;\n",
       "    }\n",
       "</style>\n",
       "<table border=\"1\" class=\"dataframe\">\n",
       "  <thead>\n",
       "    <tr style=\"text-align: right;\">\n",
       "      <th></th>\n",
       "      <th>가격</th>\n",
       "    </tr>\n",
       "    <tr>\n",
       "      <th>구</th>\n",
       "      <th></th>\n",
       "    </tr>\n",
       "  </thead>\n",
       "  <tbody>\n",
       "    <tr>\n",
       "      <th>강남구</th>\n",
       "      <td>1916.058824</td>\n",
       "    </tr>\n",
       "    <tr>\n",
       "      <th>강동구</th>\n",
       "      <td>1760.928571</td>\n",
       "    </tr>\n",
       "    <tr>\n",
       "      <th>강북구</th>\n",
       "      <td>1642.750000</td>\n",
       "    </tr>\n",
       "    <tr>\n",
       "      <th>강서구</th>\n",
       "      <td>1680.090909</td>\n",
       "    </tr>\n",
       "    <tr>\n",
       "      <th>관악구</th>\n",
       "      <td>1711.357143</td>\n",
       "    </tr>\n",
       "  </tbody>\n",
       "</table>\n",
       "</div>"
      ],
      "text/plain": [
       "              가격\n",
       "구               \n",
       "강남구  1916.058824\n",
       "강동구  1760.928571\n",
       "강북구  1642.750000\n",
       "강서구  1680.090909\n",
       "관악구  1711.357143"
      ]
     },
     "execution_count": 143,
     "metadata": {},
     "output_type": "execute_result"
    }
   ],
   "source": [
    "import numpy as np\n",
    "\n",
    "gu_data = pd.pivot_table(data=gas_data, index=\"구\", values=\"가격\", aggfunc=np.mean)\n",
    "gu_data.head()"
   ]
  },
  {
   "cell_type": "code",
   "execution_count": 144,
   "metadata": {},
   "outputs": [
    {
     "ename": "TypeError",
     "evalue": "'NoneType' object is not subscriptable",
     "output_type": "error",
     "traceback": [
      "\u001b[0;31m---------------------------------------------------------------------------\u001b[0m",
      "\u001b[0;31mTypeError\u001b[0m                                 Traceback (most recent call last)",
      "Cell \u001b[0;32mIn [144], line 5\u001b[0m\n\u001b[1;32m      2\u001b[0m geo_str \u001b[38;5;241m=\u001b[39m json\u001b[38;5;241m.\u001b[39mload(\u001b[38;5;28mopen\u001b[39m(geo_path, encoding\u001b[38;5;241m=\u001b[39m\u001b[38;5;124m\"\u001b[39m\u001b[38;5;124mutf-8\u001b[39m\u001b[38;5;124m\"\u001b[39m))\n\u001b[1;32m      4\u001b[0m my_map \u001b[38;5;241m=\u001b[39m folium\u001b[38;5;241m.\u001b[39mMap(location\u001b[38;5;241m=\u001b[39m[\u001b[38;5;241m37.5502\u001b[39m, \u001b[38;5;241m126.982\u001b[39m], zoom_start\u001b[38;5;241m=\u001b[39m\u001b[38;5;241m10.5\u001b[39m, tiles\u001b[38;5;241m=\u001b[39m\u001b[38;5;124m\"\u001b[39m\u001b[38;5;124mStamen Toner\u001b[39m\u001b[38;5;124m\"\u001b[39m)\n\u001b[0;32m----> 5\u001b[0m \u001b[43mmy_map\u001b[49m\u001b[38;5;241;43m.\u001b[39;49m\u001b[43mchoropleth\u001b[49m\u001b[43m(\u001b[49m\n\u001b[1;32m      6\u001b[0m \u001b[43m    \u001b[49m\u001b[43mgeo_data\u001b[49m\u001b[38;5;241;43m=\u001b[39;49m\u001b[43mgeo_str\u001b[49m\u001b[43m,\u001b[49m\n\u001b[1;32m      7\u001b[0m \u001b[43m    \u001b[49m\u001b[43mdata\u001b[49m\u001b[38;5;241;43m=\u001b[39;49m\u001b[43mgu_data\u001b[49m\u001b[43m,\u001b[49m\n\u001b[1;32m      8\u001b[0m \u001b[43m    \u001b[49m\u001b[43mcolimns\u001b[49m\u001b[38;5;241;43m=\u001b[39;49m\u001b[43m[\u001b[49m\u001b[43mgu_data\u001b[49m\u001b[38;5;241;43m.\u001b[39;49m\u001b[43mindex\u001b[49m\u001b[43m,\u001b[49m\u001b[43m \u001b[49m\u001b[38;5;124;43m\"\u001b[39;49m\u001b[38;5;124;43m가격\u001b[39;49m\u001b[38;5;124;43m\"\u001b[39;49m\u001b[43m]\u001b[49m\u001b[43m,\u001b[49m\n\u001b[1;32m      9\u001b[0m \u001b[43m    \u001b[49m\u001b[43mkey_on\u001b[49m\u001b[38;5;241;43m=\u001b[39;49m\u001b[38;5;124;43m\"\u001b[39;49m\u001b[38;5;124;43mfeature.id\u001b[39;49m\u001b[38;5;124;43m\"\u001b[39;49m\u001b[43m,\u001b[49m\n\u001b[1;32m     10\u001b[0m \u001b[43m    \u001b[49m\u001b[43mfill_color\u001b[49m\u001b[38;5;241;43m=\u001b[39;49m\u001b[38;5;124;43m\"\u001b[39;49m\u001b[38;5;124;43mPuRd\u001b[39;49m\u001b[38;5;124;43m\"\u001b[39;49m\n\u001b[1;32m     11\u001b[0m \u001b[43m)\u001b[49m\n\u001b[1;32m     13\u001b[0m my_map\n",
      "File \u001b[0;32m~/venv/study/lib/python3.8/site-packages/folium/folium.py:414\u001b[0m, in \u001b[0;36mMap.choropleth\u001b[0;34m(self, *args, **kwargs)\u001b[0m\n\u001b[1;32m    407\u001b[0m warnings\u001b[38;5;241m.\u001b[39mwarn(\n\u001b[1;32m    408\u001b[0m     \u001b[38;5;124m'\u001b[39m\u001b[38;5;124mThe choropleth  method has been deprecated. Instead use the new \u001b[39m\u001b[38;5;124m'\u001b[39m\n\u001b[1;32m    409\u001b[0m     \u001b[38;5;124m'\u001b[39m\u001b[38;5;124mChoropleth class, which has the same arguments. See the example \u001b[39m\u001b[38;5;124m'\u001b[39m\n\u001b[1;32m    410\u001b[0m     \u001b[38;5;124m'\u001b[39m\u001b[38;5;124mnotebook \u001b[39m\u001b[38;5;130;01m\\'\u001b[39;00m\u001b[38;5;124mGeoJSON_and_choropleth\u001b[39m\u001b[38;5;130;01m\\'\u001b[39;00m\u001b[38;5;124m for how to do this.\u001b[39m\u001b[38;5;124m'\u001b[39m,\n\u001b[1;32m    411\u001b[0m     \u001b[38;5;167;01mFutureWarning\u001b[39;00m\n\u001b[1;32m    412\u001b[0m )\n\u001b[1;32m    413\u001b[0m \u001b[38;5;28;01mfrom\u001b[39;00m \u001b[38;5;21;01mfolium\u001b[39;00m\u001b[38;5;21;01m.\u001b[39;00m\u001b[38;5;21;01mfeatures\u001b[39;00m \u001b[38;5;28;01mimport\u001b[39;00m Choropleth\n\u001b[0;32m--> 414\u001b[0m \u001b[38;5;28mself\u001b[39m\u001b[38;5;241m.\u001b[39madd_child(\u001b[43mChoropleth\u001b[49m\u001b[43m(\u001b[49m\u001b[38;5;241;43m*\u001b[39;49m\u001b[43margs\u001b[49m\u001b[43m,\u001b[49m\u001b[43m \u001b[49m\u001b[38;5;241;43m*\u001b[39;49m\u001b[38;5;241;43m*\u001b[39;49m\u001b[43mkwargs\u001b[49m\u001b[43m)\u001b[49m)\n",
      "File \u001b[0;32m~/venv/study/lib/python3.8/site-packages/folium/features.py:1201\u001b[0m, in \u001b[0;36mChoropleth.__init__\u001b[0;34m(self, geo_data, data, columns, key_on, bins, fill_color, nan_fill_color, fill_opacity, nan_fill_opacity, line_color, line_weight, line_opacity, name, legend_name, overlay, control, show, topojson, smooth_factor, highlight, **kwargs)\u001b[0m\n\u001b[1;32m   1198\u001b[0m \u001b[38;5;66;03m# Create color_data dict\u001b[39;00m\n\u001b[1;32m   1199\u001b[0m \u001b[38;5;28;01mif\u001b[39;00m \u001b[38;5;28mhasattr\u001b[39m(data, \u001b[38;5;124m'\u001b[39m\u001b[38;5;124mset_index\u001b[39m\u001b[38;5;124m'\u001b[39m):\n\u001b[1;32m   1200\u001b[0m     \u001b[38;5;66;03m# This is a pd.DataFrame\u001b[39;00m\n\u001b[0;32m-> 1201\u001b[0m     color_data \u001b[38;5;241m=\u001b[39m data\u001b[38;5;241m.\u001b[39mset_index(\u001b[43mcolumns\u001b[49m\u001b[43m[\u001b[49m\u001b[38;5;241;43m0\u001b[39;49m\u001b[43m]\u001b[49m)[columns[\u001b[38;5;241m1\u001b[39m]]\u001b[38;5;241m.\u001b[39mto_dict()\n\u001b[1;32m   1202\u001b[0m \u001b[38;5;28;01melif\u001b[39;00m \u001b[38;5;28mhasattr\u001b[39m(data, \u001b[38;5;124m'\u001b[39m\u001b[38;5;124mto_dict\u001b[39m\u001b[38;5;124m'\u001b[39m):\n\u001b[1;32m   1203\u001b[0m     \u001b[38;5;66;03m# This is a pd.Series\u001b[39;00m\n\u001b[1;32m   1204\u001b[0m     color_data \u001b[38;5;241m=\u001b[39m data\u001b[38;5;241m.\u001b[39mto_dict()\n",
      "\u001b[0;31mTypeError\u001b[0m: 'NoneType' object is not subscriptable"
     ]
    }
   ],
   "source": [
    "geo_path = \"./skorea_municipalities_geo_simple.json\"\n",
    "geo_str = json.load(open(geo_path, encoding=\"utf-8\"))\n",
    "\n",
    "my_map = folium.Map(location=[37.5502, 126.982], zoom_start=10.5, tiles=\"Stamen Toner\")\n",
    "my_map.choropleth(\n",
    "    geo_data=geo_str,\n",
    "    data=gu_data,\n",
    "    colimns=[gu_data.index, \"가격\"],\n",
    "    key_on=\"feature.id\",\n",
    "    fill_color=\"PuRd\"\n",
    ")\n",
    "my_map"
   ]
  },
  {
   "cell_type": "code",
   "execution_count": null,
   "metadata": {},
   "outputs": [],
   "source": []
  }
 ],
 "metadata": {
  "kernelspec": {
   "display_name": "Python 3 (ipykernel)",
   "language": "python",
   "name": "python3"
  },
  "language_info": {
   "codemirror_mode": {
    "name": "ipython",
    "version": 3
   },
   "file_extension": ".py",
   "mimetype": "text/x-python",
   "name": "python",
   "nbconvert_exporter": "python",
   "pygments_lexer": "ipython3",
   "version": "3.8.10"
  }
 },
 "nbformat": 4,
 "nbformat_minor": 4
}
